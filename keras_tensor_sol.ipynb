{
  "cells": [
    {
      "cell_type": "code",
      "execution_count": 1,
      "metadata": {
        "id": "WpkXnHGvgDEr"
      },
      "outputs": [],
      "source": [
        "import numpy as np\n",
        "import pandas as pd\n",
        "from keras.models import Sequential\n",
        "from keras.layers import Dense, Dropout\n",
        "from sklearn.model_selection import train_test_split\n",
        "from sklearn.metrics import mean_absolute_error\n",
        "import tensorflow as tf\n",
        "from keras.utils import np_utils\n",
        "\n",
        "import matplotlib as mpl\n",
        "import matplotlib.pyplot as plt\n",
        "from sklearn.decomposition import TruncatedSVD"
      ]
    },
    {
      "cell_type": "code",
      "execution_count": 2,
      "metadata": {
        "id": "NgejGDbGgDEs"
      },
      "outputs": [],
      "source": [
        "# Helper to plot loss\n",
        "def plot_loss(history):\n",
        "  plt.plot(history.history['loss'], label='loss')\n",
        "  plt.plot(history.history['val_loss'], label='val_loss')\n",
        "  plt.legend()\n",
        "  plt.grid(True)"
      ]
    },
    {
      "cell_type": "markdown",
      "metadata": {
        "id": "4ztG-v2ogDEt"
      },
      "source": [
        "# Keras, TensorFlow, and Neural Network Regression\n",
        "\n",
        "As we have seen, neural networks aren't quite as complex as they appear at first, however we still generally don't want to have to build them from scratch very often. The libraries that we will primarily use for creating neural network models are Tensorflow and Keras. \n",
        "\n",
        "### Tensorflow\n",
        "\n",
        "Tensorflow, developed by Google, is one of the most popular libraries for neural networks. \n",
        "\n",
        "### Keras\n",
        "\n",
        "Keras is another package that provides an an API offering an easier to use interface to Tensorflow, allowing us to use it with code that is higher level, avoiding much of the linear math that can make Tensorflow frustrating. Since its introduction Keras has been wrapped in with Tensorflow and the two are normally now blended together as far as we are concerned. \n",
        "\n",
        "### Other Alternatives\n",
        "\n",
        "Keras and Tensorflow are not the only libraries of neural networks, the primary competitor to Tensorflow is PyTorch, which was developed by Facebook. PyTorch does pretty much the same thing as Tensorflow, we won't look at it. "
      ]
    },
    {
      "cell_type": "code",
      "execution_count": null,
      "metadata": {
        "id": "vn-OkbTigDEv",
        "outputId": "305d1732-b6c0-4812-ea68-abeb0629eadb"
      },
      "outputs": [
        {
          "data": {
            "text/html": [
              "<div>\n",
              "<style scoped>\n",
              "    .dataframe tbody tr th:only-of-type {\n",
              "        vertical-align: middle;\n",
              "    }\n",
              "\n",
              "    .dataframe tbody tr th {\n",
              "        vertical-align: top;\n",
              "    }\n",
              "\n",
              "    .dataframe thead th {\n",
              "        text-align: right;\n",
              "    }\n",
              "</style>\n",
              "<table border=\"1\" class=\"dataframe\">\n",
              "  <thead>\n",
              "    <tr style=\"text-align: right;\">\n",
              "      <th></th>\n",
              "      <th>price</th>\n",
              "      <th>bedrooms</th>\n",
              "      <th>bathrooms</th>\n",
              "      <th>sqft_living</th>\n",
              "      <th>sqft_lot</th>\n",
              "      <th>floors</th>\n",
              "      <th>waterfront</th>\n",
              "      <th>view</th>\n",
              "      <th>condition</th>\n",
              "      <th>grade</th>\n",
              "      <th>sqft_above</th>\n",
              "      <th>sqft_basement</th>\n",
              "      <th>yr_built</th>\n",
              "      <th>yr_renovated</th>\n",
              "      <th>zipcode</th>\n",
              "      <th>lat</th>\n",
              "      <th>long</th>\n",
              "      <th>sqft_living15</th>\n",
              "      <th>sqft_lot15</th>\n",
              "    </tr>\n",
              "  </thead>\n",
              "  <tbody>\n",
              "    <tr>\n",
              "      <th>21608</th>\n",
              "      <td>360000.0</td>\n",
              "      <td>3</td>\n",
              "      <td>2.50</td>\n",
              "      <td>1530</td>\n",
              "      <td>1131</td>\n",
              "      <td>3.0</td>\n",
              "      <td>0</td>\n",
              "      <td>0</td>\n",
              "      <td>3</td>\n",
              "      <td>8</td>\n",
              "      <td>1530</td>\n",
              "      <td>0</td>\n",
              "      <td>2009</td>\n",
              "      <td>0</td>\n",
              "      <td>98103</td>\n",
              "      <td>47.6993</td>\n",
              "      <td>-122.346</td>\n",
              "      <td>1530</td>\n",
              "      <td>1509</td>\n",
              "    </tr>\n",
              "    <tr>\n",
              "      <th>21609</th>\n",
              "      <td>400000.0</td>\n",
              "      <td>4</td>\n",
              "      <td>2.50</td>\n",
              "      <td>2310</td>\n",
              "      <td>5813</td>\n",
              "      <td>2.0</td>\n",
              "      <td>0</td>\n",
              "      <td>0</td>\n",
              "      <td>3</td>\n",
              "      <td>8</td>\n",
              "      <td>2310</td>\n",
              "      <td>0</td>\n",
              "      <td>2014</td>\n",
              "      <td>0</td>\n",
              "      <td>98146</td>\n",
              "      <td>47.5107</td>\n",
              "      <td>-122.362</td>\n",
              "      <td>1830</td>\n",
              "      <td>7200</td>\n",
              "    </tr>\n",
              "    <tr>\n",
              "      <th>21610</th>\n",
              "      <td>402101.0</td>\n",
              "      <td>2</td>\n",
              "      <td>0.75</td>\n",
              "      <td>1020</td>\n",
              "      <td>1350</td>\n",
              "      <td>2.0</td>\n",
              "      <td>0</td>\n",
              "      <td>0</td>\n",
              "      <td>3</td>\n",
              "      <td>7</td>\n",
              "      <td>1020</td>\n",
              "      <td>0</td>\n",
              "      <td>2009</td>\n",
              "      <td>0</td>\n",
              "      <td>98144</td>\n",
              "      <td>47.5944</td>\n",
              "      <td>-122.299</td>\n",
              "      <td>1020</td>\n",
              "      <td>2007</td>\n",
              "    </tr>\n",
              "    <tr>\n",
              "      <th>21611</th>\n",
              "      <td>400000.0</td>\n",
              "      <td>3</td>\n",
              "      <td>2.50</td>\n",
              "      <td>1600</td>\n",
              "      <td>2388</td>\n",
              "      <td>2.0</td>\n",
              "      <td>0</td>\n",
              "      <td>0</td>\n",
              "      <td>3</td>\n",
              "      <td>8</td>\n",
              "      <td>1600</td>\n",
              "      <td>0</td>\n",
              "      <td>2004</td>\n",
              "      <td>0</td>\n",
              "      <td>98027</td>\n",
              "      <td>47.5345</td>\n",
              "      <td>-122.069</td>\n",
              "      <td>1410</td>\n",
              "      <td>1287</td>\n",
              "    </tr>\n",
              "    <tr>\n",
              "      <th>21612</th>\n",
              "      <td>325000.0</td>\n",
              "      <td>2</td>\n",
              "      <td>0.75</td>\n",
              "      <td>1020</td>\n",
              "      <td>1076</td>\n",
              "      <td>2.0</td>\n",
              "      <td>0</td>\n",
              "      <td>0</td>\n",
              "      <td>3</td>\n",
              "      <td>7</td>\n",
              "      <td>1020</td>\n",
              "      <td>0</td>\n",
              "      <td>2008</td>\n",
              "      <td>0</td>\n",
              "      <td>98144</td>\n",
              "      <td>47.5941</td>\n",
              "      <td>-122.299</td>\n",
              "      <td>1020</td>\n",
              "      <td>1357</td>\n",
              "    </tr>\n",
              "  </tbody>\n",
              "</table>\n",
              "</div>"
            ],
            "text/plain": [
              "          price  bedrooms  bathrooms  sqft_living  sqft_lot  floors  \\\n",
              "21608  360000.0         3       2.50         1530      1131     3.0   \n",
              "21609  400000.0         4       2.50         2310      5813     2.0   \n",
              "21610  402101.0         2       0.75         1020      1350     2.0   \n",
              "21611  400000.0         3       2.50         1600      2388     2.0   \n",
              "21612  325000.0         2       0.75         1020      1076     2.0   \n",
              "\n",
              "       waterfront  view  condition  grade  sqft_above  sqft_basement  \\\n",
              "21608           0     0          3      8        1530              0   \n",
              "21609           0     0          3      8        2310              0   \n",
              "21610           0     0          3      7        1020              0   \n",
              "21611           0     0          3      8        1600              0   \n",
              "21612           0     0          3      7        1020              0   \n",
              "\n",
              "       yr_built  yr_renovated  zipcode      lat     long  sqft_living15  \\\n",
              "21608      2009             0    98103  47.6993 -122.346           1530   \n",
              "21609      2014             0    98146  47.5107 -122.362           1830   \n",
              "21610      2009             0    98144  47.5944 -122.299           1020   \n",
              "21611      2004             0    98027  47.5345 -122.069           1410   \n",
              "21612      2008             0    98144  47.5941 -122.299           1020   \n",
              "\n",
              "       sqft_lot15  \n",
              "21608        1509  \n",
              "21609        7200  \n",
              "21610        2007  \n",
              "21611        1287  \n",
              "21612        1357  "
            ]
          },
          "execution_count": 3,
          "metadata": {},
          "output_type": "execute_result"
        }
      ],
      "source": [
        "df = pd.read_csv(\"data/house_data.csv\")\n",
        "df.tail()"
      ]
    },
    {
      "cell_type": "code",
      "execution_count": null,
      "metadata": {
        "id": "G1NadKFXgDEw",
        "outputId": "e11f4911-7a3f-4dc4-99f9-4de8e476472f"
      },
      "outputs": [
        {
          "name": "stdout",
          "output_type": "stream",
          "text": [
            "<class 'pandas.core.frame.DataFrame'>\n",
            "RangeIndex: 21613 entries, 0 to 21612\n",
            "Data columns (total 19 columns):\n",
            " #   Column         Non-Null Count  Dtype  \n",
            "---  ------         --------------  -----  \n",
            " 0   price          21613 non-null  float64\n",
            " 1   bedrooms       21613 non-null  int64  \n",
            " 2   bathrooms      21613 non-null  float64\n",
            " 3   sqft_living    21613 non-null  int64  \n",
            " 4   sqft_lot       21613 non-null  int64  \n",
            " 5   floors         21613 non-null  float64\n",
            " 6   waterfront     21613 non-null  int64  \n",
            " 7   view           21613 non-null  int64  \n",
            " 8   condition      21613 non-null  int64  \n",
            " 9   grade          21613 non-null  int64  \n",
            " 10  sqft_above     21613 non-null  int64  \n",
            " 11  sqft_basement  21613 non-null  int64  \n",
            " 12  yr_built       21613 non-null  int64  \n",
            " 13  yr_renovated   21613 non-null  int64  \n",
            " 14  zipcode        21613 non-null  int64  \n",
            " 15  lat            21613 non-null  float64\n",
            " 16  long           21613 non-null  float64\n",
            " 17  sqft_living15  21613 non-null  int64  \n",
            " 18  sqft_lot15     21613 non-null  int64  \n",
            "dtypes: float64(5), int64(14)\n",
            "memory usage: 3.1 MB\n"
          ]
        }
      ],
      "source": [
        "df.info()"
      ]
    },
    {
      "cell_type": "code",
      "execution_count": null,
      "metadata": {
        "id": "cuF9OL3_gDEx",
        "outputId": "16d33c4d-e2a6-47ae-9f33-ac299219767b"
      },
      "outputs": [
        {
          "name": "stdout",
          "output_type": "stream",
          "text": [
            "(21613, 18) (21613, 1)\n"
          ]
        }
      ],
      "source": [
        "y = np.array(df[\"price\"]).reshape(-1,1)\n",
        "X = np.array(df.drop(columns={\"price\"}))\n",
        "print(X.shape, y.shape)\n",
        "X_train, X_test, y_train, y_test = train_test_split(X, y)"
      ]
    },
    {
      "cell_type": "markdown",
      "metadata": {
        "id": "EReptjhIgDEx"
      },
      "source": [
        "## Create Model\n",
        "\n",
        "Creating a NN model is slightly different from the normal process that we are used to in sklearn. We need to do a little more work to set it up. \n",
        "\n",
        "### Create Model and Add Layers\n",
        "\n",
        "First we need to make a NN model, it comes \"empty\". We will use a sequential model, which is the most simple type but is less configurable (which we don't care about much right now). The limitation of sequential models is that they can only take in one tensor and only output one tensor. The other options here are \"functional\", which allows for the structure of the model to be configured, and \"model subclassing\", which allows you to build almost everything from scratch. \n",
        "\n",
        "#### Layers\n",
        "\n",
        "Next we need to add some layers. We will start simple with only two \"thinking\" layers, and one to do some processing. We can think of the layers roughly like steps of the sklearn pipeline, with data entering at the first layer and predictions flowing out of the final layer. \n",
        "\n",
        "In addition to \"normal\" neural network layers, there are many other types that can do all kinds of other stuff. One example we will use here is the normalization one at the front. This layer does exactly what you'd expect - it normalizes our data so the rest of the network can use it. The normalize layer will also automatically handle the 2D nature of the data that we are used to, so we don't need to worry about that aspect here. Other layers can do everything from regularization to image processing, they are also commonly inhierited for developers to create custom layers targeting specific tasks. We'll use a few of the other ones as we move through things. \n",
        "\n",
        "#### Dense Layers\n",
        "\n",
        "We'll use dense layers here. When adding the layer we need to specify a couple of things. One is the input dimensions - we need to tell the network what the shape of the incomming data is. \n",
        "\n",
        "The other argument is the units, which represents the output dimension. When using these Keras dense layers we don't need to specify each layer's input/output like we did when we made it by hand. We specify both, using units and input_dim, for the first layer that takes in the input; for subsequent layers we can just specify the output and Keras will automatically figure the rest out. \n",
        "\n",
        "Note that there is also an input layer that can be added, we can avoid the need for it by using the input_dim or input_shape as shown below. The two examples there do the same thing, since the input is flat - 18 features. If we are dealing with inputs that do not start out as flat, such as in an image, use the input_shape since you can specify all dimensions; we will see an example of this next time with some images. \n",
        "\n",
        "#### Activation Function\n",
        "\n",
        "For each of our layers we need to define which activation function to use. For now we will use the ReLU function, which is probably the most popular. We'll look at other ones later on. \n",
        "\n",
        "Note that we've left the activation function off of the final layer - we are doing regression so we want that raw value.\n",
        "\n",
        "#### Summary\n",
        "\n",
        "After we've constructed the model, the summary command give us, well, a summary. "
      ]
    },
    {
      "cell_type": "markdown",
      "metadata": {
        "id": "GVer_JdOgDEy"
      },
      "source": [
        "We are dealing with a bunch of numerical inputs here, so we can add a normalization layer at the front end. Like with sklearn, we want to fit the normalization to the training data only. "
      ]
    },
    {
      "cell_type": "code",
      "execution_count": null,
      "metadata": {
        "id": "_oKOvU-hgDEy",
        "outputId": "c41cab5c-8471-4e8a-db80-c8ea62d8d5e4"
      },
      "outputs": [
        {
          "name": "stdout",
          "output_type": "stream",
          "text": [
            "Model: \"sequential_12\"\n",
            "_________________________________________________________________\n",
            " Layer (type)                Output Shape              Param #   \n",
            "=================================================================\n",
            " normalization_12 (Normaliza  (None, 18)               37        \n",
            " tion)                                                           \n",
            "                                                                 \n",
            " dense_47 (Dense)            (None, 18)                342       \n",
            "                                                                 \n",
            " dense_48 (Dense)            (None, 1)                 19        \n",
            "                                                                 \n",
            "=================================================================\n",
            "Total params: 398\n",
            "Trainable params: 361\n",
            "Non-trainable params: 37\n",
            "_________________________________________________________________\n"
          ]
        }
      ],
      "source": [
        "normalizer = tf.keras.layers.Normalization(axis=-1)\n",
        "normalizer.adapt(np.array(X_train))\n",
        "\n",
        "model = Sequential()\n",
        "model.add(normalizer)\n",
        "model.add(Dense(18, input_shape=(18,), activation='relu'))\n",
        "#model.add(Dense(18, input_dim=18, activation='relu'))\n",
        "model.add(Dense(1))\n",
        "model.summary()"
      ]
    },
    {
      "cell_type": "markdown",
      "metadata": {
        "id": "zilMspwngDEz"
      },
      "source": [
        "#### Compile Model\n",
        "\n",
        "Once a model is created we need to compile it. The complie step basically builds the layers we specified above and the loss and optimization parameters below together into a usable model object. When compiling the model we are providing it with the things it needs to calculate error:\n",
        "\n",
        "<ul>\n",
        "<li> Loss - we can provide a loss function that we'd like to use. \n",
        "<li> Optimizer - the optimizer is the algorithm that the model will use to perform the gradient descent to find the lowest error. Adam is a very common choice.\n",
        "<li> Learning rate - the learning rate is provided as a parameter of the optimizer. \n",
        "</ul>\n",
        "\n",
        "##### Optimizing Adam\n",
        "\n",
        "The optimizer is the algorithm used to perform the gradient descent and minimize error. For the most part this isn't something we need to be concerned about. The choice of optimizer is much more important if dealing with very large datasets because different optimizers have different levels of efficiency. For our purposes, we can use Adam and be pretty happy. Adam stands for Adaptive Moment Estimation which means basically that it will adjust itself depending on current gradients. It tends to be efficient both in time and memory, so it is very commonly used. "
      ]
    },
    {
      "cell_type": "code",
      "execution_count": null,
      "metadata": {
        "id": "KV1AvaOXgDEz"
      },
      "outputs": [],
      "source": [
        "model.compile(loss='mean_absolute_error', optimizer=tf.optimizers.Adam(learning_rate=.01))"
      ]
    },
    {
      "cell_type": "markdown",
      "metadata": {
        "id": "aGZf4WEdgDEz"
      },
      "source": [
        "### Fit the Model\n",
        "\n",
        "The fit command does the same thing that we are used to, it trains the model, however there are some differences. The main difference is that batch_size is almost always set in neural networks, while the sklearn models just take all the data at once. \n",
        "\n",
        "What's a batch? Batches are just subsets of the data, so if the batch size is 100 the algorithm will grab 100 rows at a time before making an update to the weights and bias. There are a few reasons this exists:\n",
        "\n",
        "<ul>\n",
        "<li> Memory constraints - it is common with neural networks to deal with datasets that are extremely large. Processing data that can't fit entirely in RAM is very slow (the computer must swap data from the hard drive to RAM as it is needed) compared to data that is in RAM. Cutting the batch size can avoid this issue. \n",
        "<li> Speed - the math involved in the back propagation can sometimes be very computationally intensive. \n",
        "<li> Accuracy - batch size can have an impact on accuracy, though that impact is not very predictable. For the most part finding an optimal batch size will need to be grid-searched. \n",
        "</ul>\n",
        "\n",
        "The fit command also has the epoch paramater, which instructs on how many times to work through ALL of the data. We want to ensure we have enough epochs to find the optimal solution. \n",
        "\n",
        "#### Plot the Loss\n",
        "\n",
        "One very common visualization we see with neural networks is a plot of both training and validation loss vs number of epochs. Generally we'll see the training loss drop - first sharply as the model initially fits itself, then more slowly as it becomes more fitted. The validation loss will usually somewhat mirror the training loss, except it will often reach a minimum at some point before again increasing. This minimum point is our best model, when the validation loss starts increasing again, that is a sign that the model has become overfitted - customized to the training data, but less and less generalizable to new data. \n",
        "\n",
        "Set the verbosity to 1 in the fit to get a full list of the loss for each epoch to pinpoint the exact \"ideal\" number of epochs. We'll look more at this in a minute. "
      ]
    },
    {
      "cell_type": "code",
      "execution_count": null,
      "metadata": {
        "id": "RSGTTrdHgDE0",
        "outputId": "3b6c95bd-5002-41ca-9a42-47a753d0fabe"
      },
      "outputs": [
        {
          "name": "stdout",
          "output_type": "stream",
          "text": [
            "169/169 [==============================] - 0s 970us/step - loss: 103542.7031\n"
          ]
        },
        {
          "data": {
            "image/png": "[encoded data removed]",
            "text/plain": [
              "<Figure size 432x288 with 1 Axes>"
            ]
          },
          "metadata": {
            "needs_background": "light"
          },
          "output_type": "display_data"
        }
      ],
      "source": [
        "train_log = model.fit(X_train, y_train, epochs=5000, batch_size=100, validation_split=.2, verbose=0)\n",
        "model.evaluate(X_test, y_test)\n",
        "plot_loss(train_log)"
      ]
    },
    {
      "cell_type": "markdown",
      "metadata": {
        "id": "ln3LQom7gDE1"
      },
      "source": [
        "## Overfitting and Underfitting in Neural Networks\n",
        "\n",
        "Just like any other type of model, our primary task in trying to attain an accurate set of predictions is to balance the overfitting and underfitting. In a neural network, the ideas are the same as with standard models, however the tools and their usage can differ slightly. \n",
        "\n",
        "### Add Data\n",
        "\n",
        "Adding data to the training set is the number one way to improve accuracy. As noted above, neural networks are commonly able to acheive very high accuracy levels if provided with very large training sets. For smaller datasets, the probability of a neural network being the best model is much lower than with big data. \n",
        "\n",
        "### Model Capacity\n",
        "\n",
        "The model capacity is the \"size\" of the model - refering to the combination of the number of neurons on each layer and the number of layers. \n",
        "\n",
        "In general the larger a feature set is, the larger a capacity we will need to be able to avoid underfitting and make accurate predictions. However, similar to a decision tree, if the model becomes too large for the data, we are likely to overfit. \n",
        "\n",
        "In big data scenarios (e.g. Google or Tesla training image recognition models) the feature sets can be massive (e.g. a 5 megapixel image is at least 15 million features) so the networks used have a very high capacity. Because there is a lot of training data, the model is able to have a huge capacity, but not overfit. These models can take FOREVER to process (e.g. weeks with the work paralellized on dedicated and fast machines) but they are able to make very accurate predictions since they get all the \"benefits\" of overfitting - predictions highly tailored to the training data; along with all the \"benefits\" of underfitting - since there is so much training data, they are still generalized enough to predict new data. \n",
        "\n",
        "The combination of large datasets, deep networks, and fast processing allows for most of the modern AI that we see or interact with. "
      ]
    },
    {
      "cell_type": "code",
      "execution_count": null,
      "metadata": {
        "id": "v9jC3uTxgDE2",
        "outputId": "8b663278-ab37-4bc3-fefb-72bab729925e"
      },
      "outputs": [
        {
          "name": "stdout",
          "output_type": "stream",
          "text": [
            "Model: \"sequential_3\"\n",
            "_________________________________________________________________\n",
            " Layer (type)                Output Shape              Param #   \n",
            "=================================================================\n",
            " normalization_3 (Normalizat  (None, 18)               37        \n",
            " ion)                                                            \n",
            "                                                                 \n",
            " dense_12 (Dense)            (None, 512)               9728      \n",
            "                                                                 \n",
            " dense_13 (Dense)            (None, 512)               262656    \n",
            "                                                                 \n",
            " dense_14 (Dense)            (None, 512)               262656    \n",
            "                                                                 \n",
            " dense_15 (Dense)            (None, 512)               262656    \n",
            "                                                                 \n",
            " dense_16 (Dense)            (None, 1)                 513       \n",
            "                                                                 \n",
            "=================================================================\n",
            "Total params: 798,246\n",
            "Trainable params: 798,209\n",
            "Non-trainable params: 37\n",
            "_________________________________________________________________\n"
          ]
        }
      ],
      "source": [
        "#Test Different Model Capacities\n",
        "normalizer = tf.keras.layers.Normalization(axis=-1)\n",
        "normalizer.adapt(np.array(X_train))\n",
        "\n",
        "model = Sequential()\n",
        "model.add(normalizer)\n",
        "model.add(Dense(128, input_dim=18, activation='relu'))\n",
        "model.add(Dense(128, activation='relu'))\n",
        "model.add(Dense(128, activation='relu'))\n",
        "model.add(Dense(128, activation='relu'))\n",
        "model.add(Dense(1))\n",
        "model.summary()"
      ]
    },
    {
      "cell_type": "code",
      "execution_count": null,
      "metadata": {
        "id": "5PPSryjMgDE2",
        "outputId": "d15fde75-703b-46e2-b6cb-33682eac41bd"
      },
      "outputs": [
        {
          "name": "stdout",
          "output_type": "stream",
          "text": [
            "169/169 [==============================] - 0s 2ms/step - loss: 79104.9219\n"
          ]
        },
        {
          "data": {
            "image/png": "[encoded data removed]",
            "text/plain": [
              "<Figure size 432x288 with 1 Axes>"
            ]
          },
          "metadata": {
            "needs_background": "light"
          },
          "output_type": "display_data"
        }
      ],
      "source": [
        "model.compile(loss='mean_absolute_error', optimizer=tf.optimizers.Adam(learning_rate=.01))\n",
        "train_log = model.fit(X_train, y_train, epochs=1000, batch_size=1000, validation_split=.2, verbose=0)\n",
        "model.evaluate(X_test, y_test)\n",
        "plot_loss(train_log)"
      ]
    },
    {
      "cell_type": "markdown",
      "metadata": {
        "id": "w_-4lzP1gDE3"
      },
      "source": [
        "### Early Stopping\n",
        "\n",
        "Early stopping is very common with neural networks, due to the common pattern mentioned above of the optimal balance of over/under fitting occuring at some point within many, potentially thousands, of epochs. Early stopping kills the process after it detects that validation loss is going back up. \n",
        "\n",
        "We can put early stopping in place by using a Keras function called a callback, which has odd syntax, but is quite simple to use. The patience pararmeter controls how many epcohs of worsening scores are tolerated before implementing the stop. The restore_best_weights tells the model to roll back all of its weights to the optimal point - so we automatically get the best model post-training. \n",
        "\n",
        "In most cases we probabyl want to use early stopping along with a high epoch number. We can let the model train, and just tell us when it is finished. "
      ]
    },
    {
      "cell_type": "code",
      "execution_count": null,
      "metadata": {
        "id": "hBzPJjyCgDE3"
      },
      "outputs": [],
      "source": [
        "normalizer = tf.keras.layers.Normalization(axis=-1)\n",
        "normalizer.adapt(np.array(X_train))\n",
        "\n",
        "model = Sequential()\n",
        "model.add(normalizer)\n",
        "model.add(Dense(128, input_dim=18, activation='relu'))\n",
        "model.add(Dense(128, activation='relu'))\n",
        "model.add(Dense(128, activation='relu'))\n",
        "model.add(Dense(128, activation='relu'))\n",
        "model.add(Dense(1))\n",
        "#model.summary()"
      ]
    },
    {
      "cell_type": "code",
      "execution_count": null,
      "metadata": {
        "id": "KVL-a7tRgDE3",
        "outputId": "a74e4437-9edc-4509-fca5-0ee7dd766a50"
      },
      "outputs": [
        {
          "name": "stdout",
          "output_type": "stream",
          "text": [
            "169/169 [==============================] - 0s 1ms/step - loss: 76826.5547\n"
          ]
        },
        {
          "data": {
            "image/png": "[encoded data removed]",
            "text/plain": [
              "<Figure size 432x288 with 1 Axes>"
            ]
          },
          "metadata": {
            "needs_background": "light"
          },
          "output_type": "display_data"
        }
      ],
      "source": [
        "callback = tf.keras.callbacks.EarlyStopping(monitor='loss', patience=50, restore_best_weights=True) \n",
        "\n",
        "model.compile(loss='mean_absolute_error', optimizer=tf.optimizers.Adam(learning_rate=.01))\n",
        "train_log = model.fit(X_train, y_train, epochs=1000, batch_size=100, validation_split=.2, verbose=0, callbacks=[callback])\n",
        "model.evaluate(X_test, y_test)\n",
        "plot_loss(train_log)"
      ]
    },
    {
      "cell_type": "markdown",
      "metadata": {
        "id": "139bEiligDE4"
      },
      "source": [
        "### Regularization\n",
        "\n",
        "Like other linear models, we can implement regularization to help tame overfitting. \n",
        "\n",
        "We can use both L2 (Ridge) regularization that will limit growth of coefficients, and L1 (Lasso) regularization that is able to eliminate features by shrinking their coefficients to 0. The functionality is the same as we are used to, a regularization term is added to the loss, and the optimization, such as gradient descent, is then performed as normal. "
      ]
    },
    {
      "cell_type": "code",
      "execution_count": null,
      "metadata": {
        "id": "j5bB3r8HgDE4",
        "outputId": "af6260ba-8fca-4df5-c56e-c9c85bad0a42"
      },
      "outputs": [
        {
          "name": "stdout",
          "output_type": "stream",
          "text": [
            "Model: \"sequential_8\"\n",
            "_________________________________________________________________\n",
            " Layer (type)                Output Shape              Param #   \n",
            "=================================================================\n",
            " normalization_8 (Normalizat  (None, 18)               37        \n",
            " ion)                                                            \n",
            "                                                                 \n",
            " dense_34 (Dense)            (None, 128)               2432      \n",
            "                                                                 \n",
            " dense_35 (Dense)            (None, 128)               16512     \n",
            "                                                                 \n",
            " dense_36 (Dense)            (None, 128)               16512     \n",
            "                                                                 \n",
            " dense_37 (Dense)            (None, 128)               16512     \n",
            "                                                                 \n",
            " dense_38 (Dense)            (None, 1)                 129       \n",
            "                                                                 \n",
            "=================================================================\n",
            "Total params: 52,134\n",
            "Trainable params: 52,097\n",
            "Non-trainable params: 37\n",
            "_________________________________________________________________\n"
          ]
        }
      ],
      "source": [
        "# Regularization\n",
        "normalizer = tf.keras.layers.Normalization(axis=-1)\n",
        "normalizer.adapt(np.array(X_train))\n",
        "\n",
        "model = Sequential()\n",
        "model.add(normalizer)\n",
        "model.add(Dense(128, input_dim=18, activation='relu'))\n",
        "model.add(Dense(128, activation='relu', kernel_regularizer=\"l1\"))\n",
        "model.add(Dense(128, activation='relu', kernel_regularizer=\"l1\"))\n",
        "model.add(Dense(128, activation='relu', kernel_regularizer=\"l1\"))\n",
        "model.add(Dense(1))\n",
        "model.summary()"
      ]
    },
    {
      "cell_type": "code",
      "execution_count": null,
      "metadata": {
        "id": "MlXRJk-ygDE4",
        "outputId": "1664cdf5-430a-4666-eca3-92581c8e7b80"
      },
      "outputs": [
        {
          "name": "stdout",
          "output_type": "stream",
          "text": [
            "169/169 [==============================] - 0s 1ms/step - loss: 83339.3906\n"
          ]
        },
        {
          "data": {
            "image/png": "[encoded data removed]",
            "text/plain": [
              "<Figure size 432x288 with 1 Axes>"
            ]
          },
          "metadata": {
            "needs_background": "light"
          },
          "output_type": "display_data"
        }
      ],
      "source": [
        "model.compile(loss='mean_absolute_error', optimizer=tf.optimizers.Adam(learning_rate=.01))\n",
        "train_log = model.fit(X_train, y_train, epochs=100, batch_size=100, validation_split=.2, verbose=0)\n",
        "model.evaluate(X_test, y_test)\n",
        "plot_loss(train_log)"
      ]
    },
    {
      "cell_type": "markdown",
      "metadata": {
        "id": "7x4P0FbrgDE5"
      },
      "source": [
        "### Dropout\n",
        "\n",
        "Neural networks also commonly employ a technique call dropouts to prevent overfitting. This works just like the name says, every time the data is moved from one layer to another some portion of the features are randomly held out from being used. \n",
        "\n",
        "The intuitive explanation for dropout is that because individual nodes in the network cannot rely on the output of the others, each node must output features that are useful on their own. This sounds somewhat weird, but is actually effective. The number of features held out is called the dropout rate, typically between .2 and .5. \n",
        "\n",
        "An analogy can be drawn to the bootstrapping we looked at with trees - some random subset of features is selected each time, resulting in each batch getting \"a slightly different look at the data\", thus preventing overfitting. "
      ]
    },
    {
      "cell_type": "code",
      "execution_count": null,
      "metadata": {
        "id": "GGokLcFTgDE5",
        "outputId": "140c92f2-88a2-4878-cd97-52cbae280950"
      },
      "outputs": [
        {
          "name": "stdout",
          "output_type": "stream",
          "text": [
            "Model: \"sequential_5\"\n",
            "_________________________________________________________________\n",
            " Layer (type)                Output Shape              Param #   \n",
            "=================================================================\n",
            " normalization_5 (Normalizat  (None, 18)               37        \n",
            " ion)                                                            \n",
            "                                                                 \n",
            " dense_19 (Dense)            (None, 512)               9728      \n",
            "                                                                 \n",
            " dense_20 (Dense)            (None, 512)               262656    \n",
            "                                                                 \n",
            " dropout (Dropout)           (None, 512)               0         \n",
            "                                                                 \n",
            " dense_21 (Dense)            (None, 512)               262656    \n",
            "                                                                 \n",
            " dropout_1 (Dropout)         (None, 512)               0         \n",
            "                                                                 \n",
            " dense_22 (Dense)            (None, 512)               262656    \n",
            "                                                                 \n",
            " dense_23 (Dense)            (None, 1)                 513       \n",
            "                                                                 \n",
            "=================================================================\n",
            "Total params: 798,246\n",
            "Trainable params: 798,209\n",
            "Non-trainable params: 37\n",
            "_________________________________________________________________\n"
          ]
        }
      ],
      "source": [
        "# Dropout\n",
        "#Test Different Model Capacities\n",
        "normalizer = tf.keras.layers.Normalization(axis=-1)\n",
        "normalizer.adapt(np.array(X_train))\n",
        "\n",
        "model = Sequential()\n",
        "model.add(normalizer)\n",
        "model.add(Dense(512, input_dim=18, activation='relu'))\n",
        "model.add(Dense(512, activation='relu'))\n",
        "model.add(Dropout(0.2))\n",
        "model.add(Dense(512, activation='relu'))\n",
        "model.add(Dropout(0.2))\n",
        "model.add(Dense(512, activation='relu'))\n",
        "model.add(Dense(1))\n",
        "model.summary()"
      ]
    },
    {
      "cell_type": "code",
      "execution_count": null,
      "metadata": {
        "id": "1eLX0urGgDE6",
        "outputId": "850c98a8-da2d-4b6d-e432-2bf1f0cce2c4"
      },
      "outputs": [
        {
          "name": "stdout",
          "output_type": "stream",
          "text": [
            "169/169 [==============================] - 0s 3ms/step - loss: 81152.6875\n"
          ]
        },
        {
          "data": {
            "image/png": "[encoded data removed]",
            "text/plain": [
              "<Figure size 432x288 with 1 Axes>"
            ]
          },
          "metadata": {
            "needs_background": "light"
          },
          "output_type": "display_data"
        }
      ],
      "source": [
        "model.compile(loss='mean_absolute_error', optimizer=tf.optimizers.Adam(learning_rate=.01))\n",
        "train_log = model.fit(X_train, y_train, epochs=1000, batch_size=100, validation_split=.2, verbose=0)\n",
        "model.evaluate(X_test, y_test)\n",
        "plot_loss(train_log)"
      ]
    },
    {
      "cell_type": "markdown",
      "metadata": {
        "id": "X2c-RpFkgDE6"
      },
      "source": [
        "### Predictions\n",
        "\n",
        "Once the model is trained, using it is mostly familiar to us from the sklearn stuff. "
      ]
    },
    {
      "cell_type": "code",
      "execution_count": null,
      "metadata": {
        "id": "nuGQl0xdgDE6",
        "outputId": "40749508-84d6-459b-d2df-2dacde7211bd"
      },
      "outputs": [
        {
          "data": {
            "text/plain": [
              "76826.51743066478"
            ]
          },
          "execution_count": 44,
          "metadata": {},
          "output_type": "execute_result"
        }
      ],
      "source": [
        "preds = model.predict(X_test)\n",
        "mean_absolute_error(y_test, preds)\n"
      ]
    },
    {
      "cell_type": "markdown",
      "metadata": {
        "id": "4ftizOAWgDE6"
      },
      "source": [
        "### Customized Loss\n",
        "\n",
        "Most scenarios are totally fine with a standard loss function, but what if we have something odd? What if we are playing on The Price is Right? We want to get as close as we can, without going over. We can write a loss function to mirror that!\n",
        "\n",
        "More practically, some real life scenarios have a disperse impact of different types of error. For example, if you are working for a call centre and predicting the number of agents to staff. Having slightly too many may be an error that costs a little bit of money, but not that big of a deal. Predicting too few might incur serious penalties if callers wait and you violate an SLA. Being off in one direction is bad, being off in the other direction can cause you to \"fall off of a cliff\" so to speak. In cases where the impact of the error is not uniform, custom loss functions may make sense. "
      ]
    },
    {
      "cell_type": "code",
      "execution_count": null,
      "metadata": {
        "id": "6i61rVX6gDE7"
      },
      "outputs": [],
      "source": [
        "def priceIsRight(y_true, y_pred):\n",
        "    if y_pred <= y_true:\n",
        "        return (y_true - y_pred) ** 2\n",
        "    else:\n",
        "        return (y_true - y_pred) ** 4"
      ]
    },
    {
      "cell_type": "markdown",
      "metadata": {
        "id": "9U4CM58_gDE7"
      },
      "source": [
        "## Exercise"
      ]
    },
    {
      "cell_type": "code",
      "execution_count": 4,
      "metadata": {
        "id": "_HhfM4IKgDE7"
      },
      "outputs": [],
      "source": [
        "from sklearn.datasets import fetch_20newsgroups\n",
        "from sklearn.feature_extraction.text import TfidfVectorizer\n",
        "from sklearn.decomposition import TruncatedSVD\n",
        "\n",
        "remove = (\"headers\", \"footers\", \"quotes\")\n",
        "\n",
        "data_train = fetch_20newsgroups(\n",
        "    subset=\"train\", shuffle=True, remove=remove)\n",
        "\n",
        "data_test = fetch_20newsgroups(\n",
        "    subset=\"test\", shuffle=True, remove=remove)"
      ]
    },
    {
      "cell_type": "code",
      "execution_count": 5,
      "metadata": {
        "id": "dEBN3ypTgDE7",
        "outputId": "02ccc726-8f05-430c-f181-1a61947eb869",
        "colab": {
          "base_uri": "https://localhost:8080/"
        }
      },
      "outputs": [
        {
          "output_type": "stream",
          "name": "stdout",
          "text": [
            "Train: (11314, 1971374)   Test: (7532, 1971374)\n"
          ]
        }
      ],
      "source": [
        "news_tf = TfidfVectorizer(sublinear_tf=True, ngram_range=(1,3), stop_words=\"english\", strip_accents=\"unicode\")\n",
        "X_train = news_tf.fit_transform(data_train.data)\n",
        "y_train = data_train.target\n",
        "X_test = news_tf.transform(data_test.data)\n",
        "y_test = data_test.target\n",
        "print(\"Train:\", X_train.shape, \"  Test:\", X_test.shape)"
      ]
    },
    {
      "cell_type": "code",
      "execution_count": 6,
      "metadata": {
        "id": "jxLxgEe1gDE7"
      },
      "outputs": [],
      "source": [
        "y_test = np_utils.to_categorical(y_test)\n",
        "y_train = np_utils.to_categorical(y_train)"
      ]
    },
    {
      "cell_type": "code",
      "execution_count": 7,
      "metadata": {
        "id": "SWgSnj3sgDE8"
      },
      "outputs": [],
      "source": [
        "tsvd = TruncatedSVD(n_components=200)\n",
        "X_train = tsvd.fit_transform(X_train)\n",
        "X_test = tsvd.transform(X_test)"
      ]
    },
    {
      "cell_type": "code",
      "execution_count": 15,
      "metadata": {
        "id": "5eLUUaKRgDE8",
        "outputId": "ae4ac200-9a78-4bce-e691-20968c461f35",
        "colab": {
          "base_uri": "https://localhost:8080/"
        }
      },
      "outputs": [
        {
          "output_type": "stream",
          "name": "stdout",
          "text": [
            "Model: \"sequential_2\"\n",
            "_________________________________________________________________\n",
            " Layer (type)                Output Shape              Param #   \n",
            "=================================================================\n",
            " dense_10 (Dense)            (None, 1000)              201000    \n",
            "                                                                 \n",
            " dense_11 (Dense)            (None, 1000)              1001000   \n",
            "                                                                 \n",
            " dropout_4 (Dropout)         (None, 1000)              0         \n",
            "                                                                 \n",
            " dense_12 (Dense)            (None, 1000)              1001000   \n",
            "                                                                 \n",
            " dropout_5 (Dropout)         (None, 1000)              0         \n",
            "                                                                 \n",
            " dense_13 (Dense)            (None, 1000)              1001000   \n",
            "                                                                 \n",
            " dropout_6 (Dropout)         (None, 1000)              0         \n",
            "                                                                 \n",
            " dense_14 (Dense)            (None, 200)               200200    \n",
            "                                                                 \n",
            " dropout_7 (Dropout)         (None, 200)               0         \n",
            "                                                                 \n",
            " dense_15 (Dense)            (None, 200)               40200     \n",
            "                                                                 \n",
            " dense_16 (Dense)            (None, 20)                4020      \n",
            "                                                                 \n",
            "=================================================================\n",
            "Total params: 3,448,420\n",
            "Trainable params: 3,448,420\n",
            "Non-trainable params: 0\n",
            "_________________________________________________________________\n"
          ]
        }
      ],
      "source": [
        "model = Sequential()\n",
        "model.add(Dense(1000, input_dim=200, activation='relu'))\n",
        "model.add(Dense(1000, activation='relu'))\n",
        "model.add(Dropout(0.2))\n",
        "model.add(Dense(1000, activation='relu'))\n",
        "model.add(Dropout(0.2))\n",
        "model.add(Dense(1000, activation='relu'))\n",
        "model.add(Dropout(0.2))\n",
        "model.add(Dense(200, activation='relu'))\n",
        "model.add(Dropout(0.2))\n",
        "model.add(Dense(200, activation='relu'))\n",
        "model.add(Dense(20, activation=\"softmax\"))\n",
        "model.summary()"
      ]
    },
    {
      "cell_type": "code",
      "execution_count": 16,
      "metadata": {
        "id": "j0zzwhocgDE8",
        "outputId": "1f9ba372-bc51-49b1-866e-7b23afaf133e",
        "colab": {
          "base_uri": "https://localhost:8080/",
          "height": 1000
        }
      },
      "outputs": [
        {
          "output_type": "stream",
          "name": "stdout",
          "text": [
            "Epoch 1/1000\n",
            "91/91 [==============================] - 2s 13ms/step - loss: 2.5582 - accuracy: 0.1620 - val_loss: 1.8446 - val_accuracy: 0.3867\n",
            "Epoch 2/1000\n",
            "91/91 [==============================] - 1s 11ms/step - loss: 1.6094 - accuracy: 0.4630 - val_loss: 1.4139 - val_accuracy: 0.5409\n",
            "Epoch 3/1000\n",
            "91/91 [==============================] - 1s 11ms/step - loss: 1.2463 - accuracy: 0.6083 - val_loss: 1.2604 - val_accuracy: 0.6182\n",
            "Epoch 4/1000\n",
            "91/91 [==============================] - 1s 11ms/step - loss: 1.0905 - accuracy: 0.6642 - val_loss: 1.2950 - val_accuracy: 0.6133\n",
            "Epoch 5/1000\n",
            "91/91 [==============================] - 1s 11ms/step - loss: 0.9771 - accuracy: 0.7019 - val_loss: 1.2158 - val_accuracy: 0.6434\n",
            "Epoch 6/1000\n",
            "91/91 [==============================] - 1s 10ms/step - loss: 0.8630 - accuracy: 0.7401 - val_loss: 1.2370 - val_accuracy: 0.6483\n",
            "Epoch 7/1000\n",
            "91/91 [==============================] - 1s 10ms/step - loss: 0.7626 - accuracy: 0.7659 - val_loss: 1.2641 - val_accuracy: 0.6562\n",
            "Epoch 8/1000\n",
            "91/91 [==============================] - 1s 10ms/step - loss: 0.6770 - accuracy: 0.7893 - val_loss: 1.3118 - val_accuracy: 0.6536\n",
            "Epoch 9/1000\n",
            "91/91 [==============================] - 1s 10ms/step - loss: 0.5782 - accuracy: 0.8179 - val_loss: 1.3199 - val_accuracy: 0.6580\n",
            "Epoch 10/1000\n",
            "91/91 [==============================] - 1s 11ms/step - loss: 0.5267 - accuracy: 0.8381 - val_loss: 1.4268 - val_accuracy: 0.6558\n",
            "Epoch 11/1000\n",
            "91/91 [==============================] - 1s 11ms/step - loss: 0.4658 - accuracy: 0.8540 - val_loss: 1.4215 - val_accuracy: 0.6602\n",
            "Epoch 12/1000\n",
            "91/91 [==============================] - 1s 11ms/step - loss: 0.4280 - accuracy: 0.8610 - val_loss: 1.6790 - val_accuracy: 0.6518\n",
            "Epoch 13/1000\n",
            "91/91 [==============================] - 1s 11ms/step - loss: 0.3684 - accuracy: 0.8797 - val_loss: 1.6563 - val_accuracy: 0.6615\n",
            "Epoch 14/1000\n",
            "91/91 [==============================] - 1s 11ms/step - loss: 0.3424 - accuracy: 0.8889 - val_loss: 1.7035 - val_accuracy: 0.6513\n",
            "Epoch 15/1000\n",
            "91/91 [==============================] - 1s 10ms/step - loss: 0.3253 - accuracy: 0.8969 - val_loss: 1.8263 - val_accuracy: 0.6536\n",
            "Epoch 16/1000\n",
            "91/91 [==============================] - 1s 10ms/step - loss: 0.2879 - accuracy: 0.9059 - val_loss: 1.8074 - val_accuracy: 0.6496\n",
            "Epoch 17/1000\n",
            "91/91 [==============================] - 1s 10ms/step - loss: 0.2821 - accuracy: 0.9097 - val_loss: 1.7860 - val_accuracy: 0.6483\n",
            "Epoch 18/1000\n",
            "91/91 [==============================] - 1s 10ms/step - loss: 0.3103 - accuracy: 0.9029 - val_loss: 1.8878 - val_accuracy: 0.6412\n",
            "Epoch 19/1000\n",
            "91/91 [==============================] - 1s 11ms/step - loss: 0.2627 - accuracy: 0.9180 - val_loss: 1.9679 - val_accuracy: 0.6425\n",
            "Epoch 20/1000\n",
            "91/91 [==============================] - 1s 11ms/step - loss: 0.2277 - accuracy: 0.9292 - val_loss: 1.9522 - val_accuracy: 0.6540\n",
            "Epoch 21/1000\n",
            "91/91 [==============================] - 1s 11ms/step - loss: 0.2034 - accuracy: 0.9356 - val_loss: 2.0422 - val_accuracy: 0.6580\n",
            "Epoch 22/1000\n",
            "91/91 [==============================] - 1s 10ms/step - loss: 0.2026 - accuracy: 0.9370 - val_loss: 2.1637 - val_accuracy: 0.6549\n",
            "Epoch 23/1000\n",
            "91/91 [==============================] - 1s 11ms/step - loss: 0.1965 - accuracy: 0.9402 - val_loss: 2.1871 - val_accuracy: 0.6434\n",
            "Epoch 24/1000\n",
            "91/91 [==============================] - 1s 10ms/step - loss: 0.2039 - accuracy: 0.9360 - val_loss: 2.3303 - val_accuracy: 0.6593\n",
            "Epoch 25/1000\n",
            "91/91 [==============================] - 1s 11ms/step - loss: 0.1940 - accuracy: 0.9448 - val_loss: 2.1484 - val_accuracy: 0.6602\n",
            "Epoch 26/1000\n",
            "91/91 [==============================] - 1s 11ms/step - loss: 0.1750 - accuracy: 0.9458 - val_loss: 2.3103 - val_accuracy: 0.6540\n",
            "Epoch 27/1000\n",
            "91/91 [==============================] - 1s 10ms/step - loss: 0.1929 - accuracy: 0.9441 - val_loss: 2.2067 - val_accuracy: 0.6606\n",
            "Epoch 28/1000\n",
            "91/91 [==============================] - 1s 10ms/step - loss: 0.1669 - accuracy: 0.9515 - val_loss: 2.2929 - val_accuracy: 0.6549\n",
            "Epoch 29/1000\n",
            "91/91 [==============================] - 1s 10ms/step - loss: 0.1709 - accuracy: 0.9493 - val_loss: 2.2144 - val_accuracy: 0.6513\n",
            "Epoch 30/1000\n",
            "91/91 [==============================] - 1s 11ms/step - loss: 0.1653 - accuracy: 0.9483 - val_loss: 2.2913 - val_accuracy: 0.6558\n",
            "Epoch 31/1000\n",
            "91/91 [==============================] - 1s 10ms/step - loss: 0.1725 - accuracy: 0.9485 - val_loss: 2.2412 - val_accuracy: 0.6562\n",
            "Epoch 32/1000\n",
            "91/91 [==============================] - 1s 10ms/step - loss: 0.1918 - accuracy: 0.9428 - val_loss: 2.0925 - val_accuracy: 0.6553\n",
            "Epoch 33/1000\n",
            "91/91 [==============================] - 1s 11ms/step - loss: 0.1535 - accuracy: 0.9537 - val_loss: 2.3415 - val_accuracy: 0.6593\n",
            "Epoch 34/1000\n",
            "91/91 [==============================] - 1s 11ms/step - loss: 0.1303 - accuracy: 0.9591 - val_loss: 2.5539 - val_accuracy: 0.6673\n",
            "Epoch 35/1000\n",
            "91/91 [==============================] - 1s 10ms/step - loss: 0.1670 - accuracy: 0.9491 - val_loss: 2.2262 - val_accuracy: 0.6536\n",
            "Epoch 36/1000\n",
            "91/91 [==============================] - 1s 10ms/step - loss: 0.1472 - accuracy: 0.9536 - val_loss: 2.4888 - val_accuracy: 0.6620\n",
            "Epoch 37/1000\n",
            "91/91 [==============================] - 1s 10ms/step - loss: 0.1704 - accuracy: 0.9476 - val_loss: 2.1714 - val_accuracy: 0.6659\n",
            "Epoch 38/1000\n",
            "91/91 [==============================] - 1s 10ms/step - loss: 0.1620 - accuracy: 0.9506 - val_loss: 2.2124 - val_accuracy: 0.6606\n",
            "Epoch 39/1000\n",
            "91/91 [==============================] - 1s 11ms/step - loss: 0.1627 - accuracy: 0.9522 - val_loss: 2.2791 - val_accuracy: 0.6505\n",
            "Epoch 40/1000\n",
            "91/91 [==============================] - 1s 10ms/step - loss: 0.1448 - accuracy: 0.9559 - val_loss: 2.3539 - val_accuracy: 0.6726\n",
            "Epoch 41/1000\n",
            "91/91 [==============================] - 1s 10ms/step - loss: 0.1382 - accuracy: 0.9588 - val_loss: 2.2916 - val_accuracy: 0.6571\n",
            "Epoch 42/1000\n",
            "91/91 [==============================] - 1s 10ms/step - loss: 0.1318 - accuracy: 0.9616 - val_loss: 2.4518 - val_accuracy: 0.6509\n",
            "Epoch 43/1000\n",
            "91/91 [==============================] - 1s 11ms/step - loss: 0.1626 - accuracy: 0.9519 - val_loss: 2.1225 - val_accuracy: 0.6602\n",
            "Epoch 44/1000\n",
            "91/91 [==============================] - 1s 10ms/step - loss: 0.1483 - accuracy: 0.9536 - val_loss: 2.4320 - val_accuracy: 0.6584\n",
            "Epoch 45/1000\n",
            "91/91 [==============================] - 1s 10ms/step - loss: 0.1453 - accuracy: 0.9567 - val_loss: 2.3619 - val_accuracy: 0.6527\n",
            "Epoch 46/1000\n",
            "91/91 [==============================] - 1s 11ms/step - loss: 0.1519 - accuracy: 0.9555 - val_loss: 2.3786 - val_accuracy: 0.6633\n",
            "Epoch 47/1000\n",
            "91/91 [==============================] - 1s 10ms/step - loss: 0.1291 - accuracy: 0.9606 - val_loss: 2.4178 - val_accuracy: 0.6620\n",
            "Epoch 48/1000\n",
            "91/91 [==============================] - 1s 10ms/step - loss: 0.1387 - accuracy: 0.9586 - val_loss: 2.4790 - val_accuracy: 0.6597\n",
            "Epoch 49/1000\n",
            "91/91 [==============================] - 1s 11ms/step - loss: 0.1219 - accuracy: 0.9633 - val_loss: 2.6369 - val_accuracy: 0.6575\n",
            "Epoch 50/1000\n",
            "91/91 [==============================] - 1s 10ms/step - loss: 0.1448 - accuracy: 0.9564 - val_loss: 2.3526 - val_accuracy: 0.6606\n",
            "Epoch 51/1000\n",
            "91/91 [==============================] - 1s 11ms/step - loss: 0.1167 - accuracy: 0.9651 - val_loss: 2.6306 - val_accuracy: 0.6584\n",
            "Epoch 52/1000\n",
            "91/91 [==============================] - 1s 10ms/step - loss: 0.1590 - accuracy: 0.9536 - val_loss: 2.1152 - val_accuracy: 0.6642\n",
            "Epoch 53/1000\n",
            "91/91 [==============================] - 1s 10ms/step - loss: 0.1231 - accuracy: 0.9611 - val_loss: 2.6055 - val_accuracy: 0.6584\n",
            "Epoch 54/1000\n",
            "91/91 [==============================] - 1s 10ms/step - loss: 0.1410 - accuracy: 0.9583 - val_loss: 2.4560 - val_accuracy: 0.6522\n",
            "Epoch 55/1000\n",
            "91/91 [==============================] - 1s 10ms/step - loss: 0.1443 - accuracy: 0.9575 - val_loss: 2.3219 - val_accuracy: 0.6633\n",
            "Epoch 56/1000\n",
            "91/91 [==============================] - 1s 10ms/step - loss: 0.1256 - accuracy: 0.9616 - val_loss: 2.6261 - val_accuracy: 0.6527\n",
            "Epoch 57/1000\n",
            "91/91 [==============================] - 1s 10ms/step - loss: 0.1276 - accuracy: 0.9622 - val_loss: 2.4952 - val_accuracy: 0.6575\n",
            "Epoch 58/1000\n",
            "91/91 [==============================] - 1s 11ms/step - loss: 0.1233 - accuracy: 0.9620 - val_loss: 2.6904 - val_accuracy: 0.6628\n",
            "Epoch 59/1000\n",
            "91/91 [==============================] - 1s 11ms/step - loss: 0.1403 - accuracy: 0.9585 - val_loss: 2.4682 - val_accuracy: 0.6558\n",
            "Epoch 60/1000\n",
            "91/91 [==============================] - 1s 10ms/step - loss: 0.1378 - accuracy: 0.9575 - val_loss: 2.4257 - val_accuracy: 0.6606\n",
            "Epoch 61/1000\n",
            "91/91 [==============================] - 1s 10ms/step - loss: 0.1240 - accuracy: 0.9614 - val_loss: 2.5897 - val_accuracy: 0.6584\n",
            "Epoch 62/1000\n",
            "91/91 [==============================] - 1s 10ms/step - loss: 0.1090 - accuracy: 0.9669 - val_loss: 2.8176 - val_accuracy: 0.6584\n",
            "Epoch 63/1000\n",
            "91/91 [==============================] - 1s 10ms/step - loss: 0.1403 - accuracy: 0.9586 - val_loss: 2.3976 - val_accuracy: 0.6544\n",
            "Epoch 64/1000\n",
            "91/91 [==============================] - 1s 10ms/step - loss: 0.1207 - accuracy: 0.9623 - val_loss: 2.6033 - val_accuracy: 0.6664\n",
            "Epoch 65/1000\n",
            "91/91 [==============================] - 1s 10ms/step - loss: 0.1360 - accuracy: 0.9601 - val_loss: 2.4761 - val_accuracy: 0.6571\n",
            "Epoch 66/1000\n",
            "91/91 [==============================] - 1s 10ms/step - loss: 0.1237 - accuracy: 0.9606 - val_loss: 2.6409 - val_accuracy: 0.6615\n",
            "Epoch 67/1000\n",
            "91/91 [==============================] - 1s 11ms/step - loss: 0.1276 - accuracy: 0.9610 - val_loss: 2.6966 - val_accuracy: 0.6460\n",
            "Epoch 68/1000\n",
            "91/91 [==============================] - 1s 10ms/step - loss: 0.1254 - accuracy: 0.9641 - val_loss: 2.4457 - val_accuracy: 0.6655\n",
            "Epoch 69/1000\n",
            "91/91 [==============================] - 1s 10ms/step - loss: 0.1342 - accuracy: 0.9614 - val_loss: 2.2672 - val_accuracy: 0.6593\n",
            "Epoch 70/1000\n",
            "91/91 [==============================] - 1s 11ms/step - loss: 0.1390 - accuracy: 0.9598 - val_loss: 2.3516 - val_accuracy: 0.6655\n",
            "Epoch 71/1000\n",
            "91/91 [==============================] - 1s 11ms/step - loss: 0.1275 - accuracy: 0.9609 - val_loss: 2.5980 - val_accuracy: 0.6527\n",
            "Epoch 72/1000\n",
            "91/91 [==============================] - 1s 10ms/step - loss: 0.1367 - accuracy: 0.9595 - val_loss: 2.3409 - val_accuracy: 0.6624\n",
            "Epoch 73/1000\n",
            "91/91 [==============================] - 1s 10ms/step - loss: 0.1310 - accuracy: 0.9606 - val_loss: 2.5706 - val_accuracy: 0.6518\n",
            "Epoch 74/1000\n",
            "91/91 [==============================] - 1s 10ms/step - loss: 0.1249 - accuracy: 0.9620 - val_loss: 2.5277 - val_accuracy: 0.6686\n",
            "Epoch 75/1000\n",
            "91/91 [==============================] - 1s 11ms/step - loss: 0.1137 - accuracy: 0.9640 - val_loss: 2.6145 - val_accuracy: 0.6646\n",
            "Epoch 76/1000\n",
            "91/91 [==============================] - 1s 10ms/step - loss: 0.1271 - accuracy: 0.9620 - val_loss: 2.5164 - val_accuracy: 0.6628\n",
            "Epoch 77/1000\n",
            "91/91 [==============================] - 1s 11ms/step - loss: 0.1271 - accuracy: 0.9624 - val_loss: 2.2949 - val_accuracy: 0.6655\n",
            "Epoch 78/1000\n",
            "91/91 [==============================] - 1s 10ms/step - loss: 0.1184 - accuracy: 0.9634 - val_loss: 2.4604 - val_accuracy: 0.6734\n",
            "Epoch 79/1000\n",
            "91/91 [==============================] - 1s 10ms/step - loss: 0.1199 - accuracy: 0.9634 - val_loss: 2.4715 - val_accuracy: 0.6686\n",
            "Epoch 80/1000\n",
            "91/91 [==============================] - 1s 10ms/step - loss: 0.1189 - accuracy: 0.9648 - val_loss: 2.4093 - val_accuracy: 0.6664\n",
            "Epoch 81/1000\n",
            "91/91 [==============================] - 1s 10ms/step - loss: 0.1105 - accuracy: 0.9655 - val_loss: 2.6858 - val_accuracy: 0.6593\n",
            "Epoch 82/1000\n",
            "91/91 [==============================] - 1s 10ms/step - loss: 0.1336 - accuracy: 0.9614 - val_loss: 2.7239 - val_accuracy: 0.6553\n",
            "Epoch 83/1000\n",
            "91/91 [==============================] - 1s 11ms/step - loss: 0.1262 - accuracy: 0.9628 - val_loss: 2.4650 - val_accuracy: 0.6699\n",
            "Epoch 84/1000\n",
            "91/91 [==============================] - 1s 10ms/step - loss: 0.1197 - accuracy: 0.9633 - val_loss: 2.6594 - val_accuracy: 0.6677\n",
            "Epoch 85/1000\n",
            "91/91 [==============================] - 1s 10ms/step - loss: 0.1268 - accuracy: 0.9613 - val_loss: 2.4438 - val_accuracy: 0.6690\n",
            "Epoch 86/1000\n",
            "91/91 [==============================] - 1s 10ms/step - loss: 0.1187 - accuracy: 0.9634 - val_loss: 2.5179 - val_accuracy: 0.6628\n",
            "Epoch 87/1000\n",
            "91/91 [==============================] - 1s 10ms/step - loss: 0.1241 - accuracy: 0.9627 - val_loss: 2.3231 - val_accuracy: 0.6650\n",
            "Epoch 88/1000\n",
            "91/91 [==============================] - 1s 10ms/step - loss: 0.1232 - accuracy: 0.9631 - val_loss: 2.4890 - val_accuracy: 0.6721\n",
            "Epoch 89/1000\n",
            "91/91 [==============================] - 1s 11ms/step - loss: 0.1058 - accuracy: 0.9675 - val_loss: 2.7009 - val_accuracy: 0.6646\n",
            "Epoch 90/1000\n",
            "91/91 [==============================] - 1s 11ms/step - loss: 0.1077 - accuracy: 0.9672 - val_loss: 2.6622 - val_accuracy: 0.6655\n",
            "Epoch 91/1000\n",
            "91/91 [==============================] - 1s 10ms/step - loss: 0.1100 - accuracy: 0.9662 - val_loss: 2.5403 - val_accuracy: 0.6659\n",
            "Epoch 92/1000\n",
            "91/91 [==============================] - 1s 10ms/step - loss: 0.1129 - accuracy: 0.9660 - val_loss: 2.7084 - val_accuracy: 0.6668\n",
            "Epoch 93/1000\n",
            "91/91 [==============================] - 1s 10ms/step - loss: 0.1130 - accuracy: 0.9675 - val_loss: 2.6619 - val_accuracy: 0.6659\n",
            "Epoch 94/1000\n",
            "91/91 [==============================] - 1s 11ms/step - loss: 0.1222 - accuracy: 0.9634 - val_loss: 2.6429 - val_accuracy: 0.6584\n",
            "Epoch 95/1000\n",
            "91/91 [==============================] - 1s 10ms/step - loss: 0.1147 - accuracy: 0.9654 - val_loss: 2.9061 - val_accuracy: 0.6593\n",
            "Epoch 96/1000\n",
            "91/91 [==============================] - 1s 10ms/step - loss: 0.1212 - accuracy: 0.9630 - val_loss: 2.4859 - val_accuracy: 0.6620\n",
            "Epoch 97/1000\n",
            "91/91 [==============================] - 1s 10ms/step - loss: 0.1298 - accuracy: 0.9628 - val_loss: 2.4416 - val_accuracy: 0.6637\n",
            "Epoch 98/1000\n",
            "91/91 [==============================] - 1s 10ms/step - loss: 0.1112 - accuracy: 0.9660 - val_loss: 2.6871 - val_accuracy: 0.6637\n",
            "Epoch 99/1000\n",
            "91/91 [==============================] - 1s 10ms/step - loss: 0.1146 - accuracy: 0.9657 - val_loss: 2.8291 - val_accuracy: 0.6703\n",
            "Epoch 100/1000\n",
            "91/91 [==============================] - 1s 10ms/step - loss: 0.1415 - accuracy: 0.9587 - val_loss: 2.4501 - val_accuracy: 0.6540\n",
            "Epoch 101/1000\n",
            "91/91 [==============================] - 1s 11ms/step - loss: 0.1269 - accuracy: 0.9620 - val_loss: 2.5382 - val_accuracy: 0.6602\n",
            "Epoch 102/1000\n",
            "91/91 [==============================] - 1s 11ms/step - loss: 0.1143 - accuracy: 0.9650 - val_loss: 2.8327 - val_accuracy: 0.6602\n",
            "Epoch 103/1000\n",
            "91/91 [==============================] - 1s 10ms/step - loss: 0.1344 - accuracy: 0.9603 - val_loss: 2.5572 - val_accuracy: 0.6659\n",
            "Epoch 104/1000\n",
            "91/91 [==============================] - 1s 11ms/step - loss: 0.1155 - accuracy: 0.9653 - val_loss: 2.6339 - val_accuracy: 0.6562\n",
            "Epoch 105/1000\n",
            "91/91 [==============================] - 1s 10ms/step - loss: 0.1208 - accuracy: 0.9644 - val_loss: 2.8806 - val_accuracy: 0.6650\n",
            "Epoch 106/1000\n",
            "91/91 [==============================] - 1s 10ms/step - loss: 0.1188 - accuracy: 0.9641 - val_loss: 2.7328 - val_accuracy: 0.6642\n",
            "Epoch 107/1000\n",
            "91/91 [==============================] - 1s 11ms/step - loss: 0.1055 - accuracy: 0.9665 - val_loss: 2.8473 - val_accuracy: 0.6655\n",
            "Epoch 108/1000\n",
            "91/91 [==============================] - 1s 10ms/step - loss: 0.1061 - accuracy: 0.9674 - val_loss: 2.8518 - val_accuracy: 0.6580\n",
            "Epoch 109/1000\n",
            "91/91 [==============================] - 1s 11ms/step - loss: 0.1115 - accuracy: 0.9665 - val_loss: 2.6808 - val_accuracy: 0.6606\n",
            "Epoch 110/1000\n",
            "91/91 [==============================] - 1s 10ms/step - loss: 0.1182 - accuracy: 0.9655 - val_loss: 2.9405 - val_accuracy: 0.6500\n",
            "Epoch 111/1000\n",
            "91/91 [==============================] - 1s 10ms/step - loss: 0.1303 - accuracy: 0.9614 - val_loss: 2.6802 - val_accuracy: 0.6580\n",
            "Epoch 112/1000\n",
            "91/91 [==============================] - 1s 11ms/step - loss: 0.1227 - accuracy: 0.9637 - val_loss: 2.5208 - val_accuracy: 0.6668\n",
            "Epoch 113/1000\n",
            "91/91 [==============================] - 1s 10ms/step - loss: 0.1040 - accuracy: 0.9677 - val_loss: 2.8708 - val_accuracy: 0.6549\n",
            "Epoch 114/1000\n",
            "91/91 [==============================] - 1s 11ms/step - loss: 0.1174 - accuracy: 0.9662 - val_loss: 2.7469 - val_accuracy: 0.6505\n",
            "Epoch 115/1000\n",
            "91/91 [==============================] - 1s 10ms/step - loss: 0.1236 - accuracy: 0.9638 - val_loss: 2.8559 - val_accuracy: 0.6708\n",
            "Epoch 116/1000\n",
            "91/91 [==============================] - 1s 11ms/step - loss: 0.1276 - accuracy: 0.9634 - val_loss: 2.4636 - val_accuracy: 0.6633\n",
            "Epoch 117/1000\n",
            "91/91 [==============================] - 1s 10ms/step - loss: 0.1235 - accuracy: 0.9651 - val_loss: 2.7091 - val_accuracy: 0.6580\n",
            "Epoch 118/1000\n",
            "91/91 [==============================] - 1s 11ms/step - loss: 0.1248 - accuracy: 0.9639 - val_loss: 2.6122 - val_accuracy: 0.6646\n",
            "Epoch 119/1000\n",
            "91/91 [==============================] - 1s 10ms/step - loss: 0.1155 - accuracy: 0.9650 - val_loss: 2.7864 - val_accuracy: 0.6646\n",
            "Epoch 120/1000\n",
            "91/91 [==============================] - 1s 11ms/step - loss: 0.1198 - accuracy: 0.9643 - val_loss: 2.6439 - val_accuracy: 0.6673\n",
            "Epoch 121/1000\n",
            "91/91 [==============================] - 1s 10ms/step - loss: 0.1040 - accuracy: 0.9688 - val_loss: 2.7348 - val_accuracy: 0.6699\n",
            "Epoch 122/1000\n",
            "91/91 [==============================] - 1s 10ms/step - loss: 0.1000 - accuracy: 0.9686 - val_loss: 3.0761 - val_accuracy: 0.6712\n",
            "Epoch 123/1000\n",
            "91/91 [==============================] - 1s 11ms/step - loss: 0.1308 - accuracy: 0.9619 - val_loss: 2.9738 - val_accuracy: 0.6712\n",
            "Epoch 124/1000\n",
            "91/91 [==============================] - 1s 11ms/step - loss: 0.1238 - accuracy: 0.9629 - val_loss: 2.6627 - val_accuracy: 0.6673\n",
            "Epoch 125/1000\n",
            "91/91 [==============================] - 1s 11ms/step - loss: 0.1087 - accuracy: 0.9675 - val_loss: 2.7303 - val_accuracy: 0.6677\n",
            "Epoch 126/1000\n",
            "91/91 [==============================] - 1s 10ms/step - loss: 0.0974 - accuracy: 0.9685 - val_loss: 2.9809 - val_accuracy: 0.6650\n",
            "Epoch 127/1000\n",
            "91/91 [==============================] - 1s 11ms/step - loss: 0.1077 - accuracy: 0.9670 - val_loss: 2.9246 - val_accuracy: 0.6681\n",
            "Epoch 128/1000\n",
            "91/91 [==============================] - 1s 10ms/step - loss: 0.1127 - accuracy: 0.9657 - val_loss: 2.7648 - val_accuracy: 0.6615\n",
            "Epoch 129/1000\n",
            "91/91 [==============================] - 1s 11ms/step - loss: 0.1099 - accuracy: 0.9662 - val_loss: 2.9852 - val_accuracy: 0.6752\n",
            "Epoch 130/1000\n",
            "91/91 [==============================] - 1s 10ms/step - loss: 0.1092 - accuracy: 0.9648 - val_loss: 2.9738 - val_accuracy: 0.6615\n",
            "Epoch 131/1000\n",
            "91/91 [==============================] - 1s 10ms/step - loss: 0.1366 - accuracy: 0.9600 - val_loss: 2.5319 - val_accuracy: 0.6664\n",
            "Epoch 132/1000\n",
            "91/91 [==============================] - 1s 10ms/step - loss: 0.1074 - accuracy: 0.9667 - val_loss: 2.8793 - val_accuracy: 0.6774\n",
            "Epoch 133/1000\n",
            "91/91 [==============================] - 1s 11ms/step - loss: 0.0968 - accuracy: 0.9701 - val_loss: 3.0777 - val_accuracy: 0.6805\n",
            "Epoch 134/1000\n",
            "91/91 [==============================] - 1s 11ms/step - loss: 0.1022 - accuracy: 0.9682 - val_loss: 3.1300 - val_accuracy: 0.6730\n",
            "Epoch 135/1000\n",
            "91/91 [==============================] - 1s 11ms/step - loss: 0.1038 - accuracy: 0.9678 - val_loss: 3.4228 - val_accuracy: 0.6637\n",
            "Epoch 136/1000\n",
            "91/91 [==============================] - 1s 10ms/step - loss: 0.1421 - accuracy: 0.9632 - val_loss: 2.9526 - val_accuracy: 0.6664\n",
            "Epoch 137/1000\n",
            "91/91 [==============================] - 1s 10ms/step - loss: 0.1108 - accuracy: 0.9673 - val_loss: 3.3520 - val_accuracy: 0.6513\n",
            "Epoch 138/1000\n",
            "91/91 [==============================] - 1s 11ms/step - loss: 0.1273 - accuracy: 0.9639 - val_loss: 2.7571 - val_accuracy: 0.6642\n",
            "Epoch 139/1000\n",
            "91/91 [==============================] - 1s 11ms/step - loss: 0.1036 - accuracy: 0.9686 - val_loss: 3.0594 - val_accuracy: 0.6677\n",
            "Epoch 140/1000\n",
            "91/91 [==============================] - 1s 11ms/step - loss: 0.1024 - accuracy: 0.9682 - val_loss: 3.1975 - val_accuracy: 0.6703\n",
            "Epoch 141/1000\n",
            "91/91 [==============================] - 1s 10ms/step - loss: 0.1090 - accuracy: 0.9682 - val_loss: 2.9295 - val_accuracy: 0.6721\n",
            "Epoch 142/1000\n",
            "91/91 [==============================] - 1s 10ms/step - loss: 0.1042 - accuracy: 0.9681 - val_loss: 3.1884 - val_accuracy: 0.6761\n",
            "Epoch 143/1000\n",
            "91/91 [==============================] - 1s 10ms/step - loss: 0.0921 - accuracy: 0.9704 - val_loss: 3.8034 - val_accuracy: 0.6708\n",
            "Epoch 144/1000\n",
            "91/91 [==============================] - 1s 10ms/step - loss: 0.0989 - accuracy: 0.9697 - val_loss: 3.4570 - val_accuracy: 0.6690\n",
            "Epoch 145/1000\n",
            "91/91 [==============================] - 1s 11ms/step - loss: 0.1156 - accuracy: 0.9652 - val_loss: 3.3477 - val_accuracy: 0.6615\n",
            "Epoch 146/1000\n",
            "91/91 [==============================] - 1s 11ms/step - loss: 0.1287 - accuracy: 0.9633 - val_loss: 2.7341 - val_accuracy: 0.6637\n",
            "Epoch 147/1000\n",
            "91/91 [==============================] - 1s 11ms/step - loss: 0.1121 - accuracy: 0.9670 - val_loss: 2.7996 - val_accuracy: 0.6620\n",
            "Epoch 148/1000\n",
            "91/91 [==============================] - 1s 10ms/step - loss: 0.1202 - accuracy: 0.9642 - val_loss: 2.8167 - val_accuracy: 0.6460\n",
            "Epoch 149/1000\n",
            "91/91 [==============================] - 1s 11ms/step - loss: 0.1147 - accuracy: 0.9657 - val_loss: 2.8389 - val_accuracy: 0.6606\n",
            "Epoch 150/1000\n",
            "91/91 [==============================] - 1s 11ms/step - loss: 0.1082 - accuracy: 0.9673 - val_loss: 3.1717 - val_accuracy: 0.6757\n",
            "Epoch 151/1000\n",
            "91/91 [==============================] - 1s 11ms/step - loss: 0.1056 - accuracy: 0.9677 - val_loss: 3.0527 - val_accuracy: 0.6734\n",
            "Epoch 152/1000\n",
            "91/91 [==============================] - 1s 10ms/step - loss: 0.1121 - accuracy: 0.9670 - val_loss: 2.6451 - val_accuracy: 0.6761\n",
            "Epoch 153/1000\n",
            "91/91 [==============================] - 1s 11ms/step - loss: 0.1204 - accuracy: 0.9645 - val_loss: 2.6574 - val_accuracy: 0.6655\n",
            "Epoch 154/1000\n",
            "91/91 [==============================] - 1s 10ms/step - loss: 0.1182 - accuracy: 0.9646 - val_loss: 3.0561 - val_accuracy: 0.6584\n",
            "Epoch 155/1000\n",
            "91/91 [==============================] - 1s 10ms/step - loss: 0.1072 - accuracy: 0.9687 - val_loss: 3.2004 - val_accuracy: 0.6730\n",
            "Epoch 156/1000\n",
            "91/91 [==============================] - 1s 11ms/step - loss: 0.1166 - accuracy: 0.9656 - val_loss: 2.8353 - val_accuracy: 0.6593\n",
            "Epoch 157/1000\n",
            "91/91 [==============================] - 1s 11ms/step - loss: 0.1142 - accuracy: 0.9659 - val_loss: 3.1312 - val_accuracy: 0.6717\n",
            "Epoch 158/1000\n",
            "91/91 [==============================] - 1s 10ms/step - loss: 0.1252 - accuracy: 0.9653 - val_loss: 3.1539 - val_accuracy: 0.6743\n",
            "Epoch 159/1000\n",
            "91/91 [==============================] - 1s 11ms/step - loss: 0.1137 - accuracy: 0.9676 - val_loss: 3.0833 - val_accuracy: 0.6770\n",
            "Epoch 160/1000\n",
            "91/91 [==============================] - 1s 11ms/step - loss: 0.1063 - accuracy: 0.9670 - val_loss: 3.1769 - val_accuracy: 0.6673\n",
            "Epoch 161/1000\n",
            "91/91 [==============================] - 1s 11ms/step - loss: 0.1114 - accuracy: 0.9660 - val_loss: 3.1265 - val_accuracy: 0.6703\n",
            "Epoch 162/1000\n",
            "91/91 [==============================] - 1s 10ms/step - loss: 0.1197 - accuracy: 0.9649 - val_loss: 2.8070 - val_accuracy: 0.6642\n",
            "Epoch 163/1000\n",
            "91/91 [==============================] - 1s 11ms/step - loss: 0.1085 - accuracy: 0.9670 - val_loss: 3.0175 - val_accuracy: 0.6677\n",
            "Epoch 164/1000\n",
            "91/91 [==============================] - 1s 11ms/step - loss: 0.1028 - accuracy: 0.9684 - val_loss: 3.3389 - val_accuracy: 0.6690\n",
            "Epoch 165/1000\n",
            "91/91 [==============================] - 1s 10ms/step - loss: 0.1027 - accuracy: 0.9686 - val_loss: 3.3876 - val_accuracy: 0.6765\n",
            "Epoch 166/1000\n",
            "91/91 [==============================] - 1s 11ms/step - loss: 0.1130 - accuracy: 0.9663 - val_loss: 2.8747 - val_accuracy: 0.6673\n",
            "Epoch 167/1000\n",
            "91/91 [==============================] - 1s 10ms/step - loss: 0.0952 - accuracy: 0.9701 - val_loss: 3.3845 - val_accuracy: 0.6708\n",
            "Epoch 168/1000\n",
            "91/91 [==============================] - 1s 10ms/step - loss: 0.0990 - accuracy: 0.9686 - val_loss: 3.7903 - val_accuracy: 0.6757\n",
            "Epoch 169/1000\n",
            "91/91 [==============================] - 1s 10ms/step - loss: 0.1069 - accuracy: 0.9673 - val_loss: 3.2883 - val_accuracy: 0.6606\n",
            "Epoch 170/1000\n",
            "91/91 [==============================] - 1s 11ms/step - loss: 0.1095 - accuracy: 0.9676 - val_loss: 3.4414 - val_accuracy: 0.6606\n",
            "Epoch 171/1000\n",
            "91/91 [==============================] - 1s 11ms/step - loss: 0.1178 - accuracy: 0.9664 - val_loss: 3.2070 - val_accuracy: 0.6655\n",
            "Epoch 172/1000\n",
            "91/91 [==============================] - 1s 10ms/step - loss: 0.1058 - accuracy: 0.9687 - val_loss: 3.1357 - val_accuracy: 0.6633\n",
            "Epoch 173/1000\n",
            "91/91 [==============================] - 1s 11ms/step - loss: 0.1217 - accuracy: 0.9639 - val_loss: 3.2028 - val_accuracy: 0.6686\n",
            "Epoch 174/1000\n",
            "91/91 [==============================] - 1s 11ms/step - loss: 0.0993 - accuracy: 0.9697 - val_loss: 3.7416 - val_accuracy: 0.6673\n",
            "Epoch 175/1000\n",
            "91/91 [==============================] - 1s 11ms/step - loss: 0.1163 - accuracy: 0.9677 - val_loss: 3.1174 - val_accuracy: 0.6606\n",
            "Epoch 176/1000\n",
            "91/91 [==============================] - 1s 10ms/step - loss: 0.1043 - accuracy: 0.9676 - val_loss: 3.3557 - val_accuracy: 0.6624\n",
            "Epoch 177/1000\n",
            "91/91 [==============================] - 1s 10ms/step - loss: 0.1259 - accuracy: 0.9637 - val_loss: 3.4792 - val_accuracy: 0.6655\n",
            "Epoch 178/1000\n",
            "91/91 [==============================] - 1s 10ms/step - loss: 0.1037 - accuracy: 0.9685 - val_loss: 3.6302 - val_accuracy: 0.6712\n",
            "Epoch 179/1000\n",
            "91/91 [==============================] - 1s 11ms/step - loss: 0.1075 - accuracy: 0.9674 - val_loss: 3.1161 - val_accuracy: 0.6597\n",
            "Epoch 180/1000\n",
            "91/91 [==============================] - 1s 10ms/step - loss: 0.1210 - accuracy: 0.9649 - val_loss: 3.3263 - val_accuracy: 0.6659\n",
            "Epoch 181/1000\n",
            "91/91 [==============================] - 1s 11ms/step - loss: 0.1075 - accuracy: 0.9676 - val_loss: 3.2351 - val_accuracy: 0.6730\n",
            "Epoch 182/1000\n",
            "91/91 [==============================] - 1s 10ms/step - loss: 0.1074 - accuracy: 0.9681 - val_loss: 3.1919 - val_accuracy: 0.6717\n",
            "Epoch 183/1000\n",
            "91/91 [==============================] - 1s 10ms/step - loss: 0.1147 - accuracy: 0.9672 - val_loss: 3.0479 - val_accuracy: 0.6655\n",
            "Epoch 184/1000\n",
            "91/91 [==============================] - 1s 11ms/step - loss: 0.1118 - accuracy: 0.9656 - val_loss: 3.4465 - val_accuracy: 0.6646\n",
            "Epoch 185/1000\n",
            "91/91 [==============================] - 1s 11ms/step - loss: 0.1141 - accuracy: 0.9659 - val_loss: 3.1006 - val_accuracy: 0.6686\n",
            "Epoch 186/1000\n",
            "91/91 [==============================] - 1s 10ms/step - loss: 0.1140 - accuracy: 0.9666 - val_loss: 3.0519 - val_accuracy: 0.6633\n",
            "Epoch 187/1000\n",
            "91/91 [==============================] - 1s 11ms/step - loss: 0.0969 - accuracy: 0.9697 - val_loss: 3.2664 - val_accuracy: 0.6757\n",
            "Epoch 188/1000\n",
            "91/91 [==============================] - 1s 11ms/step - loss: 0.0976 - accuracy: 0.9695 - val_loss: 3.3521 - val_accuracy: 0.6690\n",
            "Epoch 189/1000\n",
            "91/91 [==============================] - 1s 11ms/step - loss: 0.1097 - accuracy: 0.9671 - val_loss: 3.0253 - val_accuracy: 0.6686\n",
            "Epoch 190/1000\n",
            "91/91 [==============================] - 1s 10ms/step - loss: 0.0994 - accuracy: 0.9699 - val_loss: 3.3170 - val_accuracy: 0.6664\n",
            "Epoch 191/1000\n",
            "91/91 [==============================] - 1s 11ms/step - loss: 0.0980 - accuracy: 0.9692 - val_loss: 3.3893 - val_accuracy: 0.6655\n",
            "Epoch 192/1000\n",
            "91/91 [==============================] - 1s 11ms/step - loss: 0.1165 - accuracy: 0.9663 - val_loss: 2.9592 - val_accuracy: 0.6681\n",
            "Epoch 193/1000\n",
            "91/91 [==============================] - 1s 10ms/step - loss: 0.1024 - accuracy: 0.9698 - val_loss: 3.3518 - val_accuracy: 0.6650\n",
            "236/236 [==============================] - 1s 4ms/step - loss: 5.4093 - accuracy: 0.6198\n"
          ]
        },
        {
          "output_type": "display_data",
          "data": {
            "text/plain": [
              "<Figure size 432x288 with 1 Axes>"
            ],
            "image/png": "[encoded data removed]"
          },
          "metadata": {
            "needs_background": "light"
          }
        }
      ],
      "source": [
        "callback = tf.keras.callbacks.EarlyStopping(monitor='loss', patience=50, restore_best_weights=True) \n",
        "\n",
        "model.compile(loss=\"categorical_crossentropy\", optimizer=\"Adam\", metrics=[\"accuracy\"])\n",
        "train_log = model.fit(X_train, y_train, epochs=1000, batch_size=100, validation_split=.2, verbose=1, callbacks=[callback])\n",
        "model.evaluate(X_test, y_test)\n",
        "plot_loss(train_log)"
      ]
    }
  ],
  "metadata": {
    "interpreter": {
      "hash": "4d722d3adfa415172c1f5238b519fb86b488acdae450fd691ab06c09f4ca9173"
    },
    "kernelspec": {
      "display_name": "Python 3.9.7 ('ml3950')",
      "language": "python",
      "name": "python3"
    },
    "language_info": {
      "codemirror_mode": {
        "name": "ipython",
        "version": 3
      },
      "file_extension": ".py",
      "mimetype": "text/x-python",
      "name": "python",
      "nbconvert_exporter": "python",
      "pygments_lexer": "ipython3",
      "version": "3.9.7"
    },
    "orig_nbformat": 4,
    "colab": {
      "name": "keras_tensor_sol.ipynb",
      "provenance": []
    },
    "accelerator": "GPU"
  },
  "nbformat": 4,
  "nbformat_minor": 0
}