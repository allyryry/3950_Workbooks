{
 "cells": [
  {
   "cell_type": "code",
   "execution_count": 152,
   "metadata": {},
   "outputs": [],
   "source": [
    "import numpy as np\n",
    "import pandas as pd\n",
    "from sklearn.model_selection import train_test_split\n",
    "import tensorflow as tf\n",
    "import keras\n",
    "from keras.datasets import fashion_mnist, cifar10\n",
    "from keras.layers import Dense, Flatten, Normalization, Dropout\n",
    "from keras.models import Sequential\n",
    "from keras.losses import SparseCategoricalCrossentropy, CategoricalCrossentropy\n",
    "from keras.callbacks import EarlyStopping\n",
    "from keras.utils import np_utils\n",
    "\n",
    "import matplotlib as mpl\n",
    "import matplotlib.pyplot as plt"
   ]
  },
  {
   "cell_type": "markdown",
   "metadata": {},
   "source": [
    "# Neural Networks and Images\n",
    "\n",
    "Images are perhaps the place where neural networks have had the most dramatic impact. The best neural networks can very accurately perform image recognition, to the point that they can identify disease in medical imaging better than doctors, or track people's faces (or even their gait) in real time video. "
   ]
  },
  {
   "cell_type": "markdown",
   "metadata": {},
   "source": [
    "## Image Data\n",
    "\n",
    "Until now we've used simple images that only have one color, we can expand this a bit now to handle more \"normal\" images. We will use one of the sample ones from Keras called cifar10. \n",
    "\n",
    "### Color Images\n",
    "\n",
    "Color images have a greater depth - one layer for each color. Usually this is one for red, blue, and green, or RGB. There are other color encodings, but the idea is pretty similar. Of note for us, these images are now 3 dimensional - in terms of their representation as an array. \n",
    "\n",
    "![RGB](images/rgb.png \"RGB\" )"
   ]
  },
  {
   "cell_type": "code",
   "execution_count": 153,
   "metadata": {},
   "outputs": [],
   "source": [
    "# Load data\n",
    "# Note: the class names are taken from the documentation\n",
    "(X_train, y_train), (X_test, y_test) = keras.datasets.cifar10.load_data()\n",
    "X_train, X_test = X_train / 255.0, X_test / 255.0\n",
    "class_names = ['airplane', 'automobile', 'bird', 'cat', 'deer', 'dog', 'frog', 'horse', 'ship', 'truck']\n"
   ]
  },
  {
   "cell_type": "markdown",
   "metadata": {},
   "source": [
    "### Visualizing\n",
    "\n",
    "We can use imshow to display one image. "
   ]
  },
  {
   "cell_type": "code",
   "execution_count": 156,
   "metadata": {},
   "outputs": [
    {
     "data": {
      "image/png": "[encoded data removed]",
      "text/plain": [
       "<Figure size 432x288 with 1 Axes>"
      ]
     },
     "metadata": {
      "needs_background": "light"
     },
     "output_type": "display_data"
    }
   ],
   "source": [
    "plt.imshow(X_train[7])\n",
    "plt.xlabel(class_names[y_train[7][0]]) #The CIFAR labels happen to be arrays, so we need the extra index\n",
    "plt.show()"
   ]
  },
  {
   "cell_type": "markdown",
   "metadata": {},
   "source": [
    "### Helper Functions\n",
    "\n",
    "We can make a simple helper to display an image. We can also use our loss plotting function from before. "
   ]
  },
  {
   "cell_type": "code",
   "execution_count": 157,
   "metadata": {},
   "outputs": [],
   "source": [
    "def show_img(data, labels, names, index):\n",
    "    plt.xticks([])\n",
    "    plt.yticks([])\n",
    "    plt.imshow(data[index])\n",
    "    plt.xlabel(names[labels[index][0]]) #The CIFAR labels happen to be arrays, so we need the extra index\n",
    "    plt.show()"
   ]
  },
  {
   "cell_type": "code",
   "execution_count": 154,
   "metadata": {},
   "outputs": [],
   "source": [
    "# Helper to plot loss\n",
    "def plot_loss(history):\n",
    "  plt.plot(history.history['loss'], label='loss')\n",
    "  plt.plot(history.history['val_loss'], label='val_loss')\n",
    "  plt.legend()\n",
    "  plt.grid(True)\n",
    "  plt.show()"
   ]
  },
  {
   "cell_type": "code",
   "execution_count": 155,
   "metadata": {},
   "outputs": [],
   "source": [
    "def plot_acc(history):\n",
    "  plt.plot(history.history['accuracy'], label='accuracy')\n",
    "  plt.plot(history.history['val_accuracy'], label='val_accuracy')\n",
    "  plt.legend()\n",
    "  plt.grid(True)\n",
    "  plt.show()"
   ]
  },
  {
   "cell_type": "code",
   "execution_count": 158,
   "metadata": {},
   "outputs": [
    {
     "data": {
      "image/png": "[encoded data removed]",
      "text/plain": [
       "<Figure size 432x288 with 1 Axes>"
      ]
     },
     "metadata": {},
     "output_type": "display_data"
    }
   ],
   "source": [
    "show_img(X_train, y_train, class_names, 192)"
   ]
  },
  {
   "cell_type": "markdown",
   "metadata": {},
   "source": [
    "### Data Shape and Model\n",
    "\n",
    "Our data starts as images that are 32 x 32 x 3 - 32 pixels by 32 pixels by color depth of 3 (RGB).\n",
    "\n",
    "#### Flatten\n",
    "\n",
    "One new addition we can utilize is the Flatten layer, which does exactly what is says.  The flatten layer does the same thing we did when reshaping digit images, it makes them into a flat array. We specify the shape of one example of our dataset as the input shape argument. "
   ]
  },
  {
   "cell_type": "markdown",
   "metadata": {},
   "source": [
    "### Classification - Activation and Loss\n",
    "\n",
    "Since we are doing a classification with Keras now we need to make a few small changes to handle that. \n",
    "\n",
    "#### Activation\n",
    "\n",
    "The first change is the activation on the output layer. When doing regression we want raw predictions, so there's no activation. Here we want to classify so we need to add activation. Since we are classifying into multiple classes we can use softmax to do so. We also have to set the units to the number of classes that we are predicting, in this case 10. \n",
    "\n",
    "Recall from when we first looked at multiclass classifications, the result of softmax is that we get a breakdown of probabilities that each record belongs to each of the classes, totalling to 1. Each class is represented by an output neuron, and the largest one wins and gets the label. \n",
    "\n",
    "#### Loss\n",
    "\n",
    "We also want to use different loss metrics when doing classifications. Here we will use categorical cross entropy. \n",
    "\n",
    "We will need to use to_categorical here to make our current labels (e.g. [4]) into a one-hot categorical array (e.g. [0,0,0,0,1,0,0,0,0,0]). "
   ]
  },
  {
   "cell_type": "code",
   "execution_count": 159,
   "metadata": {},
   "outputs": [],
   "source": [
    "y_test = np_utils.to_categorical(y_test)\n",
    "y_train = np_utils.to_categorical(y_train)"
   ]
  },
  {
   "cell_type": "code",
   "execution_count": 160,
   "metadata": {},
   "outputs": [
    {
     "name": "stdout",
     "output_type": "stream",
     "text": [
      "Model: \"sequential_23\"\n",
      "_________________________________________________________________\n",
      " Layer (type)                Output Shape              Param #   \n",
      "=================================================================\n",
      " flatten_23 (Flatten)        (None, 3072)              0         \n",
      "                                                                 \n",
      " dense_64 (Dense)            (None, 256)               786688    \n",
      "                                                                 \n",
      " dense_65 (Dense)            (None, 10)                2570      \n",
      "                                                                 \n",
      "=================================================================\n",
      "Total params: 789,258\n",
      "Trainable params: 789,258\n",
      "Non-trainable params: 0\n",
      "_________________________________________________________________\n"
     ]
    }
   ],
   "source": [
    "model = Sequential()\n",
    "model.add(Flatten(input_shape=(32, 32, 3)))\n",
    "model.add(Dense(256, activation='relu'))\n",
    "model.add(Dense(10, activation='softmax'))\n",
    "model.summary()"
   ]
  },
  {
   "cell_type": "code",
   "execution_count": 161,
   "metadata": {},
   "outputs": [
    {
     "name": "stdout",
     "output_type": "stream",
     "text": [
      "Epoch 1/100\n",
      "350/350 [==============================] - 3s 6ms/step - loss: 1.9758 - accuracy: 0.3049 - val_loss: 1.8524 - val_accuracy: 0.3468\n",
      "Epoch 2/100\n",
      "350/350 [==============================] - 2s 5ms/step - loss: 1.7963 - accuracy: 0.3632 - val_loss: 1.7933 - val_accuracy: 0.3645\n",
      "Epoch 3/100\n",
      "350/350 [==============================] - 2s 5ms/step - loss: 1.7173 - accuracy: 0.3893 - val_loss: 1.7198 - val_accuracy: 0.3981\n",
      "Epoch 4/100\n",
      "350/350 [==============================] - 2s 5ms/step - loss: 1.6694 - accuracy: 0.4100 - val_loss: 1.7022 - val_accuracy: 0.3938\n",
      "Epoch 5/100\n",
      "350/350 [==============================] - 2s 5ms/step - loss: 1.6317 - accuracy: 0.4238 - val_loss: 1.6891 - val_accuracy: 0.4046\n",
      "Epoch 6/100\n",
      "350/350 [==============================] - 2s 5ms/step - loss: 1.6062 - accuracy: 0.4317 - val_loss: 1.6474 - val_accuracy: 0.4163\n",
      "Epoch 7/100\n",
      "350/350 [==============================] - 2s 5ms/step - loss: 1.5824 - accuracy: 0.4409 - val_loss: 1.6265 - val_accuracy: 0.4201\n",
      "Epoch 8/100\n",
      "350/350 [==============================] - 2s 5ms/step - loss: 1.5608 - accuracy: 0.4495 - val_loss: 1.6140 - val_accuracy: 0.4251\n",
      "Epoch 9/100\n",
      "350/350 [==============================] - 2s 5ms/step - loss: 1.5459 - accuracy: 0.4542 - val_loss: 1.6196 - val_accuracy: 0.4235\n",
      "Epoch 10/100\n",
      "350/350 [==============================] - 2s 5ms/step - loss: 1.5271 - accuracy: 0.4615 - val_loss: 1.6705 - val_accuracy: 0.4017\n",
      "Epoch 11/100\n",
      "350/350 [==============================] - 2s 5ms/step - loss: 1.5146 - accuracy: 0.4644 - val_loss: 1.5976 - val_accuracy: 0.4381\n",
      "Epoch 12/100\n",
      "350/350 [==============================] - 2s 5ms/step - loss: 1.5038 - accuracy: 0.4670 - val_loss: 1.5763 - val_accuracy: 0.4483\n",
      "Epoch 13/100\n",
      "350/350 [==============================] - 2s 5ms/step - loss: 1.4861 - accuracy: 0.4767 - val_loss: 1.5462 - val_accuracy: 0.4579\n",
      "Epoch 14/100\n",
      "350/350 [==============================] - 2s 5ms/step - loss: 1.4765 - accuracy: 0.4795 - val_loss: 1.5816 - val_accuracy: 0.4430\n",
      "Epoch 15/100\n",
      "350/350 [==============================] - 2s 5ms/step - loss: 1.4761 - accuracy: 0.4808 - val_loss: 1.5631 - val_accuracy: 0.4500\n",
      "Epoch 16/100\n",
      "350/350 [==============================] - 2s 5ms/step - loss: 1.4613 - accuracy: 0.4831 - val_loss: 1.5673 - val_accuracy: 0.4482\n",
      "Epoch 17/100\n",
      "350/350 [==============================] - 2s 5ms/step - loss: 1.4464 - accuracy: 0.4894 - val_loss: 1.5393 - val_accuracy: 0.4589\n",
      "Epoch 18/100\n",
      "350/350 [==============================] - 2s 5ms/step - loss: 1.4389 - accuracy: 0.4926 - val_loss: 1.5369 - val_accuracy: 0.4607\n",
      "Epoch 19/100\n",
      "350/350 [==============================] - 2s 5ms/step - loss: 1.4387 - accuracy: 0.4925 - val_loss: 1.5281 - val_accuracy: 0.4600\n",
      "Epoch 20/100\n",
      "350/350 [==============================] - 2s 5ms/step - loss: 1.4206 - accuracy: 0.4979 - val_loss: 1.5404 - val_accuracy: 0.4573\n",
      "Epoch 21/100\n",
      "350/350 [==============================] - 2s 5ms/step - loss: 1.4174 - accuracy: 0.4963 - val_loss: 1.5475 - val_accuracy: 0.4553\n",
      "Epoch 22/100\n",
      "350/350 [==============================] - 2s 5ms/step - loss: 1.4079 - accuracy: 0.5036 - val_loss: 1.5518 - val_accuracy: 0.4493\n",
      "Epoch 23/100\n",
      "350/350 [==============================] - 2s 5ms/step - loss: 1.3985 - accuracy: 0.5028 - val_loss: 1.5088 - val_accuracy: 0.4727\n",
      "Epoch 24/100\n",
      "350/350 [==============================] - 2s 5ms/step - loss: 1.4003 - accuracy: 0.5067 - val_loss: 1.5208 - val_accuracy: 0.4681\n",
      "Epoch 25/100\n",
      "350/350 [==============================] - 2s 5ms/step - loss: 1.3900 - accuracy: 0.5077 - val_loss: 1.5259 - val_accuracy: 0.4591\n",
      "Epoch 26/100\n",
      "350/350 [==============================] - 2s 5ms/step - loss: 1.3811 - accuracy: 0.5109 - val_loss: 1.5551 - val_accuracy: 0.4617\n",
      "Epoch 27/100\n",
      "350/350 [==============================] - 2s 5ms/step - loss: 1.3769 - accuracy: 0.5132 - val_loss: 1.5365 - val_accuracy: 0.4681\n",
      "Epoch 28/100\n",
      "350/350 [==============================] - 2s 5ms/step - loss: 1.3723 - accuracy: 0.5129 - val_loss: 1.5389 - val_accuracy: 0.4577\n",
      "Epoch 29/100\n",
      "350/350 [==============================] - 2s 5ms/step - loss: 1.3753 - accuracy: 0.5093 - val_loss: 1.5388 - val_accuracy: 0.4606\n",
      "Epoch 30/100\n",
      "350/350 [==============================] - 2s 6ms/step - loss: 1.3622 - accuracy: 0.5170 - val_loss: 1.5070 - val_accuracy: 0.4731\n",
      "Epoch 31/100\n",
      "350/350 [==============================] - 2s 5ms/step - loss: 1.3569 - accuracy: 0.5190 - val_loss: 1.5661 - val_accuracy: 0.4501\n",
      "Epoch 32/100\n",
      "350/350 [==============================] - 2s 5ms/step - loss: 1.3452 - accuracy: 0.5224 - val_loss: 1.5271 - val_accuracy: 0.4656\n",
      "Epoch 33/100\n",
      "350/350 [==============================] - 2s 5ms/step - loss: 1.3371 - accuracy: 0.5267 - val_loss: 1.5670 - val_accuracy: 0.4529\n",
      "Epoch 34/100\n",
      "350/350 [==============================] - 2s 5ms/step - loss: 1.3349 - accuracy: 0.5238 - val_loss: 1.5244 - val_accuracy: 0.4677\n",
      "Epoch 35/100\n",
      "350/350 [==============================] - 2s 5ms/step - loss: 1.3327 - accuracy: 0.5279 - val_loss: 1.5070 - val_accuracy: 0.4765\n",
      "Epoch 36/100\n",
      "350/350 [==============================] - 2s 5ms/step - loss: 1.3283 - accuracy: 0.5305 - val_loss: 1.5745 - val_accuracy: 0.4573\n",
      "Epoch 37/100\n",
      "350/350 [==============================] - 2s 5ms/step - loss: 1.3277 - accuracy: 0.5289 - val_loss: 1.5214 - val_accuracy: 0.4673\n",
      "Epoch 38/100\n",
      "350/350 [==============================] - 2s 5ms/step - loss: 1.3173 - accuracy: 0.5330 - val_loss: 1.5028 - val_accuracy: 0.4815\n",
      "Epoch 39/100\n",
      "350/350 [==============================] - 2s 5ms/step - loss: 1.3152 - accuracy: 0.5350 - val_loss: 1.5207 - val_accuracy: 0.4666\n",
      "Epoch 40/100\n",
      "350/350 [==============================] - 2s 6ms/step - loss: 1.3042 - accuracy: 0.5408 - val_loss: 1.4951 - val_accuracy: 0.4803\n",
      "Epoch 41/100\n",
      "350/350 [==============================] - 2s 6ms/step - loss: 1.3081 - accuracy: 0.5381 - val_loss: 1.5134 - val_accuracy: 0.4779\n",
      "Epoch 42/100\n",
      "350/350 [==============================] - 2s 5ms/step - loss: 1.2968 - accuracy: 0.5422 - val_loss: 1.5051 - val_accuracy: 0.4773\n",
      "Epoch 43/100\n",
      "350/350 [==============================] - 2s 5ms/step - loss: 1.2982 - accuracy: 0.5384 - val_loss: 1.5255 - val_accuracy: 0.4653\n",
      "Epoch 44/100\n",
      "350/350 [==============================] - 2s 5ms/step - loss: 1.2929 - accuracy: 0.5429 - val_loss: 1.5038 - val_accuracy: 0.4770\n",
      "Epoch 45/100\n",
      "350/350 [==============================] - 2s 6ms/step - loss: 1.2873 - accuracy: 0.5471 - val_loss: 1.5095 - val_accuracy: 0.4746\n",
      "Epoch 46/100\n",
      "350/350 [==============================] - 2s 5ms/step - loss: 1.2829 - accuracy: 0.5456 - val_loss: 1.5141 - val_accuracy: 0.4775\n",
      "Epoch 47/100\n",
      "350/350 [==============================] - 2s 5ms/step - loss: 1.2714 - accuracy: 0.5502 - val_loss: 1.5166 - val_accuracy: 0.4739\n",
      "Epoch 48/100\n",
      "350/350 [==============================] - 2s 5ms/step - loss: 1.2765 - accuracy: 0.5465 - val_loss: 1.5511 - val_accuracy: 0.4723\n",
      "Epoch 49/100\n",
      "350/350 [==============================] - 2s 5ms/step - loss: 1.2779 - accuracy: 0.5462 - val_loss: 1.5160 - val_accuracy: 0.4735\n",
      "Epoch 50/100\n",
      "350/350 [==============================] - 2s 5ms/step - loss: 1.2733 - accuracy: 0.5497 - val_loss: 1.5053 - val_accuracy: 0.4826\n",
      "Epoch 51/100\n",
      "350/350 [==============================] - 2s 5ms/step - loss: 1.2611 - accuracy: 0.5517 - val_loss: 1.5351 - val_accuracy: 0.4723\n",
      "Epoch 52/100\n",
      "350/350 [==============================] - 2s 5ms/step - loss: 1.2612 - accuracy: 0.5515 - val_loss: 1.4979 - val_accuracy: 0.4773\n",
      "Epoch 53/100\n",
      "350/350 [==============================] - 2s 5ms/step - loss: 1.2592 - accuracy: 0.5540 - val_loss: 1.5193 - val_accuracy: 0.4715\n",
      "Epoch 54/100\n",
      "350/350 [==============================] - 2s 5ms/step - loss: 1.2592 - accuracy: 0.5524 - val_loss: 1.5117 - val_accuracy: 0.4805\n",
      "Epoch 55/100\n",
      "350/350 [==============================] - 2s 5ms/step - loss: 1.2576 - accuracy: 0.5537 - val_loss: 1.5447 - val_accuracy: 0.4701\n",
      "Epoch 56/100\n",
      "350/350 [==============================] - 2s 5ms/step - loss: 1.2463 - accuracy: 0.5593 - val_loss: 1.5135 - val_accuracy: 0.4791\n",
      "Epoch 57/100\n",
      "350/350 [==============================] - 2s 5ms/step - loss: 1.2464 - accuracy: 0.5582 - val_loss: 1.5427 - val_accuracy: 0.4648\n",
      "Epoch 58/100\n",
      "350/350 [==============================] - 2s 5ms/step - loss: 1.2439 - accuracy: 0.5589 - val_loss: 1.5500 - val_accuracy: 0.4695\n",
      "Epoch 59/100\n",
      "350/350 [==============================] - 2s 5ms/step - loss: 1.2420 - accuracy: 0.5603 - val_loss: 1.5202 - val_accuracy: 0.4799\n",
      "Epoch 60/100\n",
      "350/350 [==============================] - 2s 6ms/step - loss: 1.2338 - accuracy: 0.5633 - val_loss: 1.5276 - val_accuracy: 0.4768\n",
      "Epoch 61/100\n",
      "350/350 [==============================] - 2s 5ms/step - loss: 1.2413 - accuracy: 0.5581 - val_loss: 1.5508 - val_accuracy: 0.4680\n",
      "Epoch 62/100\n",
      "350/350 [==============================] - 2s 5ms/step - loss: 1.2342 - accuracy: 0.5619 - val_loss: 1.5295 - val_accuracy: 0.4776\n",
      "Epoch 63/100\n",
      "350/350 [==============================] - 2s 5ms/step - loss: 1.2246 - accuracy: 0.5647 - val_loss: 1.5565 - val_accuracy: 0.4668\n",
      "Epoch 64/100\n",
      "350/350 [==============================] - 2s 5ms/step - loss: 1.2215 - accuracy: 0.5682 - val_loss: 1.5912 - val_accuracy: 0.4657\n",
      "Epoch 65/100\n",
      "350/350 [==============================] - 2s 6ms/step - loss: 1.2246 - accuracy: 0.5629 - val_loss: 1.5186 - val_accuracy: 0.4803\n",
      "Epoch 66/100\n",
      "350/350 [==============================] - 2s 5ms/step - loss: 1.2206 - accuracy: 0.5669 - val_loss: 1.5241 - val_accuracy: 0.4802\n",
      "Epoch 67/100\n",
      "350/350 [==============================] - 2s 5ms/step - loss: 1.2221 - accuracy: 0.5688 - val_loss: 1.5248 - val_accuracy: 0.4740\n",
      "Epoch 68/100\n",
      "350/350 [==============================] - 2s 5ms/step - loss: 1.2121 - accuracy: 0.5742 - val_loss: 1.5166 - val_accuracy: 0.4775\n",
      "Epoch 69/100\n",
      "350/350 [==============================] - 2s 5ms/step - loss: 1.2131 - accuracy: 0.5715 - val_loss: 1.5571 - val_accuracy: 0.4722\n",
      "Epoch 70/100\n",
      "350/350 [==============================] - 2s 5ms/step - loss: 1.2151 - accuracy: 0.5692 - val_loss: 1.5480 - val_accuracy: 0.4746\n",
      "Epoch 71/100\n",
      "350/350 [==============================] - 2s 6ms/step - loss: 1.2113 - accuracy: 0.5696 - val_loss: 1.5553 - val_accuracy: 0.4694\n",
      "Epoch 72/100\n",
      "350/350 [==============================] - 2s 5ms/step - loss: 1.2068 - accuracy: 0.5709 - val_loss: 1.5366 - val_accuracy: 0.4765\n",
      "Epoch 73/100\n",
      "350/350 [==============================] - 2s 5ms/step - loss: 1.2005 - accuracy: 0.5729 - val_loss: 1.5717 - val_accuracy: 0.4663\n",
      "Epoch 74/100\n",
      "350/350 [==============================] - 2s 5ms/step - loss: 1.1924 - accuracy: 0.5766 - val_loss: 1.6112 - val_accuracy: 0.4648\n",
      "Epoch 75/100\n",
      "350/350 [==============================] - 2s 6ms/step - loss: 1.1979 - accuracy: 0.5778 - val_loss: 1.5470 - val_accuracy: 0.4779\n",
      "Epoch 76/100\n",
      "350/350 [==============================] - 2s 5ms/step - loss: 1.1940 - accuracy: 0.5752 - val_loss: 1.5848 - val_accuracy: 0.4707\n",
      "Epoch 77/100\n",
      "350/350 [==============================] - 2s 5ms/step - loss: 1.1911 - accuracy: 0.5765 - val_loss: 1.5341 - val_accuracy: 0.4767\n",
      "Epoch 78/100\n",
      "350/350 [==============================] - 2s 5ms/step - loss: 1.1943 - accuracy: 0.5742 - val_loss: 1.5386 - val_accuracy: 0.4778\n",
      "Epoch 79/100\n",
      "350/350 [==============================] - 2s 5ms/step - loss: 1.1843 - accuracy: 0.5801 - val_loss: 1.5526 - val_accuracy: 0.4738\n",
      "Epoch 80/100\n",
      "350/350 [==============================] - 2s 5ms/step - loss: 1.1844 - accuracy: 0.5791 - val_loss: 1.5877 - val_accuracy: 0.4705\n",
      "Epoch 81/100\n",
      "350/350 [==============================] - 2s 6ms/step - loss: 1.1825 - accuracy: 0.5787 - val_loss: 1.5757 - val_accuracy: 0.4692\n",
      "Epoch 82/100\n",
      "350/350 [==============================] - 2s 5ms/step - loss: 1.1830 - accuracy: 0.5779 - val_loss: 1.5803 - val_accuracy: 0.4688\n",
      "Epoch 83/100\n",
      "350/350 [==============================] - 2s 5ms/step - loss: 1.1745 - accuracy: 0.5838 - val_loss: 1.5757 - val_accuracy: 0.4673\n",
      "Epoch 84/100\n",
      "350/350 [==============================] - 2s 5ms/step - loss: 1.1774 - accuracy: 0.5842 - val_loss: 1.5540 - val_accuracy: 0.4749\n",
      "Epoch 85/100\n",
      "350/350 [==============================] - 2s 6ms/step - loss: 1.1725 - accuracy: 0.5827 - val_loss: 1.5697 - val_accuracy: 0.4687\n",
      "Epoch 86/100\n",
      "350/350 [==============================] - 2s 5ms/step - loss: 1.1740 - accuracy: 0.5830 - val_loss: 1.5594 - val_accuracy: 0.4741\n",
      "Epoch 87/100\n",
      "350/350 [==============================] - 2s 6ms/step - loss: 1.1686 - accuracy: 0.5844 - val_loss: 1.5497 - val_accuracy: 0.4729\n",
      "Epoch 88/100\n",
      "350/350 [==============================] - 2s 5ms/step - loss: 1.1670 - accuracy: 0.5880 - val_loss: 1.5563 - val_accuracy: 0.4738\n",
      "Epoch 89/100\n",
      "350/350 [==============================] - 2s 5ms/step - loss: 1.1659 - accuracy: 0.5836 - val_loss: 1.6178 - val_accuracy: 0.4535\n",
      "Epoch 90/100\n",
      "350/350 [==============================] - 2s 5ms/step - loss: 1.1627 - accuracy: 0.5883 - val_loss: 1.5552 - val_accuracy: 0.4764\n",
      "Epoch 91/100\n",
      "350/350 [==============================] - 2s 5ms/step - loss: 1.1626 - accuracy: 0.5848 - val_loss: 1.5885 - val_accuracy: 0.4691\n",
      "Epoch 92/100\n",
      "350/350 [==============================] - 2s 5ms/step - loss: 1.1656 - accuracy: 0.5864 - val_loss: 1.5660 - val_accuracy: 0.4767\n",
      "Epoch 93/100\n",
      "350/350 [==============================] - 2s 5ms/step - loss: 1.1569 - accuracy: 0.5881 - val_loss: 1.5744 - val_accuracy: 0.4695\n",
      "Epoch 94/100\n",
      "350/350 [==============================] - 2s 5ms/step - loss: 1.1537 - accuracy: 0.5904 - val_loss: 1.6309 - val_accuracy: 0.4644\n",
      "Epoch 95/100\n",
      "350/350 [==============================] - 2s 5ms/step - loss: 1.1472 - accuracy: 0.5937 - val_loss: 1.5852 - val_accuracy: 0.4701\n",
      "Epoch 96/100\n",
      "350/350 [==============================] - 2s 5ms/step - loss: 1.1511 - accuracy: 0.5930 - val_loss: 1.5978 - val_accuracy: 0.4684\n",
      "Epoch 97/100\n",
      "350/350 [==============================] - 2s 5ms/step - loss: 1.1547 - accuracy: 0.5907 - val_loss: 1.6377 - val_accuracy: 0.4629\n",
      "Epoch 98/100\n",
      "350/350 [==============================] - 2s 5ms/step - loss: 1.1484 - accuracy: 0.5923 - val_loss: 1.5715 - val_accuracy: 0.4701\n",
      "Epoch 99/100\n",
      "350/350 [==============================] - 2s 5ms/step - loss: 1.1520 - accuracy: 0.5909 - val_loss: 1.5776 - val_accuracy: 0.4711\n",
      "Epoch 100/100\n",
      "350/350 [==============================] - 2s 5ms/step - loss: 1.1439 - accuracy: 0.5941 - val_loss: 1.5763 - val_accuracy: 0.4709\n",
      "313/313 - 1s - loss: 1.5886 - accuracy: 0.4666 - 784ms/epoch - 3ms/step\n"
     ]
    },
    {
     "data": {
      "image/png": "[encoded data removed]",
      "text/plain": [
       "<Figure size 432x288 with 1 Axes>"
      ]
     },
     "metadata": {
      "needs_background": "light"
     },
     "output_type": "display_data"
    },
    {
     "data": {
      "image/png": "[encoded data removed]",
      "text/plain": [
       "<Figure size 432x288 with 1 Axes>"
      ]
     },
     "metadata": {
      "needs_background": "light"
     },
     "output_type": "display_data"
    }
   ],
   "source": [
    "callback = EarlyStopping(monitor='loss', patience=50, restore_best_weights=True) \n",
    "\n",
    "model.compile(loss=\"categorical_crossentropy\", optimizer=\"Adam\", metrics=[\"accuracy\"])\n",
    "train_log = model.fit(X_train, y_train, epochs=100, batch_size=100, validation_split=.3, verbose=1, callbacks=[callback])\n",
    "model.evaluate(X_test, y_test, verbose=2)\n",
    "plot_loss(train_log)\n",
    "plot_acc(train_log)"
   ]
  },
  {
   "cell_type": "markdown",
   "metadata": {},
   "source": [
    "Our simple model likely didn't do all that well, each of our images is pretty large, so we can likely see improvements by using a larger model. "
   ]
  },
  {
   "cell_type": "code",
   "execution_count": 166,
   "metadata": {},
   "outputs": [
    {
     "name": "stdout",
     "output_type": "stream",
     "text": [
      "Model: \"sequential_26\"\n",
      "_________________________________________________________________\n",
      " Layer (type)                Output Shape              Param #   \n",
      "=================================================================\n",
      " flatten_26 (Flatten)        (None, 3072)              0         \n",
      "                                                                 \n",
      " dense_76 (Dense)            (None, 512)               1573376   \n",
      "                                                                 \n",
      " dense_77 (Dense)            (None, 256)               131328    \n",
      "                                                                 \n",
      " dense_78 (Dense)            (None, 128)               32896     \n",
      "                                                                 \n",
      " dense_79 (Dense)            (None, 64)                8256      \n",
      "                                                                 \n",
      " dense_80 (Dense)            (None, 10)                650       \n",
      "                                                                 \n",
      "=================================================================\n",
      "Total params: 1,746,506\n",
      "Trainable params: 1,746,506\n",
      "Non-trainable params: 0\n",
      "_________________________________________________________________\n"
     ]
    }
   ],
   "source": [
    "model = Sequential()\n",
    "model.add(Flatten(input_shape=(32, 32, 3)))\n",
    "model.add(Dense(256, activation='relu'))\n",
    "model.add(Dense(256, activation='relu'))\n",
    "model.add(Dense(256, activation='relu'))\n",
    "model.add(Dense(10, activation='softmax'))\n",
    "model.summary()"
   ]
  },
  {
   "cell_type": "code",
   "execution_count": 167,
   "metadata": {},
   "outputs": [
    {
     "name": "stdout",
     "output_type": "stream",
     "text": [
      "Epoch 1/100\n",
      "700/700 [==============================] - 9s 11ms/step - loss: 16.0617 - accuracy: 0.1024 - val_loss: 4.4549 - val_accuracy: 0.0984\n",
      "Epoch 2/100\n",
      "700/700 [==============================] - 7s 10ms/step - loss: 4.4520 - accuracy: 0.0982 - val_loss: 4.4581 - val_accuracy: 0.0999\n",
      "Epoch 3/100\n",
      "700/700 [==============================] - 7s 10ms/step - loss: 4.4519 - accuracy: 0.0971 - val_loss: 4.4459 - val_accuracy: 0.0983\n",
      "Epoch 4/100\n",
      "700/700 [==============================] - 8s 12ms/step - loss: 4.4520 - accuracy: 0.0983 - val_loss: 4.4494 - val_accuracy: 0.0984\n",
      "Epoch 5/100\n",
      "700/700 [==============================] - 7s 10ms/step - loss: 4.4521 - accuracy: 0.0983 - val_loss: 4.4462 - val_accuracy: 0.0984\n",
      "Epoch 6/100\n",
      "700/700 [==============================] - 7s 10ms/step - loss: 4.4518 - accuracy: 0.0978 - val_loss: 4.4515 - val_accuracy: 0.0979\n",
      "Epoch 7/100\n",
      "700/700 [==============================] - 8s 11ms/step - loss: 4.4519 - accuracy: 0.0983 - val_loss: 4.4582 - val_accuracy: 0.0984\n",
      "Epoch 8/100\n",
      "700/700 [==============================] - 7s 10ms/step - loss: 4.4519 - accuracy: 0.0976 - val_loss: 4.4544 - val_accuracy: 0.0979\n",
      "Epoch 9/100\n",
      "700/700 [==============================] - 7s 10ms/step - loss: 4.4516 - accuracy: 0.0991 - val_loss: 4.4583 - val_accuracy: 0.0984\n",
      "Epoch 10/100\n",
      "700/700 [==============================] - 8s 11ms/step - loss: 4.4518 - accuracy: 0.0991 - val_loss: 4.4571 - val_accuracy: 0.0979\n",
      "Epoch 11/100\n",
      "700/700 [==============================] - 8s 11ms/step - loss: 4.4517 - accuracy: 0.0972 - val_loss: 4.4533 - val_accuracy: 0.0979\n",
      "Epoch 12/100\n",
      "700/700 [==============================] - 8s 11ms/step - loss: 4.4516 - accuracy: 0.0991 - val_loss: 4.4509 - val_accuracy: 0.0979\n",
      "Epoch 13/100\n",
      "700/700 [==============================] - 7s 10ms/step - loss: 4.4515 - accuracy: 0.0988 - val_loss: 4.4528 - val_accuracy: 0.0984\n",
      "Epoch 14/100\n",
      "700/700 [==============================] - 7s 10ms/step - loss: 4.4517 - accuracy: 0.0978 - val_loss: 4.4529 - val_accuracy: 0.0979\n",
      "Epoch 15/100\n",
      "700/700 [==============================] - 7s 9ms/step - loss: 4.4513 - accuracy: 0.0999 - val_loss: 4.4480 - val_accuracy: 0.0979\n",
      "Epoch 16/100\n",
      "700/700 [==============================] - 7s 10ms/step - loss: 4.4515 - accuracy: 0.0978 - val_loss: 4.4548 - val_accuracy: 0.0979\n",
      "Epoch 17/100\n",
      "700/700 [==============================] - 7s 9ms/step - loss: 4.4515 - accuracy: 0.1002 - val_loss: 4.4477 - val_accuracy: 0.0984\n",
      "Epoch 18/100\n",
      "700/700 [==============================] - 7s 10ms/step - loss: 4.4512 - accuracy: 0.0965 - val_loss: 4.4538 - val_accuracy: 0.0983\n",
      "Epoch 19/100\n",
      "700/700 [==============================] - 8s 11ms/step - loss: 4.4514 - accuracy: 0.0986 - val_loss: 4.4534 - val_accuracy: 0.0984\n",
      "Epoch 20/100\n",
      "700/700 [==============================] - 6s 9ms/step - loss: 4.4514 - accuracy: 0.0979 - val_loss: 4.4529 - val_accuracy: 0.0983\n",
      "Epoch 21/100\n",
      "700/700 [==============================] - 7s 10ms/step - loss: 4.4512 - accuracy: 0.0974 - val_loss: 4.4511 - val_accuracy: 0.0983\n",
      "Epoch 22/100\n",
      "700/700 [==============================] - 6s 9ms/step - loss: 4.4512 - accuracy: 0.1004 - val_loss: 4.4550 - val_accuracy: 0.0979\n",
      "Epoch 23/100\n",
      "700/700 [==============================] - 7s 9ms/step - loss: 4.4513 - accuracy: 0.0987 - val_loss: 4.4525 - val_accuracy: 0.0979\n",
      "Epoch 24/100\n",
      "700/700 [==============================] - 7s 10ms/step - loss: 4.4510 - accuracy: 0.0987 - val_loss: 4.4539 - val_accuracy: 0.0983\n",
      "Epoch 25/100\n",
      "700/700 [==============================] - 7s 9ms/step - loss: 4.4511 - accuracy: 0.0995 - val_loss: 4.4560 - val_accuracy: 0.0983\n",
      "Epoch 26/100\n",
      "700/700 [==============================] - 7s 10ms/step - loss: 4.4512 - accuracy: 0.0981 - val_loss: 4.4525 - val_accuracy: 0.0984\n",
      "Epoch 27/100\n",
      "700/700 [==============================] - 7s 10ms/step - loss: 4.4509 - accuracy: 0.0996 - val_loss: 4.4513 - val_accuracy: 0.0984\n",
      "Epoch 28/100\n",
      "700/700 [==============================] - 7s 9ms/step - loss: 4.4510 - accuracy: 0.0979 - val_loss: 4.4518 - val_accuracy: 0.0984\n",
      "Epoch 29/100\n",
      "700/700 [==============================] - 7s 10ms/step - loss: 4.4510 - accuracy: 0.0979 - val_loss: 4.4465 - val_accuracy: 0.0984\n",
      "Epoch 30/100\n",
      "700/700 [==============================] - 7s 11ms/step - loss: 4.4508 - accuracy: 0.0975 - val_loss: 4.4457 - val_accuracy: 0.0984\n",
      "Epoch 31/100\n",
      "700/700 [==============================] - 7s 10ms/step - loss: 4.4508 - accuracy: 0.1001 - val_loss: 4.4496 - val_accuracy: 0.0983\n",
      "Epoch 32/100\n",
      "700/700 [==============================] - 7s 10ms/step - loss: 4.4509 - accuracy: 0.0977 - val_loss: 4.4516 - val_accuracy: 0.0983\n",
      "Epoch 33/100\n",
      "700/700 [==============================] - 8s 11ms/step - loss: 4.4506 - accuracy: 0.0975 - val_loss: 4.4524 - val_accuracy: 0.0983\n",
      "Epoch 34/100\n",
      "700/700 [==============================] - 8s 11ms/step - loss: 4.4507 - accuracy: 0.0982 - val_loss: 4.4592 - val_accuracy: 0.0984\n",
      "Epoch 35/100\n",
      "700/700 [==============================] - 8s 11ms/step - loss: 4.4507 - accuracy: 0.0962 - val_loss: 4.4518 - val_accuracy: 0.0984\n",
      "Epoch 36/100\n",
      "700/700 [==============================] - 8s 11ms/step - loss: 4.4505 - accuracy: 0.0978 - val_loss: 4.4556 - val_accuracy: 0.0979\n",
      "Epoch 37/100\n",
      "700/700 [==============================] - 8s 11ms/step - loss: 4.4506 - accuracy: 0.0995 - val_loss: 4.4517 - val_accuracy: 0.0983\n",
      "Epoch 38/100\n",
      "700/700 [==============================] - 8s 11ms/step - loss: 4.4506 - accuracy: 0.0983 - val_loss: 4.4531 - val_accuracy: 0.0984\n",
      "Epoch 39/100\n",
      "700/700 [==============================] - 8s 11ms/step - loss: 4.4504 - accuracy: 0.0984 - val_loss: 4.4481 - val_accuracy: 0.0983\n",
      "Epoch 40/100\n",
      "700/700 [==============================] - 8s 11ms/step - loss: 4.4504 - accuracy: 0.0995 - val_loss: 4.4531 - val_accuracy: 0.0984\n",
      "Epoch 41/100\n",
      "700/700 [==============================] - 7s 10ms/step - loss: 4.4505 - accuracy: 0.0985 - val_loss: 4.4473 - val_accuracy: 0.0979\n",
      "Epoch 42/100\n",
      "700/700 [==============================] - 8s 11ms/step - loss: 4.4502 - accuracy: 0.0968 - val_loss: 4.4494 - val_accuracy: 0.0984\n",
      "Epoch 43/100\n",
      "700/700 [==============================] - 8s 11ms/step - loss: 4.4503 - accuracy: 0.0976 - val_loss: 4.4570 - val_accuracy: 0.0984\n",
      "Epoch 44/100\n",
      "700/700 [==============================] - 8s 11ms/step - loss: 4.4503 - accuracy: 0.0977 - val_loss: 4.4527 - val_accuracy: 0.0979\n",
      "Epoch 45/100\n",
      "700/700 [==============================] - 8s 11ms/step - loss: 4.4501 - accuracy: 0.0996 - val_loss: 4.4559 - val_accuracy: 0.0984\n",
      "Epoch 46/100\n",
      "700/700 [==============================] - 8s 11ms/step - loss: 4.4501 - accuracy: 0.0986 - val_loss: 4.4512 - val_accuracy: 0.0983\n",
      "Epoch 47/100\n",
      "700/700 [==============================] - 7s 10ms/step - loss: 4.4502 - accuracy: 0.0988 - val_loss: 4.4468 - val_accuracy: 0.0984\n",
      "Epoch 48/100\n",
      "700/700 [==============================] - 8s 11ms/step - loss: 4.4500 - accuracy: 0.0961 - val_loss: 4.4440 - val_accuracy: 0.0984\n",
      "Epoch 49/100\n",
      "700/700 [==============================] - 8s 11ms/step - loss: 4.4500 - accuracy: 0.0985 - val_loss: 4.4465 - val_accuracy: 0.0983\n",
      "Epoch 50/100\n",
      "700/700 [==============================] - 7s 10ms/step - loss: 4.4501 - accuracy: 0.1007 - val_loss: 4.4521 - val_accuracy: 0.0984\n",
      "Epoch 51/100\n",
      "700/700 [==============================] - 7s 10ms/step - loss: 4.4498 - accuracy: 0.0984 - val_loss: 4.4502 - val_accuracy: 0.0979\n",
      "Epoch 52/100\n",
      "700/700 [==============================] - 8s 11ms/step - loss: 4.4499 - accuracy: 0.0997 - val_loss: 4.4578 - val_accuracy: 0.0984\n",
      "Epoch 53/100\n",
      "700/700 [==============================] - 7s 11ms/step - loss: 4.4500 - accuracy: 0.0981 - val_loss: 4.4491 - val_accuracy: 0.0984\n",
      "Epoch 54/100\n",
      "696/700 [============================>.] - ETA: 0s - loss: 4.4497 - accuracy: 0.0968"
     ]
    },
    {
     "ename": "KeyboardInterrupt",
     "evalue": "",
     "output_type": "error",
     "traceback": [
      "\u001b[0;31m---------------------------------------------------------------------------\u001b[0m",
      "\u001b[0;31mKeyboardInterrupt\u001b[0m                         Traceback (most recent call last)",
      "\u001b[0;32m/var/folders/px/vhm_920n7zx2wvqq_ht0q5tm0000gp/T/ipykernel_48447/1406941527.py\u001b[0m in \u001b[0;36m<module>\u001b[0;34m\u001b[0m\n\u001b[1;32m      2\u001b[0m \u001b[0;34m\u001b[0m\u001b[0m\n\u001b[1;32m      3\u001b[0m \u001b[0mmodel\u001b[0m\u001b[0;34m.\u001b[0m\u001b[0mcompile\u001b[0m\u001b[0;34m(\u001b[0m\u001b[0mloss\u001b[0m\u001b[0;34m=\u001b[0m\u001b[0;34m\"categorical_crossentropy\"\u001b[0m\u001b[0;34m,\u001b[0m \u001b[0moptimizer\u001b[0m\u001b[0;34m=\u001b[0m\u001b[0;34m\"adam\"\u001b[0m\u001b[0;34m,\u001b[0m \u001b[0mmetrics\u001b[0m\u001b[0;34m=\u001b[0m\u001b[0;34m[\u001b[0m\u001b[0;34m\"accuracy\"\u001b[0m\u001b[0;34m]\u001b[0m\u001b[0;34m)\u001b[0m\u001b[0;34m\u001b[0m\u001b[0;34m\u001b[0m\u001b[0m\n\u001b[0;32m----> 4\u001b[0;31m \u001b[0mtrain_log\u001b[0m \u001b[0;34m=\u001b[0m \u001b[0mmodel\u001b[0m\u001b[0;34m.\u001b[0m\u001b[0mfit\u001b[0m\u001b[0;34m(\u001b[0m\u001b[0mX_train\u001b[0m\u001b[0;34m,\u001b[0m \u001b[0my_train\u001b[0m\u001b[0;34m,\u001b[0m \u001b[0mepochs\u001b[0m\u001b[0;34m=\u001b[0m\u001b[0;36m100\u001b[0m\u001b[0;34m,\u001b[0m \u001b[0mbatch_size\u001b[0m\u001b[0;34m=\u001b[0m\u001b[0;36m50\u001b[0m\u001b[0;34m,\u001b[0m \u001b[0mvalidation_split\u001b[0m\u001b[0;34m=\u001b[0m\u001b[0;36m.3\u001b[0m\u001b[0;34m,\u001b[0m \u001b[0mverbose\u001b[0m\u001b[0;34m=\u001b[0m\u001b[0;36m1\u001b[0m\u001b[0;34m,\u001b[0m \u001b[0mcallbacks\u001b[0m\u001b[0;34m=\u001b[0m\u001b[0;34m[\u001b[0m\u001b[0mcallback\u001b[0m\u001b[0;34m]\u001b[0m\u001b[0;34m)\u001b[0m\u001b[0;34m\u001b[0m\u001b[0;34m\u001b[0m\u001b[0m\n\u001b[0m\u001b[1;32m      5\u001b[0m \u001b[0mmodel\u001b[0m\u001b[0;34m.\u001b[0m\u001b[0mevaluate\u001b[0m\u001b[0;34m(\u001b[0m\u001b[0mX_test\u001b[0m\u001b[0;34m,\u001b[0m \u001b[0my_test\u001b[0m\u001b[0;34m,\u001b[0m \u001b[0mverbose\u001b[0m\u001b[0;34m=\u001b[0m\u001b[0;36m2\u001b[0m\u001b[0;34m)\u001b[0m\u001b[0;34m\u001b[0m\u001b[0;34m\u001b[0m\u001b[0m\n\u001b[1;32m      6\u001b[0m \u001b[0mplot_loss\u001b[0m\u001b[0;34m(\u001b[0m\u001b[0mtrain_log\u001b[0m\u001b[0;34m)\u001b[0m\u001b[0;34m\u001b[0m\u001b[0;34m\u001b[0m\u001b[0m\n",
      "\u001b[0;32m~/opt/anaconda3/envs/ml3950/lib/python3.9/site-packages/keras/utils/traceback_utils.py\u001b[0m in \u001b[0;36merror_handler\u001b[0;34m(*args, **kwargs)\u001b[0m\n\u001b[1;32m     62\u001b[0m     \u001b[0mfiltered_tb\u001b[0m \u001b[0;34m=\u001b[0m \u001b[0;32mNone\u001b[0m\u001b[0;34m\u001b[0m\u001b[0;34m\u001b[0m\u001b[0m\n\u001b[1;32m     63\u001b[0m     \u001b[0;32mtry\u001b[0m\u001b[0;34m:\u001b[0m\u001b[0;34m\u001b[0m\u001b[0;34m\u001b[0m\u001b[0m\n\u001b[0;32m---> 64\u001b[0;31m       \u001b[0;32mreturn\u001b[0m \u001b[0mfn\u001b[0m\u001b[0;34m(\u001b[0m\u001b[0;34m*\u001b[0m\u001b[0margs\u001b[0m\u001b[0;34m,\u001b[0m \u001b[0;34m**\u001b[0m\u001b[0mkwargs\u001b[0m\u001b[0;34m)\u001b[0m\u001b[0;34m\u001b[0m\u001b[0;34m\u001b[0m\u001b[0m\n\u001b[0m\u001b[1;32m     65\u001b[0m     \u001b[0;32mexcept\u001b[0m \u001b[0mException\u001b[0m \u001b[0;32mas\u001b[0m \u001b[0me\u001b[0m\u001b[0;34m:\u001b[0m  \u001b[0;31m# pylint: disable=broad-except\u001b[0m\u001b[0;34m\u001b[0m\u001b[0;34m\u001b[0m\u001b[0m\n\u001b[1;32m     66\u001b[0m       \u001b[0mfiltered_tb\u001b[0m \u001b[0;34m=\u001b[0m \u001b[0m_process_traceback_frames\u001b[0m\u001b[0;34m(\u001b[0m\u001b[0me\u001b[0m\u001b[0;34m.\u001b[0m\u001b[0m__traceback__\u001b[0m\u001b[0;34m)\u001b[0m\u001b[0;34m\u001b[0m\u001b[0;34m\u001b[0m\u001b[0m\n",
      "\u001b[0;32m~/opt/anaconda3/envs/ml3950/lib/python3.9/site-packages/keras/engine/training.py\u001b[0m in \u001b[0;36mfit\u001b[0;34m(self, x, y, batch_size, epochs, verbose, callbacks, validation_split, validation_data, shuffle, class_weight, sample_weight, initial_epoch, steps_per_epoch, validation_steps, validation_batch_size, validation_freq, max_queue_size, workers, use_multiprocessing)\u001b[0m\n\u001b[1;32m   1418\u001b[0m                 \u001b[0mmodel\u001b[0m\u001b[0;34m=\u001b[0m\u001b[0mself\u001b[0m\u001b[0;34m,\u001b[0m\u001b[0;34m\u001b[0m\u001b[0;34m\u001b[0m\u001b[0m\n\u001b[1;32m   1419\u001b[0m                 steps_per_execution=self._steps_per_execution)\n\u001b[0;32m-> 1420\u001b[0;31m           val_logs = self.evaluate(\n\u001b[0m\u001b[1;32m   1421\u001b[0m               \u001b[0mx\u001b[0m\u001b[0;34m=\u001b[0m\u001b[0mval_x\u001b[0m\u001b[0;34m,\u001b[0m\u001b[0;34m\u001b[0m\u001b[0;34m\u001b[0m\u001b[0m\n\u001b[1;32m   1422\u001b[0m               \u001b[0my\u001b[0m\u001b[0;34m=\u001b[0m\u001b[0mval_y\u001b[0m\u001b[0;34m,\u001b[0m\u001b[0;34m\u001b[0m\u001b[0;34m\u001b[0m\u001b[0m\n",
      "\u001b[0;32m~/opt/anaconda3/envs/ml3950/lib/python3.9/site-packages/keras/utils/traceback_utils.py\u001b[0m in \u001b[0;36merror_handler\u001b[0;34m(*args, **kwargs)\u001b[0m\n\u001b[1;32m     62\u001b[0m     \u001b[0mfiltered_tb\u001b[0m \u001b[0;34m=\u001b[0m \u001b[0;32mNone\u001b[0m\u001b[0;34m\u001b[0m\u001b[0;34m\u001b[0m\u001b[0m\n\u001b[1;32m     63\u001b[0m     \u001b[0;32mtry\u001b[0m\u001b[0;34m:\u001b[0m\u001b[0;34m\u001b[0m\u001b[0;34m\u001b[0m\u001b[0m\n\u001b[0;32m---> 64\u001b[0;31m       \u001b[0;32mreturn\u001b[0m \u001b[0mfn\u001b[0m\u001b[0;34m(\u001b[0m\u001b[0;34m*\u001b[0m\u001b[0margs\u001b[0m\u001b[0;34m,\u001b[0m \u001b[0;34m**\u001b[0m\u001b[0mkwargs\u001b[0m\u001b[0;34m)\u001b[0m\u001b[0;34m\u001b[0m\u001b[0;34m\u001b[0m\u001b[0m\n\u001b[0m\u001b[1;32m     65\u001b[0m     \u001b[0;32mexcept\u001b[0m \u001b[0mException\u001b[0m \u001b[0;32mas\u001b[0m \u001b[0me\u001b[0m\u001b[0;34m:\u001b[0m  \u001b[0;31m# pylint: disable=broad-except\u001b[0m\u001b[0;34m\u001b[0m\u001b[0;34m\u001b[0m\u001b[0m\n\u001b[1;32m     66\u001b[0m       \u001b[0mfiltered_tb\u001b[0m \u001b[0;34m=\u001b[0m \u001b[0m_process_traceback_frames\u001b[0m\u001b[0;34m(\u001b[0m\u001b[0me\u001b[0m\u001b[0;34m.\u001b[0m\u001b[0m__traceback__\u001b[0m\u001b[0;34m)\u001b[0m\u001b[0;34m\u001b[0m\u001b[0;34m\u001b[0m\u001b[0m\n",
      "\u001b[0;32m~/opt/anaconda3/envs/ml3950/lib/python3.9/site-packages/keras/engine/training.py\u001b[0m in \u001b[0;36mevaluate\u001b[0;34m(self, x, y, batch_size, verbose, sample_weight, steps, callbacks, max_queue_size, workers, use_multiprocessing, return_dict, **kwargs)\u001b[0m\n\u001b[1;32m   1714\u001b[0m             \u001b[0;32mwith\u001b[0m \u001b[0mtf\u001b[0m\u001b[0;34m.\u001b[0m\u001b[0mprofiler\u001b[0m\u001b[0;34m.\u001b[0m\u001b[0mexperimental\u001b[0m\u001b[0;34m.\u001b[0m\u001b[0mTrace\u001b[0m\u001b[0;34m(\u001b[0m\u001b[0;34m'test'\u001b[0m\u001b[0;34m,\u001b[0m \u001b[0mstep_num\u001b[0m\u001b[0;34m=\u001b[0m\u001b[0mstep\u001b[0m\u001b[0;34m,\u001b[0m \u001b[0m_r\u001b[0m\u001b[0;34m=\u001b[0m\u001b[0;36m1\u001b[0m\u001b[0;34m)\u001b[0m\u001b[0;34m:\u001b[0m\u001b[0;34m\u001b[0m\u001b[0;34m\u001b[0m\u001b[0m\n\u001b[1;32m   1715\u001b[0m               \u001b[0mcallbacks\u001b[0m\u001b[0;34m.\u001b[0m\u001b[0mon_test_batch_begin\u001b[0m\u001b[0;34m(\u001b[0m\u001b[0mstep\u001b[0m\u001b[0;34m)\u001b[0m\u001b[0;34m\u001b[0m\u001b[0;34m\u001b[0m\u001b[0m\n\u001b[0;32m-> 1716\u001b[0;31m               \u001b[0mtmp_logs\u001b[0m \u001b[0;34m=\u001b[0m \u001b[0mself\u001b[0m\u001b[0;34m.\u001b[0m\u001b[0mtest_function\u001b[0m\u001b[0;34m(\u001b[0m\u001b[0miterator\u001b[0m\u001b[0;34m)\u001b[0m\u001b[0;34m\u001b[0m\u001b[0;34m\u001b[0m\u001b[0m\n\u001b[0m\u001b[1;32m   1717\u001b[0m               \u001b[0;32mif\u001b[0m \u001b[0mdata_handler\u001b[0m\u001b[0;34m.\u001b[0m\u001b[0mshould_sync\u001b[0m\u001b[0;34m:\u001b[0m\u001b[0;34m\u001b[0m\u001b[0;34m\u001b[0m\u001b[0m\n\u001b[1;32m   1718\u001b[0m                 \u001b[0mcontext\u001b[0m\u001b[0;34m.\u001b[0m\u001b[0masync_wait\u001b[0m\u001b[0;34m(\u001b[0m\u001b[0;34m)\u001b[0m\u001b[0;34m\u001b[0m\u001b[0;34m\u001b[0m\u001b[0m\n",
      "\u001b[0;32m~/opt/anaconda3/envs/ml3950/lib/python3.9/site-packages/tensorflow/python/util/traceback_utils.py\u001b[0m in \u001b[0;36merror_handler\u001b[0;34m(*args, **kwargs)\u001b[0m\n\u001b[1;32m    148\u001b[0m     \u001b[0mfiltered_tb\u001b[0m \u001b[0;34m=\u001b[0m \u001b[0;32mNone\u001b[0m\u001b[0;34m\u001b[0m\u001b[0;34m\u001b[0m\u001b[0m\n\u001b[1;32m    149\u001b[0m     \u001b[0;32mtry\u001b[0m\u001b[0;34m:\u001b[0m\u001b[0;34m\u001b[0m\u001b[0;34m\u001b[0m\u001b[0m\n\u001b[0;32m--> 150\u001b[0;31m       \u001b[0;32mreturn\u001b[0m \u001b[0mfn\u001b[0m\u001b[0;34m(\u001b[0m\u001b[0;34m*\u001b[0m\u001b[0margs\u001b[0m\u001b[0;34m,\u001b[0m \u001b[0;34m**\u001b[0m\u001b[0mkwargs\u001b[0m\u001b[0;34m)\u001b[0m\u001b[0;34m\u001b[0m\u001b[0;34m\u001b[0m\u001b[0m\n\u001b[0m\u001b[1;32m    151\u001b[0m     \u001b[0;32mexcept\u001b[0m \u001b[0mException\u001b[0m \u001b[0;32mas\u001b[0m \u001b[0me\u001b[0m\u001b[0;34m:\u001b[0m\u001b[0;34m\u001b[0m\u001b[0;34m\u001b[0m\u001b[0m\n\u001b[1;32m    152\u001b[0m       \u001b[0mfiltered_tb\u001b[0m \u001b[0;34m=\u001b[0m \u001b[0m_process_traceback_frames\u001b[0m\u001b[0;34m(\u001b[0m\u001b[0me\u001b[0m\u001b[0;34m.\u001b[0m\u001b[0m__traceback__\u001b[0m\u001b[0;34m)\u001b[0m\u001b[0;34m\u001b[0m\u001b[0;34m\u001b[0m\u001b[0m\n",
      "\u001b[0;32m~/opt/anaconda3/envs/ml3950/lib/python3.9/site-packages/tensorflow/python/eager/def_function.py\u001b[0m in \u001b[0;36m__call__\u001b[0;34m(self, *args, **kwds)\u001b[0m\n\u001b[1;32m    913\u001b[0m \u001b[0;34m\u001b[0m\u001b[0m\n\u001b[1;32m    914\u001b[0m       \u001b[0;32mwith\u001b[0m \u001b[0mOptionalXlaContext\u001b[0m\u001b[0;34m(\u001b[0m\u001b[0mself\u001b[0m\u001b[0;34m.\u001b[0m\u001b[0m_jit_compile\u001b[0m\u001b[0;34m)\u001b[0m\u001b[0;34m:\u001b[0m\u001b[0;34m\u001b[0m\u001b[0;34m\u001b[0m\u001b[0m\n\u001b[0;32m--> 915\u001b[0;31m         \u001b[0mresult\u001b[0m \u001b[0;34m=\u001b[0m \u001b[0mself\u001b[0m\u001b[0;34m.\u001b[0m\u001b[0m_call\u001b[0m\u001b[0;34m(\u001b[0m\u001b[0;34m*\u001b[0m\u001b[0margs\u001b[0m\u001b[0;34m,\u001b[0m \u001b[0;34m**\u001b[0m\u001b[0mkwds\u001b[0m\u001b[0;34m)\u001b[0m\u001b[0;34m\u001b[0m\u001b[0;34m\u001b[0m\u001b[0m\n\u001b[0m\u001b[1;32m    916\u001b[0m \u001b[0;34m\u001b[0m\u001b[0m\n\u001b[1;32m    917\u001b[0m       \u001b[0mnew_tracing_count\u001b[0m \u001b[0;34m=\u001b[0m \u001b[0mself\u001b[0m\u001b[0;34m.\u001b[0m\u001b[0mexperimental_get_tracing_count\u001b[0m\u001b[0;34m(\u001b[0m\u001b[0;34m)\u001b[0m\u001b[0;34m\u001b[0m\u001b[0;34m\u001b[0m\u001b[0m\n",
      "\u001b[0;32m~/opt/anaconda3/envs/ml3950/lib/python3.9/site-packages/tensorflow/python/eager/def_function.py\u001b[0m in \u001b[0;36m_call\u001b[0;34m(self, *args, **kwds)\u001b[0m\n\u001b[1;32m    952\u001b[0m       \u001b[0;31m# In this case we have not created variables on the first call. So we can\u001b[0m\u001b[0;34m\u001b[0m\u001b[0;34m\u001b[0m\u001b[0m\n\u001b[1;32m    953\u001b[0m       \u001b[0;31m# run the first trace but we should fail if variables are created.\u001b[0m\u001b[0;34m\u001b[0m\u001b[0;34m\u001b[0m\u001b[0m\n\u001b[0;32m--> 954\u001b[0;31m       \u001b[0mresults\u001b[0m \u001b[0;34m=\u001b[0m \u001b[0mself\u001b[0m\u001b[0;34m.\u001b[0m\u001b[0m_stateful_fn\u001b[0m\u001b[0;34m(\u001b[0m\u001b[0;34m*\u001b[0m\u001b[0margs\u001b[0m\u001b[0;34m,\u001b[0m \u001b[0;34m**\u001b[0m\u001b[0mkwds\u001b[0m\u001b[0;34m)\u001b[0m\u001b[0;34m\u001b[0m\u001b[0;34m\u001b[0m\u001b[0m\n\u001b[0m\u001b[1;32m    955\u001b[0m       \u001b[0;32mif\u001b[0m \u001b[0mself\u001b[0m\u001b[0;34m.\u001b[0m\u001b[0m_created_variables\u001b[0m \u001b[0;32mand\u001b[0m \u001b[0;32mnot\u001b[0m \u001b[0mALLOW_DYNAMIC_VARIABLE_CREATION\u001b[0m\u001b[0;34m:\u001b[0m\u001b[0;34m\u001b[0m\u001b[0;34m\u001b[0m\u001b[0m\n\u001b[1;32m    956\u001b[0m         raise ValueError(\"Creating variables on a non-first call to a function\"\n",
      "\u001b[0;32m~/opt/anaconda3/envs/ml3950/lib/python3.9/site-packages/tensorflow/python/eager/function.py\u001b[0m in \u001b[0;36m__call__\u001b[0;34m(self, *args, **kwargs)\u001b[0m\n\u001b[1;32m   2954\u001b[0m       (graph_function,\n\u001b[1;32m   2955\u001b[0m        filtered_flat_args) = self._maybe_define_function(args, kwargs)\n\u001b[0;32m-> 2956\u001b[0;31m     return graph_function._call_flat(\n\u001b[0m\u001b[1;32m   2957\u001b[0m         filtered_flat_args, captured_inputs=graph_function.captured_inputs)  # pylint: disable=protected-access\n\u001b[1;32m   2958\u001b[0m \u001b[0;34m\u001b[0m\u001b[0m\n",
      "\u001b[0;32m~/opt/anaconda3/envs/ml3950/lib/python3.9/site-packages/tensorflow/python/eager/function.py\u001b[0m in \u001b[0;36m_call_flat\u001b[0;34m(self, args, captured_inputs, cancellation_manager)\u001b[0m\n\u001b[1;32m   1851\u001b[0m         and executing_eagerly):\n\u001b[1;32m   1852\u001b[0m       \u001b[0;31m# No tape is watching; skip to running the function.\u001b[0m\u001b[0;34m\u001b[0m\u001b[0;34m\u001b[0m\u001b[0m\n\u001b[0;32m-> 1853\u001b[0;31m       return self._build_call_outputs(self._inference_function.call(\n\u001b[0m\u001b[1;32m   1854\u001b[0m           ctx, args, cancellation_manager=cancellation_manager))\n\u001b[1;32m   1855\u001b[0m     forward_backward = self._select_forward_and_backward_functions(\n",
      "\u001b[0;32m~/opt/anaconda3/envs/ml3950/lib/python3.9/site-packages/tensorflow/python/eager/function.py\u001b[0m in \u001b[0;36mcall\u001b[0;34m(self, ctx, args, cancellation_manager)\u001b[0m\n\u001b[1;32m    497\u001b[0m       \u001b[0;32mwith\u001b[0m \u001b[0m_InterpolateFunctionError\u001b[0m\u001b[0;34m(\u001b[0m\u001b[0mself\u001b[0m\u001b[0;34m)\u001b[0m\u001b[0;34m:\u001b[0m\u001b[0;34m\u001b[0m\u001b[0;34m\u001b[0m\u001b[0m\n\u001b[1;32m    498\u001b[0m         \u001b[0;32mif\u001b[0m \u001b[0mcancellation_manager\u001b[0m \u001b[0;32mis\u001b[0m \u001b[0;32mNone\u001b[0m\u001b[0;34m:\u001b[0m\u001b[0;34m\u001b[0m\u001b[0;34m\u001b[0m\u001b[0m\n\u001b[0;32m--> 499\u001b[0;31m           outputs = execute.execute(\n\u001b[0m\u001b[1;32m    500\u001b[0m               \u001b[0mstr\u001b[0m\u001b[0;34m(\u001b[0m\u001b[0mself\u001b[0m\u001b[0;34m.\u001b[0m\u001b[0msignature\u001b[0m\u001b[0;34m.\u001b[0m\u001b[0mname\u001b[0m\u001b[0;34m)\u001b[0m\u001b[0;34m,\u001b[0m\u001b[0;34m\u001b[0m\u001b[0;34m\u001b[0m\u001b[0m\n\u001b[1;32m    501\u001b[0m               \u001b[0mnum_outputs\u001b[0m\u001b[0;34m=\u001b[0m\u001b[0mself\u001b[0m\u001b[0;34m.\u001b[0m\u001b[0m_num_outputs\u001b[0m\u001b[0;34m,\u001b[0m\u001b[0;34m\u001b[0m\u001b[0;34m\u001b[0m\u001b[0m\n",
      "\u001b[0;32m~/opt/anaconda3/envs/ml3950/lib/python3.9/site-packages/tensorflow/python/eager/execute.py\u001b[0m in \u001b[0;36mquick_execute\u001b[0;34m(op_name, num_outputs, inputs, attrs, ctx, name)\u001b[0m\n\u001b[1;32m     52\u001b[0m   \u001b[0;32mtry\u001b[0m\u001b[0;34m:\u001b[0m\u001b[0;34m\u001b[0m\u001b[0;34m\u001b[0m\u001b[0m\n\u001b[1;32m     53\u001b[0m     \u001b[0mctx\u001b[0m\u001b[0;34m.\u001b[0m\u001b[0mensure_initialized\u001b[0m\u001b[0;34m(\u001b[0m\u001b[0;34m)\u001b[0m\u001b[0;34m\u001b[0m\u001b[0;34m\u001b[0m\u001b[0m\n\u001b[0;32m---> 54\u001b[0;31m     tensors = pywrap_tfe.TFE_Py_Execute(ctx._handle, device_name, op_name,\n\u001b[0m\u001b[1;32m     55\u001b[0m                                         inputs, attrs, num_outputs)\n\u001b[1;32m     56\u001b[0m   \u001b[0;32mexcept\u001b[0m \u001b[0mcore\u001b[0m\u001b[0;34m.\u001b[0m\u001b[0m_NotOkStatusException\u001b[0m \u001b[0;32mas\u001b[0m \u001b[0me\u001b[0m\u001b[0;34m:\u001b[0m\u001b[0;34m\u001b[0m\u001b[0;34m\u001b[0m\u001b[0m\n",
      "\u001b[0;31mKeyboardInterrupt\u001b[0m: "
     ]
    }
   ],
   "source": [
    "callback = EarlyStopping(monitor='loss', patience=50, restore_best_weights=True) \n",
    "\n",
    "model.compile(loss=\"categorical_crossentropy\", optimizer=\"adam\", metrics=[\"accuracy\"])\n",
    "train_log = model.fit(X_train, y_train, epochs=100, batch_size=50, validation_split=.3, verbose=1, callbacks=[callback])\n",
    "model.evaluate(X_test, y_test, verbose=2)\n",
    "plot_loss(train_log)\n",
    "plot_acc(train_log)"
   ]
  },
  {
   "cell_type": "markdown",
   "metadata": {},
   "source": [
    "## CNNs - Convolutional Neural Networks\n",
    "\n",
    "To deal with images a little bit better we can use a different kind of neural network design - a CNN, or convolutional neural network. \n",
    "\n",
    "In short, a CNN is able to look at an image \"as it is\" caputuring spatial relationships that processing an image as a flattened array do not. When using a CNN we can first process the image in its original dimensions in the initial layers of the network, then flatten it down to go through a more familiar set of layers for the final prediction. \n",
    "\n",
    "A CNN looks at an image bit by bit, looking at a small square, then sliding over a few pixels, looking at another square, and so on. This has the effect of being able to extract features from areas of an image - as an example, think of an image of a bike, a CNN would be able to identify the distinct shape of a seat or handle bars as the image passes through the layers. \n",
    "\n",
    "### CNN Structure\n",
    "\n",
    "A CNN has some new types of layers:\n",
    "<ul>\n",
    "<li> Convolutional layer - the convolutional layer looks at a small frame of the image at a time.\n",
    "<li> Pooling layer - the pooling layer reduced the dimensionality of the data. \n",
    "<li> Regular neural network - after the convolutional parts to their work, we can flatten the data and pass it to a regular fully connected network at the final layers. \n",
    "</ul>\n",
    "\n",
    "### Convolutional Layer\n",
    "\n",
    "The convolutional layer is easiest to think of as a microscope that scrolls over an image looking at one small square of it at a time. \n",
    "\n",
    "![Kernel](images\\cnn_kernel.gif \"Kernel\" )\n",
    "\n",
    "This convolution operation translates the input \"feature map\" into an \"output map\". After the transformation the result is that each layer captures some features in the image - edges, orientation, etc... and map those down to lower layers. \n",
    "\n",
    "### Padding\n",
    "\n",
    "Padding is a setting that determines if the dimensionality of the data is reduced in the convolutional layer or not. We have two choices:\n",
    "\n",
    "<ul>\n",
    "<li> Valid padding - dimensions are reduced. \n",
    "<li> Same padding - dimensions are maintained. \n",
    "</ul>\n",
    "\n",
    "This is probably most easily illustrated by looking at the image above. That image is showing same padding - those 0s around the border are inserted to ensure that the kernel can start at the edge and still capture the entire picture. If this were valid padding the kernel would start at the real edge, and those edge values would never make it to the middle of the image. The resulting values will then be of a smaller dimension than the original. \n",
    "\n",
    "#### Strides\n",
    "\n",
    "The stride value is how many pixels the kernel window shifts each time it looks at a window. Strides of 1 move 1 pixel at a time, larger strides \"skip\" some pixels. \n",
    "\n",
    "### Pooling Layer\n",
    "\n",
    "The pooling layer reduces the dimensionality of the data down. \n",
    "\n",
    "#### Max and Average Pooling\n",
    "\n",
    "![Max_Average_Pooling]images\\max_avg_pool.png \"Max_Average_Pooling\" )\n",
    "\n",
    "### Normal Neural Network\n",
    "\n",
    "Once the above work is done, potentially with several layers of layers, the final layers in the network are a normal neural network. The CNN parts act to extract features from the image, the final layers take those features and produce a prediction, just as we are used to. \n"
   ]
  },
  {
   "cell_type": "code",
   "execution_count": null,
   "metadata": {},
   "outputs": [],
   "source": [
    "num_classes = len(class_names)\n",
    "\n",
    "model = tf.keras.Sequential()\n",
    "model.add(tf.keras.layers.Rescaling(1./255))\n",
    "model.add(tf.keras.layers.Conv2D(32, 3, activation='relu'))\n",
    "model.add(tf.keras.layers.MaxPooling2D())\n",
    "model.add(tf.keras.layers.Conv2D(32, 3, activation='relu'))\n",
    "model.add(tf.keras.layers.MaxPooling2D())\n",
    "model.add(tf.keras.layers.Conv2D(32, 3, activation='relu'))\n",
    "model.add(tf.keras.layers.MaxPooling2D())\n",
    "model.add(tf.keras.layers.Flatten())\n",
    "model.add(tf.keras.layers.Dense(128, activation='relu'))\n",
    "model.add(tf.keras.layers.Dense(num_classes))\n",
    "model.summary()\n"
   ]
  },
  {
   "cell_type": "markdown",
   "metadata": {},
   "source": [
    "## Directories of Images\n",
    "\n"
   ]
  },
  {
   "cell_type": "code",
   "execution_count": null,
   "metadata": {},
   "outputs": [],
   "source": [
    "import pathlib\n",
    "import PIL \n",
    "\n",
    "dataset_url = \"https://storage.googleapis.com/download.tensorflow.org/example_images/flower_photos.tgz\"\n",
    "data_dir = tf.keras.utils.get_file(origin=dataset_url,\n",
    "                                   fname='flower_photos',\n",
    "                                   untar=True)\n",
    "data_dir = pathlib.Path(data_dir)"
   ]
  },
  {
   "cell_type": "code",
   "execution_count": null,
   "metadata": {},
   "outputs": [],
   "source": [
    "roses = list(data_dir.glob('roses/*'))\n",
    "PIL.Image.open(str(roses[0]))"
   ]
  },
  {
   "cell_type": "markdown",
   "metadata": {},
   "source": [
    "### Datasets\n",
    "\n",
    "When dealing with things like images we commonly have actual images, not arrays or dataframes. Keras has a preprocessing function to take a folder of images and automatically create a dataset from it. \n",
    "\n",
    "A dataset is a built in datatype in tensorflow, it is kind of a specialized type of dataframe that is meant to store larger volumes of generally non-tabular data, and is purpose made to be put through tensorflow networks. Here we will basically have the image files on disk be automatically loaded and split into two datasets - training and validation. When fitting the model we can use this dataset just as we would an array. \n",
    "\n",
    "This type of setup is fairly common when dealing with images. "
   ]
  },
  {
   "cell_type": "code",
   "execution_count": null,
   "metadata": {},
   "outputs": [],
   "source": [
    "#Flowers\n",
    "batch_size = 32\n",
    "img_height = 180\n",
    "img_width = 180\n",
    "\n",
    "train_ds = utils.image_dataset_from_directory(\n",
    "  data_dir,\n",
    "  validation_split=0.2,\n",
    "  subset=\"training\",\n",
    "  seed=123,\n",
    "  image_size=(img_height, img_width),\n",
    "  batch_size=batch_size)\n",
    "\n",
    "val_ds = tf.keras.utils.image_dataset_from_directory(\n",
    "  data_dir,\n",
    "  validation_split=0.2,\n",
    "  subset=\"validation\",\n",
    "  seed=123,\n",
    "  image_size=(img_height, img_width),\n",
    "  batch_size=batch_size)\n",
    "\n",
    "class_names = train_ds.class_names\n",
    "print(class_names)"
   ]
  }
 ],
 "metadata": {
  "interpreter": {
   "hash": "4d722d3adfa415172c1f5238b519fb86b488acdae450fd691ab06c09f4ca9173"
  },
  "kernelspec": {
   "display_name": "Python 3.9.7 ('ml3950')",
   "language": "python",
   "name": "python3"
  },
  "language_info": {
   "codemirror_mode": {
    "name": "ipython",
    "version": 3
   },
   "file_extension": ".py",
   "mimetype": "text/x-python",
   "name": "python",
   "nbconvert_exporter": "python",
   "pygments_lexer": "ipython3",
   "version": "3.9.7"
  },
  "orig_nbformat": 4
 },
 "nbformat": 4,
 "nbformat_minor": 2
}
