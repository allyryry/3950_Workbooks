{
 "cells": [
  {
   "cell_type": "code",
   "execution_count": 1,
   "metadata": {},
   "outputs": [],
   "source": [
    "import numpy as np\n",
    "import matplotlib.pyplot as plt\n",
    "import matplotlib as mpl\n",
    "import pandas as pd\n",
    "from sklearn.linear_model import LogisticRegression\n",
    "from sklearn.preprocessing import PolynomialFeatures\n",
    "\n",
    "import seaborn as sns\n",
    "from sklearn.pipeline import Pipeline\n",
    "\n",
    "from sklearn.model_selection import train_test_split\n",
    "from sklearn.model_selection import cross_val_score\n",
    "from sklearn.linear_model import Lasso\n",
    "from sklearn.linear_model import Ridge\n",
    "from sklearn.preprocessing import MinMaxScaler\n",
    "from sklearn.model_selection import GridSearchCV\n",
    "from sklearn.ensemble import RandomForestClassifier "
   ]
  },
  {
   "cell_type": "markdown",
   "metadata": {},
   "source": [
    "# Feature Selection"
   ]
  },
  {
   "cell_type": "markdown",
   "metadata": {},
   "source": [
    "### Load Some Data\n",
    "\n",
    "This data is on cell phones, the target is the varaible \"price_range\" - a multi-way classification. \n",
    "\n",
    "We can look at some feature selection techniques to try to determine which of these features is important and which are more noise. "
   ]
  },
  {
   "cell_type": "code",
   "execution_count": 2,
   "metadata": {},
   "outputs": [
    {
     "data": {
      "text/html": [
       "<div>\n",
       "<style scoped>\n",
       "    .dataframe tbody tr th:only-of-type {\n",
       "        vertical-align: middle;\n",
       "    }\n",
       "\n",
       "    .dataframe tbody tr th {\n",
       "        vertical-align: top;\n",
       "    }\n",
       "\n",
       "    .dataframe thead th {\n",
       "        text-align: right;\n",
       "    }\n",
       "</style>\n",
       "<table border=\"1\" class=\"dataframe\">\n",
       "  <thead>\n",
       "    <tr style=\"text-align: right;\">\n",
       "      <th></th>\n",
       "      <th>battery_power</th>\n",
       "      <th>blue</th>\n",
       "      <th>clock_speed</th>\n",
       "      <th>dual_sim</th>\n",
       "      <th>fc</th>\n",
       "      <th>four_g</th>\n",
       "      <th>int_memory</th>\n",
       "      <th>m_dep</th>\n",
       "      <th>mobile_wt</th>\n",
       "      <th>n_cores</th>\n",
       "      <th>...</th>\n",
       "      <th>px_height</th>\n",
       "      <th>px_width</th>\n",
       "      <th>ram</th>\n",
       "      <th>sc_h</th>\n",
       "      <th>sc_w</th>\n",
       "      <th>talk_time</th>\n",
       "      <th>three_g</th>\n",
       "      <th>touch_screen</th>\n",
       "      <th>wifi</th>\n",
       "      <th>price_range</th>\n",
       "    </tr>\n",
       "  </thead>\n",
       "  <tbody>\n",
       "    <tr>\n",
       "      <th>0</th>\n",
       "      <td>842</td>\n",
       "      <td>0</td>\n",
       "      <td>2.2</td>\n",
       "      <td>0</td>\n",
       "      <td>1</td>\n",
       "      <td>0</td>\n",
       "      <td>7</td>\n",
       "      <td>0.6</td>\n",
       "      <td>188</td>\n",
       "      <td>2</td>\n",
       "      <td>...</td>\n",
       "      <td>20</td>\n",
       "      <td>756</td>\n",
       "      <td>2549</td>\n",
       "      <td>9</td>\n",
       "      <td>7</td>\n",
       "      <td>19</td>\n",
       "      <td>0</td>\n",
       "      <td>0</td>\n",
       "      <td>1</td>\n",
       "      <td>1</td>\n",
       "    </tr>\n",
       "    <tr>\n",
       "      <th>1</th>\n",
       "      <td>1021</td>\n",
       "      <td>1</td>\n",
       "      <td>0.5</td>\n",
       "      <td>1</td>\n",
       "      <td>0</td>\n",
       "      <td>1</td>\n",
       "      <td>53</td>\n",
       "      <td>0.7</td>\n",
       "      <td>136</td>\n",
       "      <td>3</td>\n",
       "      <td>...</td>\n",
       "      <td>905</td>\n",
       "      <td>1988</td>\n",
       "      <td>2631</td>\n",
       "      <td>17</td>\n",
       "      <td>3</td>\n",
       "      <td>7</td>\n",
       "      <td>1</td>\n",
       "      <td>1</td>\n",
       "      <td>0</td>\n",
       "      <td>2</td>\n",
       "    </tr>\n",
       "    <tr>\n",
       "      <th>2</th>\n",
       "      <td>563</td>\n",
       "      <td>1</td>\n",
       "      <td>0.5</td>\n",
       "      <td>1</td>\n",
       "      <td>2</td>\n",
       "      <td>1</td>\n",
       "      <td>41</td>\n",
       "      <td>0.9</td>\n",
       "      <td>145</td>\n",
       "      <td>5</td>\n",
       "      <td>...</td>\n",
       "      <td>1263</td>\n",
       "      <td>1716</td>\n",
       "      <td>2603</td>\n",
       "      <td>11</td>\n",
       "      <td>2</td>\n",
       "      <td>9</td>\n",
       "      <td>1</td>\n",
       "      <td>1</td>\n",
       "      <td>0</td>\n",
       "      <td>2</td>\n",
       "    </tr>\n",
       "    <tr>\n",
       "      <th>3</th>\n",
       "      <td>615</td>\n",
       "      <td>1</td>\n",
       "      <td>2.5</td>\n",
       "      <td>0</td>\n",
       "      <td>0</td>\n",
       "      <td>0</td>\n",
       "      <td>10</td>\n",
       "      <td>0.8</td>\n",
       "      <td>131</td>\n",
       "      <td>6</td>\n",
       "      <td>...</td>\n",
       "      <td>1216</td>\n",
       "      <td>1786</td>\n",
       "      <td>2769</td>\n",
       "      <td>16</td>\n",
       "      <td>8</td>\n",
       "      <td>11</td>\n",
       "      <td>1</td>\n",
       "      <td>0</td>\n",
       "      <td>0</td>\n",
       "      <td>2</td>\n",
       "    </tr>\n",
       "    <tr>\n",
       "      <th>4</th>\n",
       "      <td>1821</td>\n",
       "      <td>1</td>\n",
       "      <td>1.2</td>\n",
       "      <td>0</td>\n",
       "      <td>13</td>\n",
       "      <td>1</td>\n",
       "      <td>44</td>\n",
       "      <td>0.6</td>\n",
       "      <td>141</td>\n",
       "      <td>2</td>\n",
       "      <td>...</td>\n",
       "      <td>1208</td>\n",
       "      <td>1212</td>\n",
       "      <td>1411</td>\n",
       "      <td>8</td>\n",
       "      <td>2</td>\n",
       "      <td>15</td>\n",
       "      <td>1</td>\n",
       "      <td>1</td>\n",
       "      <td>0</td>\n",
       "      <td>1</td>\n",
       "    </tr>\n",
       "  </tbody>\n",
       "</table>\n",
       "<p>5 rows × 21 columns</p>\n",
       "</div>"
      ],
      "text/plain": [
       "   battery_power  blue  clock_speed  dual_sim  fc  four_g  int_memory  m_dep  \\\n",
       "0            842     0          2.2         0   1       0           7    0.6   \n",
       "1           1021     1          0.5         1   0       1          53    0.7   \n",
       "2            563     1          0.5         1   2       1          41    0.9   \n",
       "3            615     1          2.5         0   0       0          10    0.8   \n",
       "4           1821     1          1.2         0  13       1          44    0.6   \n",
       "\n",
       "   mobile_wt  n_cores  ...  px_height  px_width   ram  sc_h  sc_w  talk_time  \\\n",
       "0        188        2  ...         20       756  2549     9     7         19   \n",
       "1        136        3  ...        905      1988  2631    17     3          7   \n",
       "2        145        5  ...       1263      1716  2603    11     2          9   \n",
       "3        131        6  ...       1216      1786  2769    16     8         11   \n",
       "4        141        2  ...       1208      1212  1411     8     2         15   \n",
       "\n",
       "   three_g  touch_screen  wifi  price_range  \n",
       "0        0             0     1            1  \n",
       "1        1             1     0            2  \n",
       "2        1             1     0            2  \n",
       "3        1             0     0            2  \n",
       "4        1             1     0            1  \n",
       "\n",
       "[5 rows x 21 columns]"
      ]
     },
     "execution_count": 2,
     "metadata": {},
     "output_type": "execute_result"
    }
   ],
   "source": [
    "df = pd.read_csv(\"data/phone_train.csv\")\n",
    "df.head()"
   ]
  },
  {
   "cell_type": "code",
   "execution_count": 3,
   "metadata": {},
   "outputs": [
    {
     "data": {
      "text/html": [
       "<div>\n",
       "<style scoped>\n",
       "    .dataframe tbody tr th:only-of-type {\n",
       "        vertical-align: middle;\n",
       "    }\n",
       "\n",
       "    .dataframe tbody tr th {\n",
       "        vertical-align: top;\n",
       "    }\n",
       "\n",
       "    .dataframe thead th {\n",
       "        text-align: right;\n",
       "    }\n",
       "</style>\n",
       "<table border=\"1\" class=\"dataframe\">\n",
       "  <thead>\n",
       "    <tr style=\"text-align: right;\">\n",
       "      <th></th>\n",
       "      <th>count</th>\n",
       "      <th>mean</th>\n",
       "      <th>std</th>\n",
       "      <th>min</th>\n",
       "      <th>25%</th>\n",
       "      <th>50%</th>\n",
       "      <th>75%</th>\n",
       "      <th>max</th>\n",
       "    </tr>\n",
       "  </thead>\n",
       "  <tbody>\n",
       "    <tr>\n",
       "      <th>battery_power</th>\n",
       "      <td>2000.0</td>\n",
       "      <td>1238.51850</td>\n",
       "      <td>439.418206</td>\n",
       "      <td>501.0</td>\n",
       "      <td>851.75</td>\n",
       "      <td>1226.0</td>\n",
       "      <td>1615.25</td>\n",
       "      <td>1998.0</td>\n",
       "    </tr>\n",
       "    <tr>\n",
       "      <th>blue</th>\n",
       "      <td>2000.0</td>\n",
       "      <td>0.49500</td>\n",
       "      <td>0.500100</td>\n",
       "      <td>0.0</td>\n",
       "      <td>0.00</td>\n",
       "      <td>0.0</td>\n",
       "      <td>1.00</td>\n",
       "      <td>1.0</td>\n",
       "    </tr>\n",
       "    <tr>\n",
       "      <th>clock_speed</th>\n",
       "      <td>2000.0</td>\n",
       "      <td>1.52225</td>\n",
       "      <td>0.816004</td>\n",
       "      <td>0.5</td>\n",
       "      <td>0.70</td>\n",
       "      <td>1.5</td>\n",
       "      <td>2.20</td>\n",
       "      <td>3.0</td>\n",
       "    </tr>\n",
       "    <tr>\n",
       "      <th>dual_sim</th>\n",
       "      <td>2000.0</td>\n",
       "      <td>0.50950</td>\n",
       "      <td>0.500035</td>\n",
       "      <td>0.0</td>\n",
       "      <td>0.00</td>\n",
       "      <td>1.0</td>\n",
       "      <td>1.00</td>\n",
       "      <td>1.0</td>\n",
       "    </tr>\n",
       "    <tr>\n",
       "      <th>fc</th>\n",
       "      <td>2000.0</td>\n",
       "      <td>4.30950</td>\n",
       "      <td>4.341444</td>\n",
       "      <td>0.0</td>\n",
       "      <td>1.00</td>\n",
       "      <td>3.0</td>\n",
       "      <td>7.00</td>\n",
       "      <td>19.0</td>\n",
       "    </tr>\n",
       "    <tr>\n",
       "      <th>four_g</th>\n",
       "      <td>2000.0</td>\n",
       "      <td>0.52150</td>\n",
       "      <td>0.499662</td>\n",
       "      <td>0.0</td>\n",
       "      <td>0.00</td>\n",
       "      <td>1.0</td>\n",
       "      <td>1.00</td>\n",
       "      <td>1.0</td>\n",
       "    </tr>\n",
       "    <tr>\n",
       "      <th>int_memory</th>\n",
       "      <td>2000.0</td>\n",
       "      <td>32.04650</td>\n",
       "      <td>18.145715</td>\n",
       "      <td>2.0</td>\n",
       "      <td>16.00</td>\n",
       "      <td>32.0</td>\n",
       "      <td>48.00</td>\n",
       "      <td>64.0</td>\n",
       "    </tr>\n",
       "    <tr>\n",
       "      <th>m_dep</th>\n",
       "      <td>2000.0</td>\n",
       "      <td>0.50175</td>\n",
       "      <td>0.288416</td>\n",
       "      <td>0.1</td>\n",
       "      <td>0.20</td>\n",
       "      <td>0.5</td>\n",
       "      <td>0.80</td>\n",
       "      <td>1.0</td>\n",
       "    </tr>\n",
       "    <tr>\n",
       "      <th>mobile_wt</th>\n",
       "      <td>2000.0</td>\n",
       "      <td>140.24900</td>\n",
       "      <td>35.399655</td>\n",
       "      <td>80.0</td>\n",
       "      <td>109.00</td>\n",
       "      <td>141.0</td>\n",
       "      <td>170.00</td>\n",
       "      <td>200.0</td>\n",
       "    </tr>\n",
       "    <tr>\n",
       "      <th>n_cores</th>\n",
       "      <td>2000.0</td>\n",
       "      <td>4.52050</td>\n",
       "      <td>2.287837</td>\n",
       "      <td>1.0</td>\n",
       "      <td>3.00</td>\n",
       "      <td>4.0</td>\n",
       "      <td>7.00</td>\n",
       "      <td>8.0</td>\n",
       "    </tr>\n",
       "    <tr>\n",
       "      <th>pc</th>\n",
       "      <td>2000.0</td>\n",
       "      <td>9.91650</td>\n",
       "      <td>6.064315</td>\n",
       "      <td>0.0</td>\n",
       "      <td>5.00</td>\n",
       "      <td>10.0</td>\n",
       "      <td>15.00</td>\n",
       "      <td>20.0</td>\n",
       "    </tr>\n",
       "    <tr>\n",
       "      <th>px_height</th>\n",
       "      <td>2000.0</td>\n",
       "      <td>645.10800</td>\n",
       "      <td>443.780811</td>\n",
       "      <td>0.0</td>\n",
       "      <td>282.75</td>\n",
       "      <td>564.0</td>\n",
       "      <td>947.25</td>\n",
       "      <td>1960.0</td>\n",
       "    </tr>\n",
       "    <tr>\n",
       "      <th>px_width</th>\n",
       "      <td>2000.0</td>\n",
       "      <td>1251.51550</td>\n",
       "      <td>432.199447</td>\n",
       "      <td>500.0</td>\n",
       "      <td>874.75</td>\n",
       "      <td>1247.0</td>\n",
       "      <td>1633.00</td>\n",
       "      <td>1998.0</td>\n",
       "    </tr>\n",
       "    <tr>\n",
       "      <th>ram</th>\n",
       "      <td>2000.0</td>\n",
       "      <td>2124.21300</td>\n",
       "      <td>1084.732044</td>\n",
       "      <td>256.0</td>\n",
       "      <td>1207.50</td>\n",
       "      <td>2146.5</td>\n",
       "      <td>3064.50</td>\n",
       "      <td>3998.0</td>\n",
       "    </tr>\n",
       "    <tr>\n",
       "      <th>sc_h</th>\n",
       "      <td>2000.0</td>\n",
       "      <td>12.30650</td>\n",
       "      <td>4.213245</td>\n",
       "      <td>5.0</td>\n",
       "      <td>9.00</td>\n",
       "      <td>12.0</td>\n",
       "      <td>16.00</td>\n",
       "      <td>19.0</td>\n",
       "    </tr>\n",
       "    <tr>\n",
       "      <th>sc_w</th>\n",
       "      <td>2000.0</td>\n",
       "      <td>5.76700</td>\n",
       "      <td>4.356398</td>\n",
       "      <td>0.0</td>\n",
       "      <td>2.00</td>\n",
       "      <td>5.0</td>\n",
       "      <td>9.00</td>\n",
       "      <td>18.0</td>\n",
       "    </tr>\n",
       "    <tr>\n",
       "      <th>talk_time</th>\n",
       "      <td>2000.0</td>\n",
       "      <td>11.01100</td>\n",
       "      <td>5.463955</td>\n",
       "      <td>2.0</td>\n",
       "      <td>6.00</td>\n",
       "      <td>11.0</td>\n",
       "      <td>16.00</td>\n",
       "      <td>20.0</td>\n",
       "    </tr>\n",
       "    <tr>\n",
       "      <th>three_g</th>\n",
       "      <td>2000.0</td>\n",
       "      <td>0.76150</td>\n",
       "      <td>0.426273</td>\n",
       "      <td>0.0</td>\n",
       "      <td>1.00</td>\n",
       "      <td>1.0</td>\n",
       "      <td>1.00</td>\n",
       "      <td>1.0</td>\n",
       "    </tr>\n",
       "    <tr>\n",
       "      <th>touch_screen</th>\n",
       "      <td>2000.0</td>\n",
       "      <td>0.50300</td>\n",
       "      <td>0.500116</td>\n",
       "      <td>0.0</td>\n",
       "      <td>0.00</td>\n",
       "      <td>1.0</td>\n",
       "      <td>1.00</td>\n",
       "      <td>1.0</td>\n",
       "    </tr>\n",
       "    <tr>\n",
       "      <th>wifi</th>\n",
       "      <td>2000.0</td>\n",
       "      <td>0.50700</td>\n",
       "      <td>0.500076</td>\n",
       "      <td>0.0</td>\n",
       "      <td>0.00</td>\n",
       "      <td>1.0</td>\n",
       "      <td>1.00</td>\n",
       "      <td>1.0</td>\n",
       "    </tr>\n",
       "    <tr>\n",
       "      <th>price_range</th>\n",
       "      <td>2000.0</td>\n",
       "      <td>1.50000</td>\n",
       "      <td>1.118314</td>\n",
       "      <td>0.0</td>\n",
       "      <td>0.75</td>\n",
       "      <td>1.5</td>\n",
       "      <td>2.25</td>\n",
       "      <td>3.0</td>\n",
       "    </tr>\n",
       "  </tbody>\n",
       "</table>\n",
       "</div>"
      ],
      "text/plain": [
       "                count        mean          std    min      25%     50%  \\\n",
       "battery_power  2000.0  1238.51850   439.418206  501.0   851.75  1226.0   \n",
       "blue           2000.0     0.49500     0.500100    0.0     0.00     0.0   \n",
       "clock_speed    2000.0     1.52225     0.816004    0.5     0.70     1.5   \n",
       "dual_sim       2000.0     0.50950     0.500035    0.0     0.00     1.0   \n",
       "fc             2000.0     4.30950     4.341444    0.0     1.00     3.0   \n",
       "four_g         2000.0     0.52150     0.499662    0.0     0.00     1.0   \n",
       "int_memory     2000.0    32.04650    18.145715    2.0    16.00    32.0   \n",
       "m_dep          2000.0     0.50175     0.288416    0.1     0.20     0.5   \n",
       "mobile_wt      2000.0   140.24900    35.399655   80.0   109.00   141.0   \n",
       "n_cores        2000.0     4.52050     2.287837    1.0     3.00     4.0   \n",
       "pc             2000.0     9.91650     6.064315    0.0     5.00    10.0   \n",
       "px_height      2000.0   645.10800   443.780811    0.0   282.75   564.0   \n",
       "px_width       2000.0  1251.51550   432.199447  500.0   874.75  1247.0   \n",
       "ram            2000.0  2124.21300  1084.732044  256.0  1207.50  2146.5   \n",
       "sc_h           2000.0    12.30650     4.213245    5.0     9.00    12.0   \n",
       "sc_w           2000.0     5.76700     4.356398    0.0     2.00     5.0   \n",
       "talk_time      2000.0    11.01100     5.463955    2.0     6.00    11.0   \n",
       "three_g        2000.0     0.76150     0.426273    0.0     1.00     1.0   \n",
       "touch_screen   2000.0     0.50300     0.500116    0.0     0.00     1.0   \n",
       "wifi           2000.0     0.50700     0.500076    0.0     0.00     1.0   \n",
       "price_range    2000.0     1.50000     1.118314    0.0     0.75     1.5   \n",
       "\n",
       "                   75%     max  \n",
       "battery_power  1615.25  1998.0  \n",
       "blue              1.00     1.0  \n",
       "clock_speed       2.20     3.0  \n",
       "dual_sim          1.00     1.0  \n",
       "fc                7.00    19.0  \n",
       "four_g            1.00     1.0  \n",
       "int_memory       48.00    64.0  \n",
       "m_dep             0.80     1.0  \n",
       "mobile_wt       170.00   200.0  \n",
       "n_cores           7.00     8.0  \n",
       "pc               15.00    20.0  \n",
       "px_height       947.25  1960.0  \n",
       "px_width       1633.00  1998.0  \n",
       "ram            3064.50  3998.0  \n",
       "sc_h             16.00    19.0  \n",
       "sc_w              9.00    18.0  \n",
       "talk_time        16.00    20.0  \n",
       "three_g           1.00     1.0  \n",
       "touch_screen      1.00     1.0  \n",
       "wifi              1.00     1.0  \n",
       "price_range       2.25     3.0  "
      ]
     },
     "execution_count": 3,
     "metadata": {},
     "output_type": "execute_result"
    }
   ],
   "source": [
    "df.describe(include=\"all\").T"
   ]
  },
  {
   "cell_type": "code",
   "execution_count": 4,
   "metadata": {},
   "outputs": [],
   "source": [
    "#y = np.array(df[\"price_range\"]).reshape(-1,1)\n",
    "#X = np.array(df.drop(columns={\"price_range\"}))\n",
    "y = df[\"price_range\"]\n",
    "X = df.drop(columns={\"price_range\"})"
   ]
  },
  {
   "cell_type": "code",
   "execution_count": 5,
   "metadata": {},
   "outputs": [
    {
     "data": {
      "text/html": [
       "<div>\n",
       "<style scoped>\n",
       "    .dataframe tbody tr th:only-of-type {\n",
       "        vertical-align: middle;\n",
       "    }\n",
       "\n",
       "    .dataframe tbody tr th {\n",
       "        vertical-align: top;\n",
       "    }\n",
       "\n",
       "    .dataframe thead th {\n",
       "        text-align: right;\n",
       "    }\n",
       "</style>\n",
       "<table border=\"1\" class=\"dataframe\">\n",
       "  <thead>\n",
       "    <tr style=\"text-align: right;\">\n",
       "      <th></th>\n",
       "      <th>mpg</th>\n",
       "      <th>cyl</th>\n",
       "      <th>disp</th>\n",
       "      <th>hp</th>\n",
       "      <th>drat</th>\n",
       "      <th>wt</th>\n",
       "      <th>qsec</th>\n",
       "      <th>vs</th>\n",
       "      <th>am</th>\n",
       "      <th>gear</th>\n",
       "      <th>carb</th>\n",
       "    </tr>\n",
       "  </thead>\n",
       "  <tbody>\n",
       "    <tr>\n",
       "      <th>0</th>\n",
       "      <td>21.0</td>\n",
       "      <td>6</td>\n",
       "      <td>160.0</td>\n",
       "      <td>110</td>\n",
       "      <td>3.90</td>\n",
       "      <td>2.620</td>\n",
       "      <td>16.46</td>\n",
       "      <td>0</td>\n",
       "      <td>1</td>\n",
       "      <td>4</td>\n",
       "      <td>4</td>\n",
       "    </tr>\n",
       "    <tr>\n",
       "      <th>1</th>\n",
       "      <td>21.0</td>\n",
       "      <td>6</td>\n",
       "      <td>160.0</td>\n",
       "      <td>110</td>\n",
       "      <td>3.90</td>\n",
       "      <td>2.875</td>\n",
       "      <td>17.02</td>\n",
       "      <td>0</td>\n",
       "      <td>1</td>\n",
       "      <td>4</td>\n",
       "      <td>4</td>\n",
       "    </tr>\n",
       "    <tr>\n",
       "      <th>2</th>\n",
       "      <td>22.8</td>\n",
       "      <td>4</td>\n",
       "      <td>108.0</td>\n",
       "      <td>93</td>\n",
       "      <td>3.85</td>\n",
       "      <td>2.320</td>\n",
       "      <td>18.61</td>\n",
       "      <td>1</td>\n",
       "      <td>1</td>\n",
       "      <td>4</td>\n",
       "      <td>1</td>\n",
       "    </tr>\n",
       "    <tr>\n",
       "      <th>3</th>\n",
       "      <td>21.4</td>\n",
       "      <td>6</td>\n",
       "      <td>258.0</td>\n",
       "      <td>110</td>\n",
       "      <td>3.08</td>\n",
       "      <td>3.215</td>\n",
       "      <td>19.44</td>\n",
       "      <td>1</td>\n",
       "      <td>0</td>\n",
       "      <td>3</td>\n",
       "      <td>1</td>\n",
       "    </tr>\n",
       "    <tr>\n",
       "      <th>4</th>\n",
       "      <td>18.7</td>\n",
       "      <td>8</td>\n",
       "      <td>360.0</td>\n",
       "      <td>175</td>\n",
       "      <td>3.15</td>\n",
       "      <td>3.440</td>\n",
       "      <td>17.02</td>\n",
       "      <td>0</td>\n",
       "      <td>0</td>\n",
       "      <td>3</td>\n",
       "      <td>2</td>\n",
       "    </tr>\n",
       "  </tbody>\n",
       "</table>\n",
       "</div>"
      ],
      "text/plain": [
       "    mpg  cyl   disp   hp  drat     wt   qsec  vs  am  gear  carb\n",
       "0  21.0    6  160.0  110  3.90  2.620  16.46   0   1     4     4\n",
       "1  21.0    6  160.0  110  3.90  2.875  17.02   0   1     4     4\n",
       "2  22.8    4  108.0   93  3.85  2.320  18.61   1   1     4     1\n",
       "3  21.4    6  258.0  110  3.08  3.215  19.44   1   0     3     1\n",
       "4  18.7    8  360.0  175  3.15  3.440  17.02   0   0     3     2"
      ]
     },
     "execution_count": 5,
     "metadata": {},
     "output_type": "execute_result"
    }
   ],
   "source": [
    "#Load some regression data\n",
    "df_reg = pd.read_csv(\"data/mtcars.csv\")\n",
    "df_reg.drop(columns={\"model\"}, inplace=True)\n",
    "df_reg.head()"
   ]
  },
  {
   "cell_type": "code",
   "execution_count": 6,
   "metadata": {},
   "outputs": [],
   "source": [
    "yreg = df_reg[\"mpg\"]\n",
    "Xreg = df_reg.drop(columns={\"mpg\"})"
   ]
  },
  {
   "cell_type": "markdown",
   "metadata": {},
   "source": [
    "## Variance Threshold\n",
    "\n",
    "One of the most simple screens we can do for the usefullness of a feature is to look at its varaiance. If we have features that are always the same/almost the same value, that's not really very useful in making predictions. \n",
    "\n",
    "By default the variance threshold removes anything with 0 variance, we can provide an argument when creating the function to raise that threshold. \n",
    "\n",
    "The variance threshold is especially usefull where we have a large number of features, where some of them are almost always the same value. E.g. in the US some colleges offer a tuition discount for children of employees. If there was a feature like \"employee_discount_rate\" a few students would have a value, but almost everyone would be 0. This would filter that out. "
   ]
  },
  {
   "cell_type": "code",
   "execution_count": 7,
   "metadata": {},
   "outputs": [
    {
     "name": "stdout",
     "output_type": "stream",
     "text": [
      "(2000, 20)\n",
      "(2000, 18)\n"
     ]
    }
   ],
   "source": [
    "from sklearn.feature_selection import VarianceThreshold\n",
    "var_th = VarianceThreshold(.2)\n",
    "print(X.shape)\n",
    "post_vt = var_th.fit_transform(X)\n",
    "print(post_vt.shape)\n"
   ]
  },
  {
   "cell_type": "markdown",
   "metadata": {},
   "source": [
    "## Univariate Selection \n",
    "\n",
    "Here, we can directly utilize some of those stats skillz to do some feature selection. In stats we saw that if a feature is more correlated with a target, it does a better job of acting as a predictor. This process of feature selection builds on the same concepts. We can use this in combination with some sklearn functions to evaluate that relationship beween targets and features. In sklearn the two features SelectKBest and SelectPercentile can be used to select the best K features or the best percentile of features. \n",
    "\n",
    "The best can be evaluated in different ways depending on if we are doing a regression or classification:\n",
    "<ul>\n",
    "<li><b>Regression:</b> f_regression (correlation), mutual_info_regression (mutual info).\n",
    "<li><b>Classification:</b> f_classif (ANOVA), chi2 (~correlation), mutual_info_classif (mutual info)\n",
    "</ul>\n",
    "\n",
    "### Mutual Information\n",
    "\n",
    "Mutual information feature selection is based on information gain, the same idea that we used to create a tree. Like a tree, this selects variable based on which ones do a better job of increasing the information gain. "
   ]
  },
  {
   "cell_type": "code",
   "execution_count": 8,
   "metadata": {},
   "outputs": [
    {
     "name": "stdout",
     "output_type": "stream",
     "text": [
      "(2000, 15)\n",
      "Index(['battery_power', 'fc', 'four_g', 'int_memory', 'm_dep', 'mobile_wt',\n",
      "       'n_cores', 'pc', 'px_height', 'px_width', 'ram', 'sc_h', 'sc_w',\n",
      "       'talk_time', 'touch_screen'],\n",
      "      dtype='object')\n",
      "(2000, 12)\n",
      "(2000, 10)\n"
     ]
    }
   ],
   "source": [
    "from sklearn.feature_selection import SelectKBest\n",
    "from sklearn.feature_selection import chi2\n",
    "from sklearn.feature_selection import mutual_info_classif\n",
    "from sklearn.feature_selection import SelectPercentile\n",
    "\n",
    "# K best - broken out\n",
    "kb = SelectKBest(chi2, k=15)\n",
    "kb2 = kb.fit(X,y)\n",
    "post_c2 = kb2.transform(X)\n",
    "print(post_c2.shape)\n",
    "\n",
    "#Print the features\n",
    "mask = kb2.get_support()\n",
    "new_features = X.columns[mask]\n",
    "print(new_features)\n",
    "\n",
    "\n",
    "# Percentile - condensed\n",
    "post_per = SelectPercentile(chi2, percentile=60).fit_transform(X,y)\n",
    "print(post_per.shape)\n",
    "\n",
    "#Mutual Info\n",
    "post_mut_inf = SelectPercentile(score_func=mutual_info_classif, percentile=50).fit_transform(X,y.ravel())\n",
    "print(post_mut_inf.shape)"
   ]
  },
  {
   "cell_type": "markdown",
   "metadata": {},
   "source": [
    "## Internal Selection (Embedded)\n",
    "\n",
    "Some algorithms give us 'automatic' feature selection as they create their model, as part of the training process. Some examples are:\n",
    "<ul>\n",
    "<li>Trees\n",
    "<li>Lasso Regression\n",
    "</ul>\n",
    "\n",
    "We can extract the feature selection results and use that to inform us. \n",
    "\n",
    "### Select From Model"
   ]
  },
  {
   "cell_type": "code",
   "execution_count": 9,
   "metadata": {},
   "outputs": [
    {
     "data": {
      "text/plain": [
       "<AxesSubplot:>"
      ]
     },
     "execution_count": 9,
     "metadata": {},
     "output_type": "execute_result"
    },
    {
     "data": {
      "image/png": "[encoded data removed]",
      "text/plain": [
       "<Figure size 432x288 with 1 Axes>"
      ]
     },
     "metadata": {
      "needs_background": "light"
     },
     "output_type": "display_data"
    }
   ],
   "source": [
    "#Forest Example\n",
    "randFor = RandomForestClassifier()\n",
    "\n",
    "randFor.fit(X,y)\n",
    "feat_names = X.columns\n",
    "for_imp = randFor.feature_importances_\n",
    "forest_imp = pd.Series(for_imp, index=feat_names)\n",
    "forest_imp.plot.bar()"
   ]
  },
  {
   "cell_type": "code",
   "execution_count": 10,
   "metadata": {},
   "outputs": [
    {
     "name": "stdout",
     "output_type": "stream",
     "text": [
      "Zero'd: ['cyl' 'drat' 'wt' 'qsec' 'vs' 'am' 'gear' 'carb']\n",
      "Kept: ['disp' 'hp']\n"
     ]
    }
   ],
   "source": [
    "#Lasso\n",
    "lasso = Lasso()\n",
    "x_reg_dum = pd.get_dummies(Xreg, drop_first=True)\n",
    "lasso.fit(x_reg_dum, yreg)\n",
    "coeff = lasso.coef_\n",
    "print(\"Zero'd:\", np.array(x_reg_dum.columns)[coeff==0])\n",
    "print(\"Kept:\", np.array(x_reg_dum.columns)[coeff!=0])"
   ]
  },
  {
   "cell_type": "markdown",
   "metadata": {},
   "source": [
    "### Select from Model\n",
    "\n",
    "We can use the feature selection aspect of models to do some selection in a direct way. "
   ]
  },
  {
   "cell_type": "code",
   "execution_count": 11,
   "metadata": {},
   "outputs": [
    {
     "name": "stdout",
     "output_type": "stream",
     "text": [
      "(32, 2)\n"
     ]
    }
   ],
   "source": [
    "#Lasso based \n",
    "from sklearn.feature_selection import SelectFromModel\n",
    "l1_selection = Lasso().fit(x_reg_dum, yreg)\n",
    "sfm = SelectFromModel(l1_selection, prefit=True)\n",
    "x_reg_new = sfm.transform(x_reg_dum)\n",
    "print(x_reg_new.shape)"
   ]
  },
  {
   "cell_type": "code",
   "execution_count": 12,
   "metadata": {},
   "outputs": [
    {
     "name": "stdout",
     "output_type": "stream",
     "text": [
      "(2000, 4)\n"
     ]
    }
   ],
   "source": [
    "#Tree Based\n",
    "tree_sel = RandomForestClassifier().fit(X, y)\n",
    "sfm_class = SelectFromModel(tree_sel, prefit=True)\n",
    "x_new = sfm_class.transform(X)\n",
    "print(x_new.shape)"
   ]
  },
  {
   "cell_type": "markdown",
   "metadata": {},
   "source": [
    "## Recursive Elimination\n",
    "\n",
    "Note: Recursion is a common programming concept that basically means to continue to repeat the same thing over and over on a smaller version of the same problem. \n",
    "\n",
    "Recursive feature elimination uses recursion to keep removing features, creating a smaller and smaller feature set. So we can basically cut a feature at a time out, create a model, and see how well we're doing. The ranking that we print out assigns all the stuff we keep a 1, and a bigger number to other ones. \n",
    "\n",
    "Note: There is also Sequental Feature Selection, which functions similarly, either removing or adding features one at a time. "
   ]
  },
  {
   "cell_type": "code",
   "execution_count": 13,
   "metadata": {},
   "outputs": [
    {
     "name": "stdout",
     "output_type": "stream",
     "text": [
      "[8 1 1 1 2 1 4 1 5 1 3 7 9 6 1 1 1 1 1 1]\n",
      "Index(['blue', 'clock_speed', 'dual_sim', 'four_g', 'm_dep', 'n_cores', 'sc_h',\n",
      "       'sc_w', 'talk_time', 'three_g', 'touch_screen', 'wifi'],\n",
      "      dtype='object')\n"
     ]
    }
   ],
   "source": [
    "from sklearn.feature_selection import RFE\n",
    "est = LogisticRegression(max_iter=10000, solver=\"saga\")\n",
    "rfe = RFE(estimator=est, n_features_to_select=12, step=1)\n",
    "rfe.fit(X, y)\n",
    "print(rfe.ranking_)\n",
    "mask = rfe.get_support()\n",
    "new_features = X.columns[mask]\n",
    "print(new_features)"
   ]
  },
  {
   "cell_type": "markdown",
   "metadata": {},
   "source": [
    "We can also step this up and search for the optimal number of features. RFECV will do a cross-validation and give us a breakdown of our accuracy with different numbers of features included. We can see the optimal number, as well as the relative scores for each number of features. "
   ]
  },
  {
   "cell_type": "code",
   "execution_count": 14,
   "metadata": {},
   "outputs": [
    {
     "name": "stdout",
     "output_type": "stream",
     "text": [
      "Optimal number of features : 20\n",
      "Index(['battery_power', 'blue', 'clock_speed', 'dual_sim', 'fc', 'four_g',\n",
      "       'int_memory', 'm_dep', 'mobile_wt', 'n_cores', 'pc', 'px_height',\n",
      "       'px_width', 'ram', 'sc_h', 'sc_w', 'talk_time', 'three_g',\n",
      "       'touch_screen', 'wifi'],\n",
      "      dtype='object')\n"
     ]
    },
    {
     "data": {
      "image/png": "[encoded data removed]",
      "text/plain": [
       "<Figure size 432x288 with 1 Axes>"
      ]
     },
     "metadata": {
      "needs_background": "light"
     },
     "output_type": "display_data"
    }
   ],
   "source": [
    "from sklearn.feature_selection import RFECV\n",
    "min_features_to_select = 1  # Minimum number of features to consider\n",
    "rfecv = RFECV(\n",
    "    estimator=est,\n",
    "    step=1,\n",
    "    cv=3,\n",
    "    scoring=\"accuracy\",\n",
    "    min_features_to_select=min_features_to_select,\n",
    ")\n",
    "rfecv.fit(X, y)\n",
    "\n",
    "print(\"Optimal number of features : %d\" % rfecv.n_features_)\n",
    "mask = rfecv.get_support()\n",
    "new_features = X.columns[mask]\n",
    "print(new_features)\n",
    "\n",
    "# Plot number of features VS. cross-validation scores\n",
    "plt.figure()\n",
    "plt.xlabel(\"Number of features selected\")\n",
    "plt.ylabel(\"Cross validation score (accuracy)\")\n",
    "plt.plot(\n",
    "    range(min_features_to_select, len(rfecv.grid_scores_) + min_features_to_select),\n",
    "    rfecv.grid_scores_,\n",
    ")\n",
    "plt.show()"
   ]
  },
  {
   "cell_type": "markdown",
   "metadata": {},
   "source": [
    "### Feature Selection in Pipeline\n",
    "\n",
    "We can stack this feature selection stuff into a pipeline. "
   ]
  },
  {
   "cell_type": "code",
   "execution_count": 15,
   "metadata": {},
   "outputs": [
    {
     "data": {
      "text/plain": [
       "0.86"
      ]
     },
     "execution_count": 15,
     "metadata": {},
     "output_type": "execute_result"
    }
   ],
   "source": [
    "#Add a pipeline\n",
    "model = RandomForestClassifier(n_jobs=-1)\n",
    "pipe_model = LogisticRegression(max_iter=10000, solver=\"saga\")\n",
    "\n",
    "min_features_to_select = 1  # Minimum number of features to consider\n",
    "rfecv_pipe = RFECV(\n",
    "    estimator=pipe_model,\n",
    "    step=1,\n",
    "    cv=3,\n",
    "    scoring=\"accuracy\",\n",
    "    min_features_to_select=min_features_to_select,\n",
    ")\n",
    "\n",
    "X_train_, X_test_, y_train_, y_test_ = train_test_split(X, y)\n",
    "\n",
    "\n",
    "pipeline_steps = [(\"fs\", rfecv_pipe),\n",
    "                ('model', model) ]\n",
    "pipe = Pipeline(pipeline_steps)\n",
    "pipe.fit(X_train_, y_train_)\n",
    "pipe.score(X_test_,y_test_)"
   ]
  },
  {
   "cell_type": "markdown",
   "metadata": {},
   "source": [
    "## Exercise - Feature Selection on Pixels\n",
    "\n",
    "We can try to do some feature selection on the pixels of our number images. The pixels around the edges are pretty much white for every digit, so I suspect that those are somewhat less important than the middle pixels. Remember, each pixel is a feature. "
   ]
  },
  {
   "cell_type": "code",
   "execution_count": 16,
   "metadata": {},
   "outputs": [],
   "source": [
    "#Load mnist data\n",
    "from sklearn.datasets import fetch_openml\n",
    "mnist = fetch_openml('mnist_784', version=1)\n",
    "X, y = mnist[\"data\"], mnist[\"target\"]"
   ]
  },
  {
   "cell_type": "code",
   "execution_count": 17,
   "metadata": {},
   "outputs": [
    {
     "name": "stdout",
     "output_type": "stream",
     "text": [
      "(70000, 784)\n",
      "(70000, 685)\n"
     ]
    }
   ],
   "source": [
    "var_th = VarianceThreshold(.3)\n",
    "print(X.shape)\n",
    "post_vt = var_th.fit_transform(X)\n",
    "print(post_vt.shape)"
   ]
  },
  {
   "cell_type": "code",
   "execution_count": 18,
   "metadata": {},
   "outputs": [],
   "source": [
    "X_train, X_test, y_train, y_test = train_test_split(X[:2000], y[:2000], test_size=0.3)\n"
   ]
  },
  {
   "cell_type": "code",
   "execution_count": 19,
   "metadata": {},
   "outputs": [
    {
     "name": "stdout",
     "output_type": "stream",
     "text": [
      "(1400, 15)\n",
      "Index(['pixel101', 'pixel102', 'pixel359', 'pixel387', 'pixel428', 'pixel456',\n",
      "       'pixel483', 'pixel484', 'pixel511', 'pixel512', 'pixel539', 'pixel540',\n",
      "       'pixel567', 'pixel568', 'pixel596'],\n",
      "      dtype='object')\n",
      "(1400, 470)\n",
      "(1400, 392)\n"
     ]
    }
   ],
   "source": [
    "b = SelectKBest(chi2, k=15)\n",
    "kb2 = kb.fit(X_train,y_train)\n",
    "post_c2 = kb2.transform(X_train)\n",
    "print(post_c2.shape)\n",
    "\n",
    "#Print the features\n",
    "mask = kb2.get_support()\n",
    "new_features = X_train.columns[mask]\n",
    "print(new_features)\n",
    "\n",
    "\n",
    "# Percentile - condensed\n",
    "post_per = SelectPercentile(chi2, percentile=60).fit_transform(X_train,y_train)\n",
    "print(post_per.shape)\n",
    "\n",
    "#Mutual Info\n",
    "post_mut_inf = SelectPercentile(score_func=mutual_info_classif, percentile=50).fit_transform(X_train,y_train.ravel())\n",
    "print(post_mut_inf.shape)"
   ]
  },
  {
   "cell_type": "code",
   "execution_count": 20,
   "metadata": {},
   "outputs": [],
   "source": [
    "#Feature selection 1 - e.g. variance thresh\n",
    "X_train, X_test, y_train, y_test = train_test_split(X[:2000], y[:2000], test_size=0.3)\n",
    "\n"
   ]
  },
  {
   "cell_type": "code",
   "execution_count": 21,
   "metadata": {},
   "outputs": [],
   "source": [
    "#Feature selection 2 - e.g. rfecv\n",
    "#May need to use a subset to keep size manageable. \n",
    "from sklearn.feature_selection import RFECV\n",
    "min_features_to_select = 1  # Minimum number of features to consider\n",
    "rfecv = RFECV(\n",
    "    estimator=est,\n",
    "    step=1,\n",
    "    cv=3,\n",
    "    scoring=\"accuracy\",\n",
    "    min_features_to_select=min_features_to_select,\n",
    ")\n",
    "rfecv.fit(X_train, y_train)\n",
    "\n",
    "print(\"Optimal number of features : %d\" % rfecv.n_features_)\n",
    "mask = rfecv.get_support()\n",
    "new_features = X_train.columns[mask]\n",
    "print(new_features)\n",
    "\n",
    "# Plot number of features VS. cross-validation scores\n",
    "plt.figure()\n",
    "plt.xlabel(\"Number of features selected\")\n",
    "plt.ylabel(\"Cross validation score (accuracy)\")\n",
    "plt.plot(\n",
    "    range(min_features_to_select, len(rfecv.grid_scores_) + min_features_to_select),\n",
    "    rfecv.grid_scores_,\n",
    ")\n",
    "plt.show()"
   ]
  },
  {
   "cell_type": "code",
   "execution_count": null,
   "metadata": {},
   "outputs": [],
   "source": [
    "#Plot Results"
   ]
  },
  {
   "cell_type": "markdown",
   "metadata": {},
   "source": [
    "## Feature Selection on Pixels - Sample Solution\n",
    "\n",
    "We can try to do some feature selection on the pixels of our number images. The pixels around the edges are pretty much white for every digit, so I suspect that those are somewhat less important than the middle pixels. Remember, each pixel is a feature. "
   ]
  },
  {
   "cell_type": "code",
   "execution_count": null,
   "metadata": {},
   "outputs": [
    {
     "name": "stdout",
     "output_type": "stream",
     "text": [
      "(70000, 784)\n",
      "(70000,)\n"
     ]
    }
   ],
   "source": [
    "#Load Data\n",
    "from sklearn.datasets import fetch_openml\n",
    "mnist = fetch_openml('mnist_784', version=1)\n",
    "Xp, yp = mnist[\"data\"], mnist[\"target\"]\n",
    "print(Xp.shape)\n",
    "print(yp.shape)"
   ]
  },
  {
   "cell_type": "markdown",
   "metadata": {},
   "source": [
    "Do a simple filter - check the variance. "
   ]
  },
  {
   "cell_type": "code",
   "execution_count": null,
   "metadata": {},
   "outputs": [
    {
     "name": "stdout",
     "output_type": "stream",
     "text": [
      "(70000, 784)\n",
      "(70000, 685)\n"
     ]
    }
   ],
   "source": [
    "var_pix = VarianceThreshold(.3)\n",
    "print(Xp.shape)\n",
    "post_pix = var_pix.fit_transform(Xp)\n",
    "print(post_pix.shape)"
   ]
  },
  {
   "cell_type": "markdown",
   "metadata": {},
   "source": [
    "Use Recursive Feature Selection. "
   ]
  },
  {
   "cell_type": "code",
   "execution_count": null,
   "metadata": {},
   "outputs": [
    {
     "data": {
      "text/plain": [
       "RFECV(cv=3,\n",
       "      estimator=RandomForestClassifier(ccp_alpha=0.01, n_estimators=30,\n",
       "                                       n_jobs=-1),\n",
       "      min_features_to_select=100, scoring='f1_weighted')"
      ]
     },
     "execution_count": 22,
     "metadata": {},
     "output_type": "execute_result"
    }
   ],
   "source": [
    "min_features = 100\n",
    "est_img = RandomForestClassifier(n_estimators=30, ccp_alpha=.01, n_jobs=-1)\n",
    "rfecvp = RFECV(\n",
    "    estimator=est_img,\n",
    "    step=1,\n",
    "    cv=3,\n",
    "    scoring=\"f1_weighted\",\n",
    "    min_features_to_select=min_features,\n",
    ")\n",
    "rfecvp.fit(Xp[:10000], yp[:10000])"
   ]
  },
  {
   "cell_type": "code",
   "execution_count": null,
   "metadata": {},
   "outputs": [
    {
     "name": "stdout",
     "output_type": "stream",
     "text": [
      "Optimal number of features : 530\n"
     ]
    },
    {
     "data": {
      "image/png": "[encoded data removed]",
      "text/plain": [
       "<Figure size 1440x576 with 1 Axes>"
      ]
     },
     "metadata": {
      "needs_background": "light"
     },
     "output_type": "display_data"
    }
   ],
   "source": [
    "print(\"Optimal number of features : %d\" % rfecvp.n_features_)\n",
    "plt.rcParams[\"figure.figsize\"] = (20,8)\n",
    "# Plot number of features VS. cross-validation scores\n",
    "plt.figure()\n",
    "plt.xlabel(\"Number of features selected\")\n",
    "plt.ylabel(\"Cross validation score (accuracy)\")\n",
    "plt.plot(\n",
    "    range(min_features, len(rfecvp.grid_scores_) + min_features),\n",
    "    rfecvp.grid_scores_,\n",
    ")\n",
    "plt.show()"
   ]
  },
  {
   "cell_type": "markdown",
   "metadata": {},
   "source": [
    "### Results\n",
    "\n",
    "The exact details will vary a bit, but we can see our accuracy flattening out at some point. We could likely filter out ~250 pixels or so from the data and get similar levels of accuracy. Making models on all 70000 images took a while last time with linear regression, so making a change like this will probably save some noticable processing time. On bigger datasets, with more pixels, and more color, these types of changes can start to add up. \n",
    "\n",
    "![Feature Selection](images/feat_sel_pix.png \"Feature Selection\" )\n"
   ]
  }
 ],
 "metadata": {
  "interpreter": {
   "hash": "4d722d3adfa415172c1f5238b519fb86b488acdae450fd691ab06c09f4ca9173"
  },
  "kernelspec": {
   "display_name": "Python 3.9.7 64-bit ('ml3950': conda)",
   "language": "python",
   "name": "python3"
  },
  "language_info": {
   "codemirror_mode": {
    "name": "ipython",
    "version": 3
   },
   "file_extension": ".py",
   "mimetype": "text/x-python",
   "name": "python",
   "nbconvert_exporter": "python",
   "pygments_lexer": "ipython3",
   "version": "3.8.8"
  },
  "orig_nbformat": 4
 },
 "nbformat": 4,
 "nbformat_minor": 2
}
