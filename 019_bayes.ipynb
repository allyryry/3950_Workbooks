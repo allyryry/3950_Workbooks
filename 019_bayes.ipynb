{
 "cells": [
  {
   "cell_type": "code",
   "execution_count": 35,
   "metadata": {},
   "outputs": [],
   "source": [
    "import pandas as pd\n",
    "import numpy as np\n",
    "from sklearn.metrics import accuracy_score\n",
    "from sklearn.model_selection import train_test_split\n",
    "import seaborn as sns\n",
    "import matplotlib as mpl\n",
    "import matplotlib.pyplot as plt\n",
    "\n",
    "from sklearn.compose import ColumnTransformer\n",
    "from sklearn.impute import SimpleImputer\n",
    "from sklearn.preprocessing import OneHotEncoder"
   ]
  },
  {
   "cell_type": "markdown",
   "metadata": {},
   "source": [
    "## Naive Bayes (NB)\n",
    "\n",
    "Recall Bayes' Theorem from stats, based on the idea of conditional probability. Bayes' Theorem tells us that:\n",
    "\n",
    "It states, for two events A & B, if we know the conditional probability of B given A and the probability of B, then it’s possible to calculate the probability of B given A.\n",
    "\n",
    "$ P(y \\mid x_1, \\dots, x_n) = \\frac{P(y) P(x_1, \\dots, x_n \\mid y)} \n",
    "                                 {P(x_1, \\dots, x_n)} $\n",
    "\n",
    "In stats we also looked at Bayesian Interference - where we built tables to update our probabilites as more data was learned. The Naive Bayes algorithm is just that, but on a larger scale. Each feature updates the probabilities just like in a simple Bayes' table calculation we did by hand. We can show an example:\n",
    "\n",
    "\n",
    "![Bayes 1](images/bayes1.png \"Bayes 1\" )\n",
    "\n",
    "Here is the table of all the features and outcomes, the training data. If we use this to create a model, and make a prediction, one sample looks like:\n",
    "\n",
    "\n",
    "![Bayes 2](images/bayes2.png \"Bayes 2\" )\n",
    "\n",
    "Easy, peasy!\n",
    "\n",
    "Bayes' is an algorithm which works well, accurately and quickly, but only in certain scenarios. The simplicity of the Bayes' Theorm based calcualtions have a few key notes:\n",
    "<ul>\n",
    "<li> NB assumes all features are independent. If they are not, accuracy will suffer. In real data, that independance often doesn't exist. \n",
    "<li> NB is generally quite fast. \n",
    "<li> NB often is able to become relatively accurate from small training sets. \n",
    "<li> NB runs into an issue with a value in the test data was not in the training data. Implementations work around this using Laplace smoothing - which just adds a constant (normal alpha) on the top and bottom of the probability equation.\n",
    "![Bayes 2](images/laplace.jpg \"Bayes 2\" )\n",
    "<li> NB probability estimates are not to be relied on, even if the classification is accurate. \n",
    "</ul>\n",
    "\n",
    "Now, Bayes is based on yes/no probabilites for a target outcome, and categorical features as the only inputs. Implementations of NB differ to handle these scenarios, sklearn has several. Two important ones are:\n",
    "<ul>\n",
    "<li> Gaussian Naive Bayes - assumes numerical features are distributed along a normal distribution. This is very common as regular Bayes can't handle numerical features. \n",
    "<li> Multinomial Naive Bayes - generates predictions into 3+ outcome classes. \n",
    "</ul>\n",
    "\n",
    "Bayes is commonly used for things like spam detection, where high speed yes/no classification is required. \n",
    "\n",
    "### Laplace Smoothing\n",
    "\n",
    "One critical issue with Bayes is a scenario where we get a feature value to predict that wan't in the training set. For example, what if we had a value for Windy that was \"gale force\" in something that we tried to predict. There would be no existing probability info for that, since it wasn't in the training data. This is known as the Zero Probability Problem. \n",
    "\n",
    "This is mitigated by something called Laplace Smoothing, which inserts a constant alpha (often/usually 1), on both the top and bottom of the probability calculations. This ensures that we don't encounter a scenario where we are dividing by 0, without substantially changing the probability calculations. Alpha is a hyperparameter that we can select, doing things like a grid search to find the best solution for our data. \n",
    "\n",
    "![Laplace](images/laplace.png \"Laplace\" )"
   ]
  },
  {
   "cell_type": "markdown",
   "metadata": {},
   "source": [
    "## Bayes from Scratch\n",
    "\n",
    "We can build a really simple implementation of Bayes. Our dataset is a bunch of simple categorical variables, the number of records is small, and our target is a boolean (yes/no). Great candidate. "
   ]
  },
  {
   "cell_type": "code",
   "execution_count": 36,
   "metadata": {},
   "outputs": [
    {
     "data": {
      "text/html": [
       "<div>\n",
       "<style scoped>\n",
       "    .dataframe tbody tr th:only-of-type {\n",
       "        vertical-align: middle;\n",
       "    }\n",
       "\n",
       "    .dataframe tbody tr th {\n",
       "        vertical-align: top;\n",
       "    }\n",
       "\n",
       "    .dataframe thead th {\n",
       "        text-align: right;\n",
       "    }\n",
       "</style>\n",
       "<table border=\"1\" class=\"dataframe\">\n",
       "  <thead>\n",
       "    <tr style=\"text-align: right;\">\n",
       "      <th></th>\n",
       "      <th>Outlook</th>\n",
       "      <th>Temp</th>\n",
       "      <th>Humidity</th>\n",
       "      <th>Windy</th>\n",
       "      <th>Play Golf</th>\n",
       "    </tr>\n",
       "  </thead>\n",
       "  <tbody>\n",
       "    <tr>\n",
       "      <th>0</th>\n",
       "      <td>Rainy</td>\n",
       "      <td>Hot</td>\n",
       "      <td>High</td>\n",
       "      <td>False</td>\n",
       "      <td>No</td>\n",
       "    </tr>\n",
       "    <tr>\n",
       "      <th>1</th>\n",
       "      <td>Rainy</td>\n",
       "      <td>Hot</td>\n",
       "      <td>High</td>\n",
       "      <td>True</td>\n",
       "      <td>No</td>\n",
       "    </tr>\n",
       "    <tr>\n",
       "      <th>2</th>\n",
       "      <td>Overcast</td>\n",
       "      <td>Hot</td>\n",
       "      <td>High</td>\n",
       "      <td>False</td>\n",
       "      <td>Yes</td>\n",
       "    </tr>\n",
       "    <tr>\n",
       "      <th>3</th>\n",
       "      <td>Sunny</td>\n",
       "      <td>Mild</td>\n",
       "      <td>High</td>\n",
       "      <td>False</td>\n",
       "      <td>Yes</td>\n",
       "    </tr>\n",
       "    <tr>\n",
       "      <th>4</th>\n",
       "      <td>Sunny</td>\n",
       "      <td>Cool</td>\n",
       "      <td>Normal</td>\n",
       "      <td>False</td>\n",
       "      <td>Yes</td>\n",
       "    </tr>\n",
       "  </tbody>\n",
       "</table>\n",
       "</div>"
      ],
      "text/plain": [
       "    Outlook  Temp Humidity  Windy Play Golf\n",
       "0     Rainy   Hot     High  False        No\n",
       "1     Rainy   Hot     High   True        No\n",
       "2  Overcast   Hot     High  False       Yes\n",
       "3     Sunny  Mild     High  False       Yes\n",
       "4     Sunny  Cool   Normal  False       Yes"
      ]
     },
     "execution_count": 36,
     "metadata": {},
     "output_type": "execute_result"
    }
   ],
   "source": [
    "df = pd.read_csv(\"data/golf-dataset.csv\")\n",
    "df.head()"
   ]
  },
  {
   "cell_type": "code",
   "execution_count": 37,
   "metadata": {},
   "outputs": [],
   "source": [
    "class  MyNaiveBayes:\n",
    "\n",
    "\t\"\"\"\n",
    "\t\tBayes Theorem:\n",
    "\t\t\t\t\t\t\t\t\t\tLikelihood * Class prior probability\n",
    "\t\t\t\tPosterior Probability = -------------------------------------\n",
    "\t\t\t\t\t\t\t\t\t\t\tPredictor prior probability\n",
    "\t\t\t\t\n",
    "\t\t\t\t\t\t\t  \t\t\t P(x|c) * p(c)\n",
    "\t\t\t\t\t\t\t   P(c|x) = ------------------ \n",
    "\t\t\t\t\t\t\t\t\t\t\t  P(x)\n",
    "\t\"\"\"\n",
    "\n",
    "\tdef __init__(self):\n",
    "\n",
    "\t\t\"\"\"\n",
    "\t\t\tAttributes:\n",
    "\t\t\t\tlikelihoods: Likelihood of each feature per class\n",
    "\t\t\t\tclass_priors: Prior probabilities of classes \n",
    "\t\t\t\tpred_priors: Prior probabilities of features \n",
    "\t\t\t\tfeatures: All features of dataset\n",
    "\t\t\"\"\"\n",
    "\t\tself.features = list\n",
    "\t\tself.likelihoods = {}\n",
    "\t\tself.class_priors = {}\n",
    "\t\tself.pred_priors = {}\n",
    "\n",
    "\t\tself.X_train = np.array\n",
    "\t\tself.y_train = np.array\n",
    "\t\tself.train_size = int\n",
    "\t\tself.num_feats = int\n",
    "\n",
    "\tdef fit(self, X, y):\n",
    "\n",
    "\t\tself.features = list(X.columns)\n",
    "\t\tself.X_train = X\n",
    "\t\tself.y_train = y\n",
    "\t\tself.train_size = X.shape[0]\n",
    "\t\tself.num_feats = X.shape[1]\n",
    "\n",
    "\t\tfor feature in self.features:\n",
    "\t\t\tself.likelihoods[feature] = {}\n",
    "\t\t\tself.pred_priors[feature] = {}\n",
    "\n",
    "\t\t\tfor feat_val in np.unique(self.X_train[feature]):\n",
    "\t\t\t\tself.pred_priors[feature].update({feat_val: 0})\n",
    "\n",
    "\t\t\t\tfor outcome in np.unique(self.y_train):\n",
    "\t\t\t\t\tself.likelihoods[feature].update({feat_val+\"_\"+outcome:0})\n",
    "\t\t\t\t\tself.class_priors.update({outcome: 0})\n",
    "\n",
    "\t\tself._calc_class_prior()\n",
    "\t\tself._calc_likelihoods()\n",
    "\t\tself._calc_predictor_prior()\n",
    "\n",
    "\tdef _calc_class_prior(self):\n",
    "\n",
    "\t\t\"\"\" P(c) - Prior Class Probability \"\"\"\n",
    "\n",
    "\t\tfor outcome in np.unique(self.y_train):\n",
    "\t\t\t# Complete - Calculate class priors\n",
    "\t\t\t# Store in self.class_priors dictionary\n",
    "\n",
    "\n",
    "\tdef _calc_likelihoods(self):\n",
    "\n",
    "\t\t\"\"\" P(x|c) - Likelihood \"\"\"\n",
    "\n",
    "\t\tfor feature in self.features:\n",
    "\n",
    "\t\t\tfor outcome in np.unique(self.y_train):\n",
    "\t\t\t\t# Complete - Calculate likelihoods\n",
    "\t\t\t\t# Store in self.likelihoods dictionary\n",
    "\t\t\t\t# Note: the likelihoods are stored for both yes and no in the format: feat_val + '_' + outcome\n",
    "\t\t\t\t# See sample output for example\n",
    "\n",
    "\n",
    "\tdef _calc_predictor_prior(self):\n",
    "\n",
    "\t\t\"\"\" P(x) - Evidence \"\"\"\n",
    "\n",
    "\t\tfor feature in self.features:\n",
    "\t\t\t# Caclulate priors for the predictors\n",
    "\t\t\t# Store in self.pred_priors\n",
    "\t\t\t# Probability of each outcome for each feature\n",
    "\n",
    "\n",
    "\tdef predict(self, X):\n",
    "\n",
    "\t\t\"\"\" Calculates Posterior probability P(c|x) \"\"\"\n",
    "\n",
    "\t\tresults = []\n",
    "\t\tX = np.array(X)\n",
    "\n",
    "\t\tfor query in X:\n",
    "\t\t\tprobs_outcome = {}\n",
    "\t\t\tfor outcome in np.unique(self.y_train):\n",
    "\t\t\t\tprior = self.class_priors[outcome]\n",
    "\t\t\t\tlikelihood = 1\n",
    "\t\t\t\tevidence = 1\n",
    "\n",
    "\t\t\t\tfor feat, feat_val in zip(self.features, query):\n",
    "\t\t\t\t\tlikelihood *= self.likelihoods[feat][feat_val + '_' + outcome]\n",
    "\t\t\t\t\tevidence *= self.pred_priors[feat][feat_val]\n",
    "\n",
    "\t\t\t\tposterior = (likelihood * prior) / (evidence)\n",
    "\t\t\t\tprobs_outcome[outcome] = posterior\n",
    "\n",
    "\t\t\tresult = max(probs_outcome, key = lambda x: probs_outcome[x])\n",
    "\t\t\tresults.append(result)\n",
    "\n",
    "\t\treturn np.array(results)"
   ]
  },
  {
   "cell_type": "code",
   "execution_count": 38,
   "metadata": {},
   "outputs": [
    {
     "name": "stdout",
     "output_type": "stream",
     "text": [
      "0.9285714285714286\n"
     ]
    }
   ],
   "source": [
    "y = df[\"Play Golf\"]\n",
    "X = df.drop(columns={\"Play Golf\"})\n",
    "X[\"Windy\"] = X[\"Windy\"].astype(\"str\")\n",
    "\n",
    "nb_clf = MyNaiveBayes()\n",
    "nb_clf.fit(X, y)\n",
    "\n",
    "print(accuracy_score(y, nb_clf.predict(X)))"
   ]
  },
  {
   "cell_type": "code",
   "execution_count": 39,
   "metadata": {},
   "outputs": [],
   "source": [
    "# With Proper Data Prep - though the dataset is small, so this won't be the best example. \n",
    "#X_train, X_test, y_train, y_test = train_test_split(X, y)\n",
    "#nb_clf.fit(X_train, y_train)\n",
    "#nb_preds = nb_clf.predict(X_test)\n",
    "#print(accuracy_score(y_test, nb_preds))"
   ]
  },
  {
   "cell_type": "markdown",
   "metadata": {},
   "source": [
    "#### Predict if we Should Golf on Some Random Days\n",
    "\n",
    "Create a dataframe with some days of weather and predict them. Note that the model (probably, unless you made it better) expects True/False to be strings, not booleans. Your dataframe should be in the same format as the feature set - X"
   ]
  },
  {
   "cell_type": "code",
   "execution_count": 40,
   "metadata": {},
   "outputs": [
    {
     "name": "stdout",
     "output_type": "stream",
     "text": [
      "['No' 'Yes']\n"
     ]
    },
    {
     "data": {
      "text/html": [
       "<div>\n",
       "<style scoped>\n",
       "    .dataframe tbody tr th:only-of-type {\n",
       "        vertical-align: middle;\n",
       "    }\n",
       "\n",
       "    .dataframe tbody tr th {\n",
       "        vertical-align: top;\n",
       "    }\n",
       "\n",
       "    .dataframe thead th {\n",
       "        text-align: right;\n",
       "    }\n",
       "</style>\n",
       "<table border=\"1\" class=\"dataframe\">\n",
       "  <thead>\n",
       "    <tr style=\"text-align: right;\">\n",
       "      <th></th>\n",
       "      <th>Outlook</th>\n",
       "      <th>Temp</th>\n",
       "      <th>Humidity</th>\n",
       "      <th>Windy</th>\n",
       "    </tr>\n",
       "  </thead>\n",
       "  <tbody>\n",
       "    <tr>\n",
       "      <th>0</th>\n",
       "      <td>Rainy</td>\n",
       "      <td>Hot</td>\n",
       "      <td>High</td>\n",
       "      <td>False</td>\n",
       "    </tr>\n",
       "    <tr>\n",
       "      <th>1</th>\n",
       "      <td>Sunny</td>\n",
       "      <td>Mild</td>\n",
       "      <td>High</td>\n",
       "      <td>False</td>\n",
       "    </tr>\n",
       "  </tbody>\n",
       "</table>\n",
       "</div>"
      ],
      "text/plain": [
       "  Outlook  Temp Humidity  Windy\n",
       "0   Rainy   Hot     High  False\n",
       "1   Sunny  Mild     High  False"
      ]
     },
     "execution_count": 40,
     "metadata": {},
     "output_type": "execute_result"
    }
   ],
   "source": [
    "# Complete - add in a dataframe of days. \n",
    "# Predict if we should golf on those days. "
   ]
  },
  {
   "cell_type": "markdown",
   "metadata": {},
   "source": [
    "## Sklearn\n",
    "\n",
    "Our Bayes works, but we can use sklearn for something that we are used to using, and is a bit more polished and better written. Multinomial NB is the default, it will work for both binary predictions, like we are doing, and multiple class predictions. \n",
    "\n",
    "Applying Bayes in code is similar to all the other algorithms. Here we'll encode the categories to make it work since the algorithm doesn't deal with strings, sklearn's implementation requires this, but it isn't inheirent to the algorithm. \n"
   ]
  },
  {
   "cell_type": "code",
   "execution_count": 45,
   "metadata": {},
   "outputs": [],
   "source": [
    "y = df[\"Play Golf\"]\n",
    "X = df.drop(columns={\"Play Golf\"})"
   ]
  },
  {
   "cell_type": "code",
   "execution_count": 46,
   "metadata": {},
   "outputs": [
    {
     "data": {
      "text/plain": [
       "0.9285714285714286"
      ]
     },
     "execution_count": 46,
     "metadata": {},
     "output_type": "execute_result"
    }
   ],
   "source": [
    "from sklearn.naive_bayes import MultinomialNB\n",
    "from sklearn.pipeline import Pipeline\n",
    "from sklearn.preprocessing import OneHotEncoder\n",
    "\n",
    "mnb = MultinomialNB()\n",
    "mnb_pipe = Pipeline([\n",
    "    (\"encode\", OneHotEncoder()),\n",
    "    (\"model\", mnb)\n",
    "])\n",
    "mnb_pipe.fit(X, y)\n",
    "sk_preds = mnb_pipe.predict(X)\n",
    "accuracy_score(sk_preds, y)"
   ]
  },
  {
   "cell_type": "code",
   "execution_count": 47,
   "metadata": {},
   "outputs": [
    {
     "data": {
      "text/plain": [
       "array(['No', 'Yes'], dtype='<U3')"
      ]
     },
     "execution_count": 47,
     "metadata": {},
     "output_type": "execute_result"
    }
   ],
   "source": [
    "# Complete - predict our sample days using the sklearn model"
   ]
  },
  {
   "cell_type": "markdown",
   "metadata": {},
   "source": [
    "## Gaussian Bayes\n",
    "\n",
    "As we noted, regular Naive Bayes doesn't deal with numbers, so we can used Gaussian Bayes to handle those scenarios. Every step of the algorithm just requires a probability that something will occur or not occur. With categorical variables that calculation is very simple - count the number of times that it happens and divide by the total. With numerical values there isn't a direct equivalent. \n",
    "\n",
    "Rather than looking at the probability that something happens or doesn't happen, Gaussian NB calculates the probability of being in class A or B according to a normal distribution of the numerical feature. Outside of the different calculations of probability, the rest of the algorithm works in the same way as before. \n",
    "\n",
    "\n",
    "![GNB](images/gauss_dist.png \"GNB\" )"
   ]
  },
  {
   "cell_type": "code",
   "execution_count": 48,
   "metadata": {},
   "outputs": [
    {
     "data": {
      "text/html": [
       "<div>\n",
       "<style scoped>\n",
       "    .dataframe tbody tr th:only-of-type {\n",
       "        vertical-align: middle;\n",
       "    }\n",
       "\n",
       "    .dataframe tbody tr th {\n",
       "        vertical-align: top;\n",
       "    }\n",
       "\n",
       "    .dataframe thead th {\n",
       "        text-align: right;\n",
       "    }\n",
       "</style>\n",
       "<table border=\"1\" class=\"dataframe\">\n",
       "  <thead>\n",
       "    <tr style=\"text-align: right;\">\n",
       "      <th></th>\n",
       "      <th>Pregnancies</th>\n",
       "      <th>Glucose</th>\n",
       "      <th>BloodPressure</th>\n",
       "      <th>SkinThickness</th>\n",
       "      <th>Insulin</th>\n",
       "      <th>BMI</th>\n",
       "      <th>DiabetesPedigreeFunction</th>\n",
       "      <th>Age</th>\n",
       "      <th>Outcome</th>\n",
       "    </tr>\n",
       "  </thead>\n",
       "  <tbody>\n",
       "    <tr>\n",
       "      <th>0</th>\n",
       "      <td>6</td>\n",
       "      <td>148</td>\n",
       "      <td>72</td>\n",
       "      <td>35</td>\n",
       "      <td>0</td>\n",
       "      <td>33.6</td>\n",
       "      <td>0.627</td>\n",
       "      <td>50</td>\n",
       "      <td>1</td>\n",
       "    </tr>\n",
       "    <tr>\n",
       "      <th>1</th>\n",
       "      <td>1</td>\n",
       "      <td>85</td>\n",
       "      <td>66</td>\n",
       "      <td>29</td>\n",
       "      <td>0</td>\n",
       "      <td>26.6</td>\n",
       "      <td>0.351</td>\n",
       "      <td>31</td>\n",
       "      <td>0</td>\n",
       "    </tr>\n",
       "    <tr>\n",
       "      <th>2</th>\n",
       "      <td>8</td>\n",
       "      <td>183</td>\n",
       "      <td>64</td>\n",
       "      <td>0</td>\n",
       "      <td>0</td>\n",
       "      <td>23.3</td>\n",
       "      <td>0.672</td>\n",
       "      <td>32</td>\n",
       "      <td>1</td>\n",
       "    </tr>\n",
       "    <tr>\n",
       "      <th>3</th>\n",
       "      <td>1</td>\n",
       "      <td>89</td>\n",
       "      <td>66</td>\n",
       "      <td>23</td>\n",
       "      <td>94</td>\n",
       "      <td>28.1</td>\n",
       "      <td>0.167</td>\n",
       "      <td>21</td>\n",
       "      <td>0</td>\n",
       "    </tr>\n",
       "    <tr>\n",
       "      <th>4</th>\n",
       "      <td>0</td>\n",
       "      <td>137</td>\n",
       "      <td>40</td>\n",
       "      <td>35</td>\n",
       "      <td>168</td>\n",
       "      <td>43.1</td>\n",
       "      <td>2.288</td>\n",
       "      <td>33</td>\n",
       "      <td>1</td>\n",
       "    </tr>\n",
       "  </tbody>\n",
       "</table>\n",
       "</div>"
      ],
      "text/plain": [
       "   Pregnancies  Glucose  BloodPressure  SkinThickness  Insulin   BMI  \\\n",
       "0            6      148             72             35        0  33.6   \n",
       "1            1       85             66             29        0  26.6   \n",
       "2            8      183             64              0        0  23.3   \n",
       "3            1       89             66             23       94  28.1   \n",
       "4            0      137             40             35      168  43.1   \n",
       "\n",
       "   DiabetesPedigreeFunction  Age  Outcome  \n",
       "0                     0.627   50        1  \n",
       "1                     0.351   31        0  \n",
       "2                     0.672   32        1  \n",
       "3                     0.167   21        0  \n",
       "4                     2.288   33        1  "
      ]
     },
     "execution_count": 48,
     "metadata": {},
     "output_type": "execute_result"
    }
   ],
   "source": [
    "from sklearn.naive_bayes import GaussianNB\n",
    "df_gaus = pd.read_csv(\"data/diabetes.csv\")\n",
    "df_gaus_y = df_gaus[\"Outcome\"]\n",
    "df_gaus_X = df_gaus.drop(columns={\"Outcome\"})\n",
    "df_gaus.head()"
   ]
  },
  {
   "cell_type": "markdown",
   "metadata": {},
   "source": [
    "#### Distributions\n",
    "\n",
    "We can make a plot as a shortcut to see the distributions of the numerical variables split by outcome class. If we look at the comparative distributions we can get a sense of the relative probabilities that are used in the calculations. \n",
    "\n",
    "For example, if we look at the Glucose feature. If we have an example with a glucose value of 100, the probability of that example being in class 0 is quite high, whereas the probability of it being in class 1 is low. If we have a sample that is 200, the probability of that being in class 1 is much higher. "
   ]
  },
  {
   "cell_type": "code",
   "execution_count": 49,
   "metadata": {},
   "outputs": [
    {
     "data": {
      "text/plain": [
       "<AxesSubplot:xlabel='Glucose', ylabel='Density'>"
      ]
     },
     "execution_count": 49,
     "metadata": {},
     "output_type": "execute_result"
    },
    {
     "data": {
      "image/png": "[encoded data removed]",
      "text/plain": [
       "<Figure size 432x288 with 1 Axes>"
      ]
     },
     "metadata": {
      "needs_background": "light"
     },
     "output_type": "display_data"
    }
   ],
   "source": [
    "sns.kdeplot(data=df_gaus, x=\"Glucose\", hue=\"Outcome\")"
   ]
  },
  {
   "cell_type": "code",
   "execution_count": 51,
   "metadata": {},
   "outputs": [
    {
     "data": {
      "text/plain": [
       "0.7239583333333334"
      ]
     },
     "execution_count": 51,
     "metadata": {},
     "output_type": "execute_result"
    }
   ],
   "source": [
    "# Split data - this one has enough data to function properly\n",
    "X_train_gaus, X_test_gaus, y_train_gaus, y_test_gaus = train_test_split(df_gaus_X, df_gaus_y)\n",
    "\n",
    "# Model and predict\n",
    "gaus_NB = GaussianNB()\n",
    "gaus_NB.fit(X_train_gaus, y_train_gaus)\n",
    "gaus_preds = gaus_NB.predict(X_test_gaus)\n",
    "accuracy_score(y_test_gaus, gaus_preds)"
   ]
  },
  {
   "cell_type": "markdown",
   "metadata": {},
   "source": [
    "#### Scaling\n",
    "\n",
    "Note that because in Bayes the features are independent of each other, there is no interaction between them with respect to calculations. When the probabilities are calculated for each feature, they dont depend on any other features - contrasted with something like linear regresion, where m1*x1 + m2*x2... will. \n",
    "\n",
    "Because of this, Bayes is one of the few things where scaling doesn't matter, though it also doesn't hurt if it is in there. "
   ]
  },
  {
   "cell_type": "code",
   "execution_count": 52,
   "metadata": {},
   "outputs": [],
   "source": [
    "from sklearn.pipeline import Pipeline\n",
    "from sklearn.preprocessing import StandardScaler"
   ]
  },
  {
   "cell_type": "code",
   "execution_count": 53,
   "metadata": {},
   "outputs": [
    {
     "data": {
      "text/plain": [
       "0.7239583333333334"
      ]
     },
     "execution_count": 53,
     "metadata": {},
     "output_type": "execute_result"
    }
   ],
   "source": [
    "pipe_gaus = Pipeline([\n",
    "    (\"scale\", StandardScaler()),\n",
    "    (\"model\", GaussianNB())\n",
    "])\n",
    "pipe_gaus.fit(X_train_gaus, y_train_gaus)\n",
    "pipe_gaus_preds = pipe_gaus.predict(X_test_gaus)\n",
    "accuracy_score(y_test_gaus, pipe_gaus_preds)"
   ]
  },
  {
   "cell_type": "markdown",
   "metadata": {},
   "source": [
    "#### Exercise\n",
    "\n",
    "Predict if people have heart disease with Gaussian NB. Note that we have mixed column types for features. "
   ]
  },
  {
   "cell_type": "code",
   "execution_count": 54,
   "metadata": {},
   "outputs": [
    {
     "data": {
      "text/html": [
       "<div>\n",
       "<style scoped>\n",
       "    .dataframe tbody tr th:only-of-type {\n",
       "        vertical-align: middle;\n",
       "    }\n",
       "\n",
       "    .dataframe tbody tr th {\n",
       "        vertical-align: top;\n",
       "    }\n",
       "\n",
       "    .dataframe thead th {\n",
       "        text-align: right;\n",
       "    }\n",
       "</style>\n",
       "<table border=\"1\" class=\"dataframe\">\n",
       "  <thead>\n",
       "    <tr style=\"text-align: right;\">\n",
       "      <th></th>\n",
       "      <th>Age</th>\n",
       "      <th>Sex</th>\n",
       "      <th>ChestPainType</th>\n",
       "      <th>RestingBP</th>\n",
       "      <th>Cholesterol</th>\n",
       "      <th>FastingBS</th>\n",
       "      <th>RestingECG</th>\n",
       "      <th>MaxHR</th>\n",
       "      <th>ExerciseAngina</th>\n",
       "      <th>Oldpeak</th>\n",
       "      <th>ST_Slope</th>\n",
       "      <th>HeartDisease</th>\n",
       "    </tr>\n",
       "  </thead>\n",
       "  <tbody>\n",
       "    <tr>\n",
       "      <th>0</th>\n",
       "      <td>40</td>\n",
       "      <td>M</td>\n",
       "      <td>ATA</td>\n",
       "      <td>140</td>\n",
       "      <td>289</td>\n",
       "      <td>0</td>\n",
       "      <td>Normal</td>\n",
       "      <td>172</td>\n",
       "      <td>N</td>\n",
       "      <td>0.0</td>\n",
       "      <td>Up</td>\n",
       "      <td>0</td>\n",
       "    </tr>\n",
       "    <tr>\n",
       "      <th>1</th>\n",
       "      <td>49</td>\n",
       "      <td>F</td>\n",
       "      <td>NAP</td>\n",
       "      <td>160</td>\n",
       "      <td>180</td>\n",
       "      <td>0</td>\n",
       "      <td>Normal</td>\n",
       "      <td>156</td>\n",
       "      <td>N</td>\n",
       "      <td>1.0</td>\n",
       "      <td>Flat</td>\n",
       "      <td>1</td>\n",
       "    </tr>\n",
       "    <tr>\n",
       "      <th>2</th>\n",
       "      <td>37</td>\n",
       "      <td>M</td>\n",
       "      <td>ATA</td>\n",
       "      <td>130</td>\n",
       "      <td>283</td>\n",
       "      <td>0</td>\n",
       "      <td>ST</td>\n",
       "      <td>98</td>\n",
       "      <td>N</td>\n",
       "      <td>0.0</td>\n",
       "      <td>Up</td>\n",
       "      <td>0</td>\n",
       "    </tr>\n",
       "    <tr>\n",
       "      <th>3</th>\n",
       "      <td>48</td>\n",
       "      <td>F</td>\n",
       "      <td>ASY</td>\n",
       "      <td>138</td>\n",
       "      <td>214</td>\n",
       "      <td>0</td>\n",
       "      <td>Normal</td>\n",
       "      <td>108</td>\n",
       "      <td>Y</td>\n",
       "      <td>1.5</td>\n",
       "      <td>Flat</td>\n",
       "      <td>1</td>\n",
       "    </tr>\n",
       "    <tr>\n",
       "      <th>4</th>\n",
       "      <td>54</td>\n",
       "      <td>M</td>\n",
       "      <td>NAP</td>\n",
       "      <td>150</td>\n",
       "      <td>195</td>\n",
       "      <td>0</td>\n",
       "      <td>Normal</td>\n",
       "      <td>122</td>\n",
       "      <td>N</td>\n",
       "      <td>0.0</td>\n",
       "      <td>Up</td>\n",
       "      <td>0</td>\n",
       "    </tr>\n",
       "  </tbody>\n",
       "</table>\n",
       "</div>"
      ],
      "text/plain": [
       "   Age Sex ChestPainType  RestingBP  Cholesterol  FastingBS RestingECG  MaxHR  \\\n",
       "0   40   M           ATA        140          289          0     Normal    172   \n",
       "1   49   F           NAP        160          180          0     Normal    156   \n",
       "2   37   M           ATA        130          283          0         ST     98   \n",
       "3   48   F           ASY        138          214          0     Normal    108   \n",
       "4   54   M           NAP        150          195          0     Normal    122   \n",
       "\n",
       "  ExerciseAngina  Oldpeak ST_Slope  HeartDisease  \n",
       "0              N      0.0       Up             0  \n",
       "1              N      1.0     Flat             1  \n",
       "2              N      0.0       Up             0  \n",
       "3              Y      1.5     Flat             1  \n",
       "4              N      0.0       Up             0  "
      ]
     },
     "execution_count": 54,
     "metadata": {},
     "output_type": "execute_result"
    }
   ],
   "source": [
    "heart = pd.read_csv(\"data/heart.csv\")\n",
    "y_h = heart[\"HeartDisease\"]\n",
    "X_h = heart.drop(columns={\"HeartDisease\"})\n",
    "heart.head()"
   ]
  },
  {
   "cell_type": "code",
   "execution_count": 55,
   "metadata": {},
   "outputs": [
    {
     "data": {
      "text/plain": [
       "0.8695652173913043"
      ]
     },
     "execution_count": 55,
     "metadata": {},
     "output_type": "execute_result"
    }
   ],
   "source": [
    "# Complete - predict heart disease"
   ]
  }
 ],
 "metadata": {
  "interpreter": {
   "hash": "4d722d3adfa415172c1f5238b519fb86b488acdae450fd691ab06c09f4ca9173"
  },
  "kernelspec": {
   "display_name": "Python 3.9.7 64-bit ('ml3950': conda)",
   "language": "python",
   "name": "python3"
  },
  "language_info": {
   "codemirror_mode": {
    "name": "ipython",
    "version": 3
   },
   "file_extension": ".py",
   "mimetype": "text/x-python",
   "name": "python",
   "nbconvert_exporter": "python",
   "pygments_lexer": "ipython3",
   "version": "3.9.7"
  },
  "orig_nbformat": 4
 },
 "nbformat": 4,
 "nbformat_minor": 2
}
